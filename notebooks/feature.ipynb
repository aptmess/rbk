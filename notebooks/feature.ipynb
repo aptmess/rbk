{
 "cells": [
  {
   "cell_type": "code",
   "execution_count": 416,
   "id": "organic-reward",
   "metadata": {
    "pycharm": {
     "name": "#%%\n"
    }
   },
   "outputs": [],
   "source": [
    "import sys\n",
    "import optuna\n",
    "import datetime\n",
    "import numpy as np\n",
    "import pandas as pd\n",
    "import tokenizers\n",
    "import sklearn as sk\n",
    "import seaborn as sns\n",
    "import lightgbm as lgb\n",
    "import matplotlib.pyplot as plt\n",
    "import transformers\n",
    "\n",
    "from sklearn.metrics import r2_score\n",
    "from sklearn.model_selection import train_test_split, cross_val_predict, KFold\n",
    "from sklearn.ensemble import RandomForestRegressor, ExtraTreesRegressor\n",
    "\n",
    "sys.path.append('..')\n",
    "\n",
    "from definitions import INPUT_DATA_DIR, PARSED_DATA_DIR, SUB_DIR, FULL_DATA_DIR, INPUT_DATA_DIR, AUTHORS_DIR\n",
    "\n",
    "%reload_ext autoreload\n",
    "%autoreload 2"
   ]
  },
  {
   "cell_type": "code",
   "execution_count": 417,
   "id": "electoral-branch",
   "metadata": {
    "pycharm": {
     "name": "#%%\n"
    }
   },
   "outputs": [
    {
     "name": "stdout",
     "output_type": "stream",
     "text": [
      "{'lightgbm': '3.3.2', 'pandas': '1.4.3', 'numpy': '1.23.1', 'scikit-learn': '1.1.1'}\n"
     ]
    }
   ],
   "source": [
    "version = {\n",
    "    'lightgbm': lgb.__version__,\n",
    "    'pandas': pd.__version__,\n",
    "    'numpy': np.__version__,\n",
    "    'scikit-learn': sk.__version__ \n",
    "}\n",
    "print(version)"
   ]
  },
  {
   "cell_type": "markdown",
   "id": "infinite-meaning",
   "metadata": {
    "pycharm": {
     "name": "#%% md\n"
    }
   },
   "source": [
    "## Данные"
   ]
  },
  {
   "cell_type": "code",
   "execution_count": 418,
   "id": "synthetic-allocation",
   "metadata": {
    "pycharm": {
     "name": "#%%\n"
    }
   },
   "outputs": [],
   "source": [
    "train = pd.read_json(FULL_DATA_DIR / 'full_train.json')\n",
    "test = pd.read_json(FULL_DATA_DIR / 'full_test.json')"
   ]
  },
  {
   "cell_type": "markdown",
   "id": "opposed-jerusalem",
   "metadata": {
    "pycharm": {
     "name": "#%% md\n"
    }
   },
   "source": [
    "# 1. Загрузка данных"
   ]
  },
  {
   "cell_type": "markdown",
   "id": "systematic-shopping",
   "metadata": {
    "pycharm": {
     "name": "#%% md\n"
    }
   },
   "source": [
    "Либо можно их сразу загрузить"
   ]
  },
  {
   "cell_type": "code",
   "execution_count": 419,
   "id": "numerous-position",
   "metadata": {
    "pycharm": {
     "name": "#%%\n"
    }
   },
   "outputs": [],
   "source": [
    "train['NAMES_FROM_TITLE'] = (\n",
    "    train['ORG_TITLE'].apply(lambda x: x if isinstance(x, list) else []) + \n",
    "    train['LOC_TITLE'].apply(lambda x: x if isinstance(x, list) else []) + \n",
    "    train['PER_TITLE'].apply(lambda x: x if isinstance(x, list) else [])\n",
    ")\n",
    "test['NAMES_FROM_TITLE'] = (\n",
    "    test['ORG_TITLE'].apply(lambda x: x if isinstance(x, list) else []) + \n",
    "    test['LOC_TITLE'].apply(lambda x: x if isinstance(x, list) else []) + \n",
    "    test['PER_TITLE'].apply(lambda x: x if isinstance(x, list) else [])\n",
    ")"
   ]
  },
  {
   "cell_type": "markdown",
   "id": "latest-hormone",
   "metadata": {
    "pycharm": {
     "name": "#%% md\n"
    }
   },
   "source": [
    "## 2. Предсказание для существующих"
   ]
  },
  {
   "cell_type": "code",
   "execution_count": 420,
   "id": "bored-event",
   "metadata": {
    "pycharm": {
     "name": "#%%\n"
    }
   },
   "outputs": [],
   "source": [
    "from src.prediction.utils import predict_for_exist\n",
    "from src.constants import FeaturesConstants"
   ]
  },
  {
   "cell_type": "code",
   "execution_count": 421,
   "id": "aboriginal-front",
   "metadata": {
    "pycharm": {
     "name": "#%%\n"
    }
   },
   "outputs": [],
   "source": [
    "exist_prediction = predict_for_exist(train, test)\n",
    "train_and_tests_ctr_ = list(set(train['page_id']) & set(test['page_id']))"
   ]
  },
  {
   "cell_type": "code",
   "execution_count": 422,
   "id": "first-donor",
   "metadata": {
    "pycharm": {
     "name": "#%%\n"
    }
   },
   "outputs": [],
   "source": [
    "train_data = (\n",
    "train[~(train['page_id'].isin(train_and_tests_ctr_))]\n",
    "    .drop_duplicates(FeaturesConstants.target + ['document_id', 'page_id', 'ctr'])\n",
    ")\n",
    "train_data = train_data[train_data['full_reads_percent'] <= 100]\n",
    "train_data = train_data[pd.to_datetime(train_data['publish_date']).dt.year >= 2022]\n",
    "train_data = train_data[train_data['category'].isin(['5409f11ce063da9c8b588a12', '5433e5decbb20f277b20eca9', '540d5eafcbb20f2524fc0509', '5409f11ce063da9c8b588a13', '540d5ecacbb20f2524fc050a', '5409f11ce063da9c8b588a18'])]\n",
    "train_data = train_data[~(train_data['document_id'].isin(['620fd6d99a7947a9ec85178cK5S1FYEqQ8KtU5-HL-9QTw', '622e2ada9a79471d2c4de0b6gHwPxacXQPmhZhBsHOOhMw']))]\n",
    "train_data['publish_date'] = pd.to_datetime(train_data['publish_date'])\n",
    "train_data = train_data[(train_data['views'] <= 1000000)].copy()\n",
    "\n",
    "test_data = test[~(test['page_id'].isin(train_and_tests_ctr_))].copy()\n",
    "y_data = train_data[FeaturesConstants.target].copy()"
   ]
  },
  {
   "cell_type": "markdown",
   "source": [],
   "metadata": {
    "collapsed": false,
    "pycharm": {
     "name": "#%% md\n"
    }
   }
  },
  {
   "cell_type": "code",
   "execution_count": 277,
   "outputs": [],
   "source": [
    "train_data['type'] = 'train'\n",
    "test_data['type'] = 'test'\n",
    "train_data['publish_date'] = pd.to_datetime(train_data['publish_date']) + datetime.timedelta(hours=3)\n",
    "test_data['publish_date'] = pd.to_datetime(test_data['publish_date']) + datetime.timedelta(hours=3)"
   ],
   "metadata": {
    "collapsed": false,
    "pycharm": {
     "name": "#%%\n"
    }
   }
  },
  {
   "cell_type": "code",
   "execution_count": 278,
   "outputs": [],
   "source": [
    "full = pd.concat((train_data.set_index('document_id'), test_data.set_index('document_id')), axis=0)"
   ],
   "metadata": {
    "collapsed": false,
    "pycharm": {
     "name": "#%%\n"
    }
   }
  },
  {
   "cell_type": "code",
   "execution_count": 279,
   "outputs": [],
   "source": [
    "full = full.sort_values(by='publish_date')"
   ],
   "metadata": {
    "collapsed": false,
    "pycharm": {
     "name": "#%%\n"
    }
   }
  },
  {
   "cell_type": "code",
   "execution_count": 280,
   "outputs": [],
   "source": [
    "full['diff_in_minutes_by_category'] = full.index.map(full.groupby(by='category')['publish_date'].diff())\n",
    "full['diff_in_minutes'] = full['publish_date'].diff()"
   ],
   "metadata": {
    "collapsed": false,
    "pycharm": {
     "name": "#%%\n"
    }
   }
  },
  {
   "cell_type": "code",
   "execution_count": 281,
   "outputs": [],
   "source": [
    "full['date'] = full['publish_date'].dt.date"
   ],
   "metadata": {
    "collapsed": false,
    "pycharm": {
     "name": "#%%\n"
    }
   }
  },
  {
   "cell_type": "code",
   "execution_count": 282,
   "outputs": [],
   "source": [
    "train_data['diff_in_minutes_by_category'] = train_data['document_id'].map(full.groupby(by='category')['publish_date'].diff())\n",
    "train_data['diff_in_minutes'] = train_data['document_id'].map(full['publish_date'].diff())"
   ],
   "metadata": {
    "collapsed": false,
    "pycharm": {
     "name": "#%%\n"
    }
   }
  },
  {
   "cell_type": "code",
   "execution_count": 283,
   "outputs": [],
   "source": [
    "train_data['diff_ctr'] = train_data['document_id'].map(full.groupby(by='category')['ctr'].diff())"
   ],
   "metadata": {
    "collapsed": false,
    "pycharm": {
     "name": "#%%\n"
    }
   }
  },
  {
   "cell_type": "code",
   "execution_count": 284,
   "outputs": [],
   "source": [
    "train_data['date'] = train_data['publish_date'].dt.date\n",
    "train_data['count_by_date'] = train_data['date'].map(full.groupby(by='date').count()['page_id'])"
   ],
   "metadata": {
    "collapsed": false,
    "pycharm": {
     "name": "#%%\n"
    }
   }
  },
  {
   "cell_type": "code",
   "execution_count": 285,
   "outputs": [],
   "source": [
    "a = []\n",
    "for i in full['publish_date']:\n",
    "    a.append(\n",
    "        len(\n",
    "            full[(i.date == full['date']) & (full['publish_date'] <= i)]\n",
    "        )\n",
    "    )"
   ],
   "metadata": {
    "collapsed": false,
    "pycharm": {
     "name": "#%%\n"
    }
   }
  },
  {
   "cell_type": "code",
   "execution_count": 287,
   "outputs": [
    {
     "data": {
      "text/plain": "0    9874\ndtype: int64"
     },
     "execution_count": 287,
     "metadata": {},
     "output_type": "execute_result"
    }
   ],
   "source": [
    "pd.Series(a, index=full.index).value_counts()"
   ],
   "metadata": {
    "collapsed": false,
    "pycharm": {
     "name": "#%%\n"
    }
   }
  },
  {
   "cell_type": "code",
   "execution_count": 302,
   "outputs": [
    {
     "name": "stderr",
     "output_type": "stream",
     "text": [
      "Downloading: 100%|██████████| 1.17k/1.17k [00:00<00:00, 267kB/s]\n",
      "100%|██████████| 6907/6907 [17:47<00:00,  6.47it/s]  \n",
      "  0%|          | 22/7000 [00:04<23:54,  4.86it/s]\n"
     ]
    },
    {
     "ename": "KeyboardInterrupt",
     "evalue": "",
     "output_type": "error",
     "traceback": [
      "\u001B[1;31m---------------------------------------------------------------------------\u001B[0m",
      "\u001B[1;31mKeyboardInterrupt\u001B[0m                         Traceback (most recent call last)",
      "Input \u001B[1;32mIn [302]\u001B[0m, in \u001B[0;36m<cell line: 2>\u001B[1;34m()\u001B[0m\n\u001B[0;32m     15\u001B[0m sentiments \u001B[38;5;241m=\u001B[39m []\n\u001B[0;32m     16\u001B[0m \u001B[38;5;28;01mfor\u001B[39;00m title \u001B[38;5;129;01min\u001B[39;00m tqdm(train_data[\u001B[38;5;124m\"\u001B[39m\u001B[38;5;124mtitle_preprocessed\u001B[39m\u001B[38;5;124m\"\u001B[39m]):\n\u001B[1;32m---> 17\u001B[0m     sentiment \u001B[38;5;241m=\u001B[39m \u001B[43mpipe\u001B[49m\u001B[43m(\u001B[49m\u001B[43mtitle\u001B[49m\u001B[43m)\u001B[49m\n\u001B[0;32m     18\u001B[0m     sentiments\u001B[38;5;241m.\u001B[39mappend(sentiment)\n\u001B[0;32m     19\u001B[0m sentiment_matrix \u001B[38;5;241m=\u001B[39m pd\u001B[38;5;241m.\u001B[39mDataFrame(\n\u001B[0;32m     20\u001B[0m     [[el[\u001B[38;5;124m\"\u001B[39m\u001B[38;5;124mscore\u001B[39m\u001B[38;5;124m\"\u001B[39m] \u001B[38;5;28;01mfor\u001B[39;00m el \u001B[38;5;129;01min\u001B[39;00m sentiment] \u001B[38;5;28;01mfor\u001B[39;00m sentiment \u001B[38;5;129;01min\u001B[39;00m sentiments],\n\u001B[0;32m     21\u001B[0m     columns\u001B[38;5;241m=\u001B[39m[\u001B[38;5;124m\"\u001B[39m\u001B[38;5;124mother\u001B[39m\u001B[38;5;124m\"\u001B[39m, \u001B[38;5;124m\"\u001B[39m\u001B[38;5;124mmisinformation\u001B[39m\u001B[38;5;124m\"\u001B[39m, \u001B[38;5;124m\"\u001B[39m\u001B[38;5;124mfactual\u001B[39m\u001B[38;5;124m\"\u001B[39m])\n",
      "File \u001B[1;32m~\\Desktop\\DATABASE\\competitions\\summer_2022\\rbk\\.venv\\lib\\site-packages\\transformers\\pipelines\\text_classification.py:138\u001B[0m, in \u001B[0;36mTextClassificationPipeline.__call__\u001B[1;34m(self, *args, **kwargs)\u001B[0m\n\u001B[0;32m    104\u001B[0m \u001B[38;5;28;01mdef\u001B[39;00m \u001B[38;5;21m__call__\u001B[39m(\u001B[38;5;28mself\u001B[39m, \u001B[38;5;241m*\u001B[39margs, \u001B[38;5;241m*\u001B[39m\u001B[38;5;241m*\u001B[39mkwargs):\n\u001B[0;32m    105\u001B[0m     \u001B[38;5;124;03m\"\"\"\u001B[39;00m\n\u001B[0;32m    106\u001B[0m \u001B[38;5;124;03m    Classify the text(s) given as inputs.\u001B[39;00m\n\u001B[0;32m    107\u001B[0m \n\u001B[1;32m   (...)\u001B[0m\n\u001B[0;32m    136\u001B[0m \u001B[38;5;124;03m        If `top_k` is used, one such dictionary is returned per label.\u001B[39;00m\n\u001B[0;32m    137\u001B[0m \u001B[38;5;124;03m    \"\"\"\u001B[39;00m\n\u001B[1;32m--> 138\u001B[0m     result \u001B[38;5;241m=\u001B[39m \u001B[38;5;28msuper\u001B[39m()\u001B[38;5;241m.\u001B[39m\u001B[38;5;21m__call__\u001B[39m(\u001B[38;5;241m*\u001B[39margs, \u001B[38;5;241m*\u001B[39m\u001B[38;5;241m*\u001B[39mkwargs)\n\u001B[0;32m    139\u001B[0m     \u001B[38;5;28;01mif\u001B[39;00m \u001B[38;5;28misinstance\u001B[39m(args[\u001B[38;5;241m0\u001B[39m], \u001B[38;5;28mstr\u001B[39m) \u001B[38;5;129;01mand\u001B[39;00m \u001B[38;5;28misinstance\u001B[39m(result, \u001B[38;5;28mdict\u001B[39m):\n\u001B[0;32m    140\u001B[0m         \u001B[38;5;66;03m# This pipeline is odd, and return a list when single item is run\u001B[39;00m\n\u001B[0;32m    141\u001B[0m         \u001B[38;5;28;01mreturn\u001B[39;00m [result]\n",
      "File \u001B[1;32m~\\Desktop\\DATABASE\\competitions\\summer_2022\\rbk\\.venv\\lib\\site-packages\\transformers\\pipelines\\base.py:1043\u001B[0m, in \u001B[0;36mPipeline.__call__\u001B[1;34m(self, inputs, num_workers, batch_size, *args, **kwargs)\u001B[0m\n\u001B[0;32m   1041\u001B[0m     \u001B[38;5;28;01mreturn\u001B[39;00m \u001B[38;5;28mself\u001B[39m\u001B[38;5;241m.\u001B[39miterate(inputs, preprocess_params, forward_params, postprocess_params)\n\u001B[0;32m   1042\u001B[0m \u001B[38;5;28;01melse\u001B[39;00m:\n\u001B[1;32m-> 1043\u001B[0m     \u001B[38;5;28;01mreturn\u001B[39;00m \u001B[38;5;28;43mself\u001B[39;49m\u001B[38;5;241;43m.\u001B[39;49m\u001B[43mrun_single\u001B[49m\u001B[43m(\u001B[49m\u001B[43minputs\u001B[49m\u001B[43m,\u001B[49m\u001B[43m \u001B[49m\u001B[43mpreprocess_params\u001B[49m\u001B[43m,\u001B[49m\u001B[43m \u001B[49m\u001B[43mforward_params\u001B[49m\u001B[43m,\u001B[49m\u001B[43m \u001B[49m\u001B[43mpostprocess_params\u001B[49m\u001B[43m)\u001B[49m\n",
      "File \u001B[1;32m~\\Desktop\\DATABASE\\competitions\\summer_2022\\rbk\\.venv\\lib\\site-packages\\transformers\\pipelines\\base.py:1050\u001B[0m, in \u001B[0;36mPipeline.run_single\u001B[1;34m(self, inputs, preprocess_params, forward_params, postprocess_params)\u001B[0m\n\u001B[0;32m   1048\u001B[0m \u001B[38;5;28;01mdef\u001B[39;00m \u001B[38;5;21mrun_single\u001B[39m(\u001B[38;5;28mself\u001B[39m, inputs, preprocess_params, forward_params, postprocess_params):\n\u001B[0;32m   1049\u001B[0m     model_inputs \u001B[38;5;241m=\u001B[39m \u001B[38;5;28mself\u001B[39m\u001B[38;5;241m.\u001B[39mpreprocess(inputs, \u001B[38;5;241m*\u001B[39m\u001B[38;5;241m*\u001B[39mpreprocess_params)\n\u001B[1;32m-> 1050\u001B[0m     model_outputs \u001B[38;5;241m=\u001B[39m \u001B[38;5;28mself\u001B[39m\u001B[38;5;241m.\u001B[39mforward(model_inputs, \u001B[38;5;241m*\u001B[39m\u001B[38;5;241m*\u001B[39mforward_params)\n\u001B[0;32m   1051\u001B[0m     outputs \u001B[38;5;241m=\u001B[39m \u001B[38;5;28mself\u001B[39m\u001B[38;5;241m.\u001B[39mpostprocess(model_outputs, \u001B[38;5;241m*\u001B[39m\u001B[38;5;241m*\u001B[39mpostprocess_params)\n\u001B[0;32m   1052\u001B[0m     \u001B[38;5;28;01mreturn\u001B[39;00m outputs\n",
      "File \u001B[1;32m~\\Desktop\\DATABASE\\competitions\\summer_2022\\rbk\\.venv\\lib\\site-packages\\transformers\\pipelines\\base.py:959\u001B[0m, in \u001B[0;36mPipeline.forward\u001B[1;34m(self, model_inputs, **forward_params)\u001B[0m\n\u001B[0;32m    957\u001B[0m     \u001B[38;5;28;01mwith\u001B[39;00m inference_context():\n\u001B[0;32m    958\u001B[0m         model_inputs \u001B[38;5;241m=\u001B[39m \u001B[38;5;28mself\u001B[39m\u001B[38;5;241m.\u001B[39m_ensure_tensor_on_device(model_inputs, device\u001B[38;5;241m=\u001B[39m\u001B[38;5;28mself\u001B[39m\u001B[38;5;241m.\u001B[39mdevice)\n\u001B[1;32m--> 959\u001B[0m         model_outputs \u001B[38;5;241m=\u001B[39m \u001B[38;5;28mself\u001B[39m\u001B[38;5;241m.\u001B[39m_forward(model_inputs, \u001B[38;5;241m*\u001B[39m\u001B[38;5;241m*\u001B[39mforward_params)\n\u001B[0;32m    960\u001B[0m         model_outputs \u001B[38;5;241m=\u001B[39m \u001B[38;5;28mself\u001B[39m\u001B[38;5;241m.\u001B[39m_ensure_tensor_on_device(model_outputs, device\u001B[38;5;241m=\u001B[39mtorch\u001B[38;5;241m.\u001B[39mdevice(\u001B[38;5;124m\"\u001B[39m\u001B[38;5;124mcpu\u001B[39m\u001B[38;5;124m\"\u001B[39m))\n\u001B[0;32m    961\u001B[0m \u001B[38;5;28;01melse\u001B[39;00m:\n",
      "File \u001B[1;32m~\\Desktop\\DATABASE\\competitions\\summer_2022\\rbk\\.venv\\lib\\site-packages\\transformers\\pipelines\\text_classification.py:163\u001B[0m, in \u001B[0;36mTextClassificationPipeline._forward\u001B[1;34m(self, model_inputs)\u001B[0m\n\u001B[0;32m    162\u001B[0m \u001B[38;5;28;01mdef\u001B[39;00m \u001B[38;5;21m_forward\u001B[39m(\u001B[38;5;28mself\u001B[39m, model_inputs):\n\u001B[1;32m--> 163\u001B[0m     \u001B[38;5;28;01mreturn\u001B[39;00m \u001B[38;5;28mself\u001B[39m\u001B[38;5;241m.\u001B[39mmodel(\u001B[38;5;241m*\u001B[39m\u001B[38;5;241m*\u001B[39mmodel_inputs)\n",
      "File \u001B[1;32m~\\Desktop\\DATABASE\\competitions\\summer_2022\\rbk\\.venv\\lib\\site-packages\\torch\\nn\\modules\\module.py:1130\u001B[0m, in \u001B[0;36mModule._call_impl\u001B[1;34m(self, *input, **kwargs)\u001B[0m\n\u001B[0;32m   1126\u001B[0m \u001B[38;5;66;03m# If we don't have any hooks, we want to skip the rest of the logic in\u001B[39;00m\n\u001B[0;32m   1127\u001B[0m \u001B[38;5;66;03m# this function, and just call forward.\u001B[39;00m\n\u001B[0;32m   1128\u001B[0m \u001B[38;5;28;01mif\u001B[39;00m \u001B[38;5;129;01mnot\u001B[39;00m (\u001B[38;5;28mself\u001B[39m\u001B[38;5;241m.\u001B[39m_backward_hooks \u001B[38;5;129;01mor\u001B[39;00m \u001B[38;5;28mself\u001B[39m\u001B[38;5;241m.\u001B[39m_forward_hooks \u001B[38;5;129;01mor\u001B[39;00m \u001B[38;5;28mself\u001B[39m\u001B[38;5;241m.\u001B[39m_forward_pre_hooks \u001B[38;5;129;01mor\u001B[39;00m _global_backward_hooks\n\u001B[0;32m   1129\u001B[0m         \u001B[38;5;129;01mor\u001B[39;00m _global_forward_hooks \u001B[38;5;129;01mor\u001B[39;00m _global_forward_pre_hooks):\n\u001B[1;32m-> 1130\u001B[0m     \u001B[38;5;28;01mreturn\u001B[39;00m forward_call(\u001B[38;5;241m*\u001B[39m\u001B[38;5;28minput\u001B[39m, \u001B[38;5;241m*\u001B[39m\u001B[38;5;241m*\u001B[39mkwargs)\n\u001B[0;32m   1131\u001B[0m \u001B[38;5;66;03m# Do not call functions when jit is used\u001B[39;00m\n\u001B[0;32m   1132\u001B[0m full_backward_hooks, non_full_backward_hooks \u001B[38;5;241m=\u001B[39m [], []\n",
      "File \u001B[1;32m~\\Desktop\\DATABASE\\competitions\\summer_2022\\rbk\\.venv\\lib\\site-packages\\transformers\\models\\bert\\modeling_bert.py:1556\u001B[0m, in \u001B[0;36mBertForSequenceClassification.forward\u001B[1;34m(self, input_ids, attention_mask, token_type_ids, position_ids, head_mask, inputs_embeds, labels, output_attentions, output_hidden_states, return_dict)\u001B[0m\n\u001B[0;32m   1548\u001B[0m \u001B[38;5;124mr\u001B[39m\u001B[38;5;124;03m\"\"\"\u001B[39;00m\n\u001B[0;32m   1549\u001B[0m \u001B[38;5;124;03mlabels (`torch.LongTensor` of shape `(batch_size,)`, *optional*):\u001B[39;00m\n\u001B[0;32m   1550\u001B[0m \u001B[38;5;124;03m    Labels for computing the sequence classification/regression loss. Indices should be in `[0, ...,\u001B[39;00m\n\u001B[0;32m   1551\u001B[0m \u001B[38;5;124;03m    config.num_labels - 1]`. If `config.num_labels == 1` a regression loss is computed (Mean-Square loss), If\u001B[39;00m\n\u001B[0;32m   1552\u001B[0m \u001B[38;5;124;03m    `config.num_labels > 1` a classification loss is computed (Cross-Entropy).\u001B[39;00m\n\u001B[0;32m   1553\u001B[0m \u001B[38;5;124;03m\"\"\"\u001B[39;00m\n\u001B[0;32m   1554\u001B[0m return_dict \u001B[38;5;241m=\u001B[39m return_dict \u001B[38;5;28;01mif\u001B[39;00m return_dict \u001B[38;5;129;01mis\u001B[39;00m \u001B[38;5;129;01mnot\u001B[39;00m \u001B[38;5;28;01mNone\u001B[39;00m \u001B[38;5;28;01melse\u001B[39;00m \u001B[38;5;28mself\u001B[39m\u001B[38;5;241m.\u001B[39mconfig\u001B[38;5;241m.\u001B[39muse_return_dict\n\u001B[1;32m-> 1556\u001B[0m outputs \u001B[38;5;241m=\u001B[39m \u001B[38;5;28;43mself\u001B[39;49m\u001B[38;5;241;43m.\u001B[39;49m\u001B[43mbert\u001B[49m\u001B[43m(\u001B[49m\n\u001B[0;32m   1557\u001B[0m \u001B[43m    \u001B[49m\u001B[43minput_ids\u001B[49m\u001B[43m,\u001B[49m\n\u001B[0;32m   1558\u001B[0m \u001B[43m    \u001B[49m\u001B[43mattention_mask\u001B[49m\u001B[38;5;241;43m=\u001B[39;49m\u001B[43mattention_mask\u001B[49m\u001B[43m,\u001B[49m\n\u001B[0;32m   1559\u001B[0m \u001B[43m    \u001B[49m\u001B[43mtoken_type_ids\u001B[49m\u001B[38;5;241;43m=\u001B[39;49m\u001B[43mtoken_type_ids\u001B[49m\u001B[43m,\u001B[49m\n\u001B[0;32m   1560\u001B[0m \u001B[43m    \u001B[49m\u001B[43mposition_ids\u001B[49m\u001B[38;5;241;43m=\u001B[39;49m\u001B[43mposition_ids\u001B[49m\u001B[43m,\u001B[49m\n\u001B[0;32m   1561\u001B[0m \u001B[43m    \u001B[49m\u001B[43mhead_mask\u001B[49m\u001B[38;5;241;43m=\u001B[39;49m\u001B[43mhead_mask\u001B[49m\u001B[43m,\u001B[49m\n\u001B[0;32m   1562\u001B[0m \u001B[43m    \u001B[49m\u001B[43minputs_embeds\u001B[49m\u001B[38;5;241;43m=\u001B[39;49m\u001B[43minputs_embeds\u001B[49m\u001B[43m,\u001B[49m\n\u001B[0;32m   1563\u001B[0m \u001B[43m    \u001B[49m\u001B[43moutput_attentions\u001B[49m\u001B[38;5;241;43m=\u001B[39;49m\u001B[43moutput_attentions\u001B[49m\u001B[43m,\u001B[49m\n\u001B[0;32m   1564\u001B[0m \u001B[43m    \u001B[49m\u001B[43moutput_hidden_states\u001B[49m\u001B[38;5;241;43m=\u001B[39;49m\u001B[43moutput_hidden_states\u001B[49m\u001B[43m,\u001B[49m\n\u001B[0;32m   1565\u001B[0m \u001B[43m    \u001B[49m\u001B[43mreturn_dict\u001B[49m\u001B[38;5;241;43m=\u001B[39;49m\u001B[43mreturn_dict\u001B[49m\u001B[43m,\u001B[49m\n\u001B[0;32m   1566\u001B[0m \u001B[43m\u001B[49m\u001B[43m)\u001B[49m\n\u001B[0;32m   1568\u001B[0m pooled_output \u001B[38;5;241m=\u001B[39m outputs[\u001B[38;5;241m1\u001B[39m]\n\u001B[0;32m   1570\u001B[0m pooled_output \u001B[38;5;241m=\u001B[39m \u001B[38;5;28mself\u001B[39m\u001B[38;5;241m.\u001B[39mdropout(pooled_output)\n",
      "File \u001B[1;32m~\\Desktop\\DATABASE\\competitions\\summer_2022\\rbk\\.venv\\lib\\site-packages\\torch\\nn\\modules\\module.py:1130\u001B[0m, in \u001B[0;36mModule._call_impl\u001B[1;34m(self, *input, **kwargs)\u001B[0m\n\u001B[0;32m   1126\u001B[0m \u001B[38;5;66;03m# If we don't have any hooks, we want to skip the rest of the logic in\u001B[39;00m\n\u001B[0;32m   1127\u001B[0m \u001B[38;5;66;03m# this function, and just call forward.\u001B[39;00m\n\u001B[0;32m   1128\u001B[0m \u001B[38;5;28;01mif\u001B[39;00m \u001B[38;5;129;01mnot\u001B[39;00m (\u001B[38;5;28mself\u001B[39m\u001B[38;5;241m.\u001B[39m_backward_hooks \u001B[38;5;129;01mor\u001B[39;00m \u001B[38;5;28mself\u001B[39m\u001B[38;5;241m.\u001B[39m_forward_hooks \u001B[38;5;129;01mor\u001B[39;00m \u001B[38;5;28mself\u001B[39m\u001B[38;5;241m.\u001B[39m_forward_pre_hooks \u001B[38;5;129;01mor\u001B[39;00m _global_backward_hooks\n\u001B[0;32m   1129\u001B[0m         \u001B[38;5;129;01mor\u001B[39;00m _global_forward_hooks \u001B[38;5;129;01mor\u001B[39;00m _global_forward_pre_hooks):\n\u001B[1;32m-> 1130\u001B[0m     \u001B[38;5;28;01mreturn\u001B[39;00m forward_call(\u001B[38;5;241m*\u001B[39m\u001B[38;5;28minput\u001B[39m, \u001B[38;5;241m*\u001B[39m\u001B[38;5;241m*\u001B[39mkwargs)\n\u001B[0;32m   1131\u001B[0m \u001B[38;5;66;03m# Do not call functions when jit is used\u001B[39;00m\n\u001B[0;32m   1132\u001B[0m full_backward_hooks, non_full_backward_hooks \u001B[38;5;241m=\u001B[39m [], []\n",
      "File \u001B[1;32m~\\Desktop\\DATABASE\\competitions\\summer_2022\\rbk\\.venv\\lib\\site-packages\\transformers\\models\\bert\\modeling_bert.py:1018\u001B[0m, in \u001B[0;36mBertModel.forward\u001B[1;34m(self, input_ids, attention_mask, token_type_ids, position_ids, head_mask, inputs_embeds, encoder_hidden_states, encoder_attention_mask, past_key_values, use_cache, output_attentions, output_hidden_states, return_dict)\u001B[0m\n\u001B[0;32m   1009\u001B[0m head_mask \u001B[38;5;241m=\u001B[39m \u001B[38;5;28mself\u001B[39m\u001B[38;5;241m.\u001B[39mget_head_mask(head_mask, \u001B[38;5;28mself\u001B[39m\u001B[38;5;241m.\u001B[39mconfig\u001B[38;5;241m.\u001B[39mnum_hidden_layers)\n\u001B[0;32m   1011\u001B[0m embedding_output \u001B[38;5;241m=\u001B[39m \u001B[38;5;28mself\u001B[39m\u001B[38;5;241m.\u001B[39membeddings(\n\u001B[0;32m   1012\u001B[0m     input_ids\u001B[38;5;241m=\u001B[39minput_ids,\n\u001B[0;32m   1013\u001B[0m     position_ids\u001B[38;5;241m=\u001B[39mposition_ids,\n\u001B[1;32m   (...)\u001B[0m\n\u001B[0;32m   1016\u001B[0m     past_key_values_length\u001B[38;5;241m=\u001B[39mpast_key_values_length,\n\u001B[0;32m   1017\u001B[0m )\n\u001B[1;32m-> 1018\u001B[0m encoder_outputs \u001B[38;5;241m=\u001B[39m \u001B[38;5;28;43mself\u001B[39;49m\u001B[38;5;241;43m.\u001B[39;49m\u001B[43mencoder\u001B[49m\u001B[43m(\u001B[49m\n\u001B[0;32m   1019\u001B[0m \u001B[43m    \u001B[49m\u001B[43membedding_output\u001B[49m\u001B[43m,\u001B[49m\n\u001B[0;32m   1020\u001B[0m \u001B[43m    \u001B[49m\u001B[43mattention_mask\u001B[49m\u001B[38;5;241;43m=\u001B[39;49m\u001B[43mextended_attention_mask\u001B[49m\u001B[43m,\u001B[49m\n\u001B[0;32m   1021\u001B[0m \u001B[43m    \u001B[49m\u001B[43mhead_mask\u001B[49m\u001B[38;5;241;43m=\u001B[39;49m\u001B[43mhead_mask\u001B[49m\u001B[43m,\u001B[49m\n\u001B[0;32m   1022\u001B[0m \u001B[43m    \u001B[49m\u001B[43mencoder_hidden_states\u001B[49m\u001B[38;5;241;43m=\u001B[39;49m\u001B[43mencoder_hidden_states\u001B[49m\u001B[43m,\u001B[49m\n\u001B[0;32m   1023\u001B[0m \u001B[43m    \u001B[49m\u001B[43mencoder_attention_mask\u001B[49m\u001B[38;5;241;43m=\u001B[39;49m\u001B[43mencoder_extended_attention_mask\u001B[49m\u001B[43m,\u001B[49m\n\u001B[0;32m   1024\u001B[0m \u001B[43m    \u001B[49m\u001B[43mpast_key_values\u001B[49m\u001B[38;5;241;43m=\u001B[39;49m\u001B[43mpast_key_values\u001B[49m\u001B[43m,\u001B[49m\n\u001B[0;32m   1025\u001B[0m \u001B[43m    \u001B[49m\u001B[43muse_cache\u001B[49m\u001B[38;5;241;43m=\u001B[39;49m\u001B[43muse_cache\u001B[49m\u001B[43m,\u001B[49m\n\u001B[0;32m   1026\u001B[0m \u001B[43m    \u001B[49m\u001B[43moutput_attentions\u001B[49m\u001B[38;5;241;43m=\u001B[39;49m\u001B[43moutput_attentions\u001B[49m\u001B[43m,\u001B[49m\n\u001B[0;32m   1027\u001B[0m \u001B[43m    \u001B[49m\u001B[43moutput_hidden_states\u001B[49m\u001B[38;5;241;43m=\u001B[39;49m\u001B[43moutput_hidden_states\u001B[49m\u001B[43m,\u001B[49m\n\u001B[0;32m   1028\u001B[0m \u001B[43m    \u001B[49m\u001B[43mreturn_dict\u001B[49m\u001B[38;5;241;43m=\u001B[39;49m\u001B[43mreturn_dict\u001B[49m\u001B[43m,\u001B[49m\n\u001B[0;32m   1029\u001B[0m \u001B[43m\u001B[49m\u001B[43m)\u001B[49m\n\u001B[0;32m   1030\u001B[0m sequence_output \u001B[38;5;241m=\u001B[39m encoder_outputs[\u001B[38;5;241m0\u001B[39m]\n\u001B[0;32m   1031\u001B[0m pooled_output \u001B[38;5;241m=\u001B[39m \u001B[38;5;28mself\u001B[39m\u001B[38;5;241m.\u001B[39mpooler(sequence_output) \u001B[38;5;28;01mif\u001B[39;00m \u001B[38;5;28mself\u001B[39m\u001B[38;5;241m.\u001B[39mpooler \u001B[38;5;129;01mis\u001B[39;00m \u001B[38;5;129;01mnot\u001B[39;00m \u001B[38;5;28;01mNone\u001B[39;00m \u001B[38;5;28;01melse\u001B[39;00m \u001B[38;5;28;01mNone\u001B[39;00m\n",
      "File \u001B[1;32m~\\Desktop\\DATABASE\\competitions\\summer_2022\\rbk\\.venv\\lib\\site-packages\\torch\\nn\\modules\\module.py:1130\u001B[0m, in \u001B[0;36mModule._call_impl\u001B[1;34m(self, *input, **kwargs)\u001B[0m\n\u001B[0;32m   1126\u001B[0m \u001B[38;5;66;03m# If we don't have any hooks, we want to skip the rest of the logic in\u001B[39;00m\n\u001B[0;32m   1127\u001B[0m \u001B[38;5;66;03m# this function, and just call forward.\u001B[39;00m\n\u001B[0;32m   1128\u001B[0m \u001B[38;5;28;01mif\u001B[39;00m \u001B[38;5;129;01mnot\u001B[39;00m (\u001B[38;5;28mself\u001B[39m\u001B[38;5;241m.\u001B[39m_backward_hooks \u001B[38;5;129;01mor\u001B[39;00m \u001B[38;5;28mself\u001B[39m\u001B[38;5;241m.\u001B[39m_forward_hooks \u001B[38;5;129;01mor\u001B[39;00m \u001B[38;5;28mself\u001B[39m\u001B[38;5;241m.\u001B[39m_forward_pre_hooks \u001B[38;5;129;01mor\u001B[39;00m _global_backward_hooks\n\u001B[0;32m   1129\u001B[0m         \u001B[38;5;129;01mor\u001B[39;00m _global_forward_hooks \u001B[38;5;129;01mor\u001B[39;00m _global_forward_pre_hooks):\n\u001B[1;32m-> 1130\u001B[0m     \u001B[38;5;28;01mreturn\u001B[39;00m forward_call(\u001B[38;5;241m*\u001B[39m\u001B[38;5;28minput\u001B[39m, \u001B[38;5;241m*\u001B[39m\u001B[38;5;241m*\u001B[39mkwargs)\n\u001B[0;32m   1131\u001B[0m \u001B[38;5;66;03m# Do not call functions when jit is used\u001B[39;00m\n\u001B[0;32m   1132\u001B[0m full_backward_hooks, non_full_backward_hooks \u001B[38;5;241m=\u001B[39m [], []\n",
      "File \u001B[1;32m~\\Desktop\\DATABASE\\competitions\\summer_2022\\rbk\\.venv\\lib\\site-packages\\transformers\\models\\bert\\modeling_bert.py:607\u001B[0m, in \u001B[0;36mBertEncoder.forward\u001B[1;34m(self, hidden_states, attention_mask, head_mask, encoder_hidden_states, encoder_attention_mask, past_key_values, use_cache, output_attentions, output_hidden_states, return_dict)\u001B[0m\n\u001B[0;32m    598\u001B[0m     layer_outputs \u001B[38;5;241m=\u001B[39m torch\u001B[38;5;241m.\u001B[39mutils\u001B[38;5;241m.\u001B[39mcheckpoint\u001B[38;5;241m.\u001B[39mcheckpoint(\n\u001B[0;32m    599\u001B[0m         create_custom_forward(layer_module),\n\u001B[0;32m    600\u001B[0m         hidden_states,\n\u001B[1;32m   (...)\u001B[0m\n\u001B[0;32m    604\u001B[0m         encoder_attention_mask,\n\u001B[0;32m    605\u001B[0m     )\n\u001B[0;32m    606\u001B[0m \u001B[38;5;28;01melse\u001B[39;00m:\n\u001B[1;32m--> 607\u001B[0m     layer_outputs \u001B[38;5;241m=\u001B[39m \u001B[43mlayer_module\u001B[49m\u001B[43m(\u001B[49m\n\u001B[0;32m    608\u001B[0m \u001B[43m        \u001B[49m\u001B[43mhidden_states\u001B[49m\u001B[43m,\u001B[49m\n\u001B[0;32m    609\u001B[0m \u001B[43m        \u001B[49m\u001B[43mattention_mask\u001B[49m\u001B[43m,\u001B[49m\n\u001B[0;32m    610\u001B[0m \u001B[43m        \u001B[49m\u001B[43mlayer_head_mask\u001B[49m\u001B[43m,\u001B[49m\n\u001B[0;32m    611\u001B[0m \u001B[43m        \u001B[49m\u001B[43mencoder_hidden_states\u001B[49m\u001B[43m,\u001B[49m\n\u001B[0;32m    612\u001B[0m \u001B[43m        \u001B[49m\u001B[43mencoder_attention_mask\u001B[49m\u001B[43m,\u001B[49m\n\u001B[0;32m    613\u001B[0m \u001B[43m        \u001B[49m\u001B[43mpast_key_value\u001B[49m\u001B[43m,\u001B[49m\n\u001B[0;32m    614\u001B[0m \u001B[43m        \u001B[49m\u001B[43moutput_attentions\u001B[49m\u001B[43m,\u001B[49m\n\u001B[0;32m    615\u001B[0m \u001B[43m    \u001B[49m\u001B[43m)\u001B[49m\n\u001B[0;32m    617\u001B[0m hidden_states \u001B[38;5;241m=\u001B[39m layer_outputs[\u001B[38;5;241m0\u001B[39m]\n\u001B[0;32m    618\u001B[0m \u001B[38;5;28;01mif\u001B[39;00m use_cache:\n",
      "File \u001B[1;32m~\\Desktop\\DATABASE\\competitions\\summer_2022\\rbk\\.venv\\lib\\site-packages\\torch\\nn\\modules\\module.py:1130\u001B[0m, in \u001B[0;36mModule._call_impl\u001B[1;34m(self, *input, **kwargs)\u001B[0m\n\u001B[0;32m   1126\u001B[0m \u001B[38;5;66;03m# If we don't have any hooks, we want to skip the rest of the logic in\u001B[39;00m\n\u001B[0;32m   1127\u001B[0m \u001B[38;5;66;03m# this function, and just call forward.\u001B[39;00m\n\u001B[0;32m   1128\u001B[0m \u001B[38;5;28;01mif\u001B[39;00m \u001B[38;5;129;01mnot\u001B[39;00m (\u001B[38;5;28mself\u001B[39m\u001B[38;5;241m.\u001B[39m_backward_hooks \u001B[38;5;129;01mor\u001B[39;00m \u001B[38;5;28mself\u001B[39m\u001B[38;5;241m.\u001B[39m_forward_hooks \u001B[38;5;129;01mor\u001B[39;00m \u001B[38;5;28mself\u001B[39m\u001B[38;5;241m.\u001B[39m_forward_pre_hooks \u001B[38;5;129;01mor\u001B[39;00m _global_backward_hooks\n\u001B[0;32m   1129\u001B[0m         \u001B[38;5;129;01mor\u001B[39;00m _global_forward_hooks \u001B[38;5;129;01mor\u001B[39;00m _global_forward_pre_hooks):\n\u001B[1;32m-> 1130\u001B[0m     \u001B[38;5;28;01mreturn\u001B[39;00m forward_call(\u001B[38;5;241m*\u001B[39m\u001B[38;5;28minput\u001B[39m, \u001B[38;5;241m*\u001B[39m\u001B[38;5;241m*\u001B[39mkwargs)\n\u001B[0;32m   1131\u001B[0m \u001B[38;5;66;03m# Do not call functions when jit is used\u001B[39;00m\n\u001B[0;32m   1132\u001B[0m full_backward_hooks, non_full_backward_hooks \u001B[38;5;241m=\u001B[39m [], []\n",
      "File \u001B[1;32m~\\Desktop\\DATABASE\\competitions\\summer_2022\\rbk\\.venv\\lib\\site-packages\\transformers\\models\\bert\\modeling_bert.py:535\u001B[0m, in \u001B[0;36mBertLayer.forward\u001B[1;34m(self, hidden_states, attention_mask, head_mask, encoder_hidden_states, encoder_attention_mask, past_key_value, output_attentions)\u001B[0m\n\u001B[0;32m    532\u001B[0m     cross_attn_present_key_value \u001B[38;5;241m=\u001B[39m cross_attention_outputs[\u001B[38;5;241m-\u001B[39m\u001B[38;5;241m1\u001B[39m]\n\u001B[0;32m    533\u001B[0m     present_key_value \u001B[38;5;241m=\u001B[39m present_key_value \u001B[38;5;241m+\u001B[39m cross_attn_present_key_value\n\u001B[1;32m--> 535\u001B[0m layer_output \u001B[38;5;241m=\u001B[39m \u001B[43mapply_chunking_to_forward\u001B[49m\u001B[43m(\u001B[49m\n\u001B[0;32m    536\u001B[0m \u001B[43m    \u001B[49m\u001B[38;5;28;43mself\u001B[39;49m\u001B[38;5;241;43m.\u001B[39;49m\u001B[43mfeed_forward_chunk\u001B[49m\u001B[43m,\u001B[49m\u001B[43m \u001B[49m\u001B[38;5;28;43mself\u001B[39;49m\u001B[38;5;241;43m.\u001B[39;49m\u001B[43mchunk_size_feed_forward\u001B[49m\u001B[43m,\u001B[49m\u001B[43m \u001B[49m\u001B[38;5;28;43mself\u001B[39;49m\u001B[38;5;241;43m.\u001B[39;49m\u001B[43mseq_len_dim\u001B[49m\u001B[43m,\u001B[49m\u001B[43m \u001B[49m\u001B[43mattention_output\u001B[49m\n\u001B[0;32m    537\u001B[0m \u001B[43m\u001B[49m\u001B[43m)\u001B[49m\n\u001B[0;32m    538\u001B[0m outputs \u001B[38;5;241m=\u001B[39m (layer_output,) \u001B[38;5;241m+\u001B[39m outputs\n\u001B[0;32m    540\u001B[0m \u001B[38;5;66;03m# if decoder, return the attn key/values as the last output\u001B[39;00m\n",
      "File \u001B[1;32m~\\Desktop\\DATABASE\\competitions\\summer_2022\\rbk\\.venv\\lib\\site-packages\\transformers\\pytorch_utils.py:241\u001B[0m, in \u001B[0;36mapply_chunking_to_forward\u001B[1;34m(forward_fn, chunk_size, chunk_dim, *input_tensors)\u001B[0m\n\u001B[0;32m    238\u001B[0m     \u001B[38;5;66;03m# concatenate output at same dimension\u001B[39;00m\n\u001B[0;32m    239\u001B[0m     \u001B[38;5;28;01mreturn\u001B[39;00m torch\u001B[38;5;241m.\u001B[39mcat(output_chunks, dim\u001B[38;5;241m=\u001B[39mchunk_dim)\n\u001B[1;32m--> 241\u001B[0m \u001B[38;5;28;01mreturn\u001B[39;00m \u001B[43mforward_fn\u001B[49m\u001B[43m(\u001B[49m\u001B[38;5;241;43m*\u001B[39;49m\u001B[43minput_tensors\u001B[49m\u001B[43m)\u001B[49m\n",
      "File \u001B[1;32m~\\Desktop\\DATABASE\\competitions\\summer_2022\\rbk\\.venv\\lib\\site-packages\\transformers\\models\\bert\\modeling_bert.py:548\u001B[0m, in \u001B[0;36mBertLayer.feed_forward_chunk\u001B[1;34m(self, attention_output)\u001B[0m\n\u001B[0;32m    546\u001B[0m \u001B[38;5;28;01mdef\u001B[39;00m \u001B[38;5;21mfeed_forward_chunk\u001B[39m(\u001B[38;5;28mself\u001B[39m, attention_output):\n\u001B[0;32m    547\u001B[0m     intermediate_output \u001B[38;5;241m=\u001B[39m \u001B[38;5;28mself\u001B[39m\u001B[38;5;241m.\u001B[39mintermediate(attention_output)\n\u001B[1;32m--> 548\u001B[0m     layer_output \u001B[38;5;241m=\u001B[39m \u001B[38;5;28;43mself\u001B[39;49m\u001B[38;5;241;43m.\u001B[39;49m\u001B[43moutput\u001B[49m\u001B[43m(\u001B[49m\u001B[43mintermediate_output\u001B[49m\u001B[43m,\u001B[49m\u001B[43m \u001B[49m\u001B[43mattention_output\u001B[49m\u001B[43m)\u001B[49m\n\u001B[0;32m    549\u001B[0m     \u001B[38;5;28;01mreturn\u001B[39;00m layer_output\n",
      "File \u001B[1;32m~\\Desktop\\DATABASE\\competitions\\summer_2022\\rbk\\.venv\\lib\\site-packages\\torch\\nn\\modules\\module.py:1130\u001B[0m, in \u001B[0;36mModule._call_impl\u001B[1;34m(self, *input, **kwargs)\u001B[0m\n\u001B[0;32m   1126\u001B[0m \u001B[38;5;66;03m# If we don't have any hooks, we want to skip the rest of the logic in\u001B[39;00m\n\u001B[0;32m   1127\u001B[0m \u001B[38;5;66;03m# this function, and just call forward.\u001B[39;00m\n\u001B[0;32m   1128\u001B[0m \u001B[38;5;28;01mif\u001B[39;00m \u001B[38;5;129;01mnot\u001B[39;00m (\u001B[38;5;28mself\u001B[39m\u001B[38;5;241m.\u001B[39m_backward_hooks \u001B[38;5;129;01mor\u001B[39;00m \u001B[38;5;28mself\u001B[39m\u001B[38;5;241m.\u001B[39m_forward_hooks \u001B[38;5;129;01mor\u001B[39;00m \u001B[38;5;28mself\u001B[39m\u001B[38;5;241m.\u001B[39m_forward_pre_hooks \u001B[38;5;129;01mor\u001B[39;00m _global_backward_hooks\n\u001B[0;32m   1129\u001B[0m         \u001B[38;5;129;01mor\u001B[39;00m _global_forward_hooks \u001B[38;5;129;01mor\u001B[39;00m _global_forward_pre_hooks):\n\u001B[1;32m-> 1130\u001B[0m     \u001B[38;5;28;01mreturn\u001B[39;00m forward_call(\u001B[38;5;241m*\u001B[39m\u001B[38;5;28minput\u001B[39m, \u001B[38;5;241m*\u001B[39m\u001B[38;5;241m*\u001B[39mkwargs)\n\u001B[0;32m   1131\u001B[0m \u001B[38;5;66;03m# Do not call functions when jit is used\u001B[39;00m\n\u001B[0;32m   1132\u001B[0m full_backward_hooks, non_full_backward_hooks \u001B[38;5;241m=\u001B[39m [], []\n",
      "File \u001B[1;32m~\\Desktop\\DATABASE\\competitions\\summer_2022\\rbk\\.venv\\lib\\site-packages\\transformers\\models\\bert\\modeling_bert.py:460\u001B[0m, in \u001B[0;36mBertOutput.forward\u001B[1;34m(self, hidden_states, input_tensor)\u001B[0m\n\u001B[0;32m    459\u001B[0m \u001B[38;5;28;01mdef\u001B[39;00m \u001B[38;5;21mforward\u001B[39m(\u001B[38;5;28mself\u001B[39m, hidden_states: torch\u001B[38;5;241m.\u001B[39mTensor, input_tensor: torch\u001B[38;5;241m.\u001B[39mTensor) \u001B[38;5;241m-\u001B[39m\u001B[38;5;241m>\u001B[39m torch\u001B[38;5;241m.\u001B[39mTensor:\n\u001B[1;32m--> 460\u001B[0m     hidden_states \u001B[38;5;241m=\u001B[39m \u001B[38;5;28;43mself\u001B[39;49m\u001B[38;5;241;43m.\u001B[39;49m\u001B[43mdense\u001B[49m\u001B[43m(\u001B[49m\u001B[43mhidden_states\u001B[49m\u001B[43m)\u001B[49m\n\u001B[0;32m    461\u001B[0m     hidden_states \u001B[38;5;241m=\u001B[39m \u001B[38;5;28mself\u001B[39m\u001B[38;5;241m.\u001B[39mdropout(hidden_states)\n\u001B[0;32m    462\u001B[0m     hidden_states \u001B[38;5;241m=\u001B[39m \u001B[38;5;28mself\u001B[39m\u001B[38;5;241m.\u001B[39mLayerNorm(hidden_states \u001B[38;5;241m+\u001B[39m input_tensor)\n",
      "File \u001B[1;32m~\\Desktop\\DATABASE\\competitions\\summer_2022\\rbk\\.venv\\lib\\site-packages\\torch\\nn\\modules\\module.py:1130\u001B[0m, in \u001B[0;36mModule._call_impl\u001B[1;34m(self, *input, **kwargs)\u001B[0m\n\u001B[0;32m   1126\u001B[0m \u001B[38;5;66;03m# If we don't have any hooks, we want to skip the rest of the logic in\u001B[39;00m\n\u001B[0;32m   1127\u001B[0m \u001B[38;5;66;03m# this function, and just call forward.\u001B[39;00m\n\u001B[0;32m   1128\u001B[0m \u001B[38;5;28;01mif\u001B[39;00m \u001B[38;5;129;01mnot\u001B[39;00m (\u001B[38;5;28mself\u001B[39m\u001B[38;5;241m.\u001B[39m_backward_hooks \u001B[38;5;129;01mor\u001B[39;00m \u001B[38;5;28mself\u001B[39m\u001B[38;5;241m.\u001B[39m_forward_hooks \u001B[38;5;129;01mor\u001B[39;00m \u001B[38;5;28mself\u001B[39m\u001B[38;5;241m.\u001B[39m_forward_pre_hooks \u001B[38;5;129;01mor\u001B[39;00m _global_backward_hooks\n\u001B[0;32m   1129\u001B[0m         \u001B[38;5;129;01mor\u001B[39;00m _global_forward_hooks \u001B[38;5;129;01mor\u001B[39;00m _global_forward_pre_hooks):\n\u001B[1;32m-> 1130\u001B[0m     \u001B[38;5;28;01mreturn\u001B[39;00m forward_call(\u001B[38;5;241m*\u001B[39m\u001B[38;5;28minput\u001B[39m, \u001B[38;5;241m*\u001B[39m\u001B[38;5;241m*\u001B[39mkwargs)\n\u001B[0;32m   1131\u001B[0m \u001B[38;5;66;03m# Do not call functions when jit is used\u001B[39;00m\n\u001B[0;32m   1132\u001B[0m full_backward_hooks, non_full_backward_hooks \u001B[38;5;241m=\u001B[39m [], []\n",
      "File \u001B[1;32m~\\Desktop\\DATABASE\\competitions\\summer_2022\\rbk\\.venv\\lib\\site-packages\\torch\\nn\\modules\\linear.py:114\u001B[0m, in \u001B[0;36mLinear.forward\u001B[1;34m(self, input)\u001B[0m\n\u001B[0;32m    113\u001B[0m \u001B[38;5;28;01mdef\u001B[39;00m \u001B[38;5;21mforward\u001B[39m(\u001B[38;5;28mself\u001B[39m, \u001B[38;5;28minput\u001B[39m: Tensor) \u001B[38;5;241m-\u001B[39m\u001B[38;5;241m>\u001B[39m Tensor:\n\u001B[1;32m--> 114\u001B[0m     \u001B[38;5;28;01mreturn\u001B[39;00m \u001B[43mF\u001B[49m\u001B[38;5;241;43m.\u001B[39;49m\u001B[43mlinear\u001B[49m\u001B[43m(\u001B[49m\u001B[38;5;28;43minput\u001B[39;49m\u001B[43m,\u001B[49m\u001B[43m \u001B[49m\u001B[38;5;28;43mself\u001B[39;49m\u001B[38;5;241;43m.\u001B[39;49m\u001B[43mweight\u001B[49m\u001B[43m,\u001B[49m\u001B[43m \u001B[49m\u001B[38;5;28;43mself\u001B[39;49m\u001B[38;5;241;43m.\u001B[39;49m\u001B[43mbias\u001B[49m\u001B[43m)\u001B[49m\n",
      "\u001B[1;31mKeyboardInterrupt\u001B[0m: "
     ]
    }
   ],
   "source": [
    "if True:\n",
    "        from transformers import pipeline\n",
    "        from tqdm import tqdm\n",
    "        pipe = pipeline(model=\"Tatyana/rubert-base-cased-sentiment-new\",\n",
    "                        return_all_scores=True)\n",
    "        sentiments = []\n",
    "        for title in tqdm(train_data[\"title_preprocessed\"]):\n",
    "            sentiment = pipe(title)\n",
    "            sentiments.append(sentiment)\n",
    "        sentiment_matrix = pd.DataFrame(\n",
    "            [[el[\"score\"] for el in sentiment] for sentiment in sentiments],\n",
    "            columns=[\"Neuteral\", \"Positive\", \"Negative\"])\n",
    "        train_data = pd.concat((train_data, sentiment_matrix), axis=1)\n",
    "\n",
    "        sentiments = []\n",
    "        for title in tqdm(train_data[\"title_preprocessed\"]):\n",
    "            sentiment = pipe(title)\n",
    "            sentiments.append(sentiment)\n",
    "        sentiment_matrix = pd.DataFrame(\n",
    "            [[el[\"score\"] for el in sentiment] for sentiment in sentiments],\n",
    "            columns=[\"other\", \"misinformation\", \"factual\"])\n",
    "        train_data = pd.concat((train_data, sentiment_matrix), axis=1)"
   ],
   "metadata": {
    "collapsed": false,
    "pycharm": {
     "name": "#%%\n"
    }
   }
  },
  {
   "cell_type": "code",
   "execution_count": 309,
   "outputs": [
    {
     "data": {
      "text/plain": "      Neuteral  Positive  Negative\n0     0.829740  0.112881  0.057379\n1     0.830100  0.113010  0.056890\n2     0.819527  0.149049  0.031424\n3     0.818788  0.149520  0.031692\n4     0.180925  0.067888  0.751187\n...        ...       ...       ...\n6902  0.806475  0.161121  0.032404\n6903  0.392245  0.548340  0.059416\n6904  0.829588  0.112863  0.057549\n6905  0.180552  0.067741  0.751707\n6906  0.824710  0.143834  0.031456\n\n[6907 rows x 3 columns]",
      "text/html": "<div>\n<style scoped>\n    .dataframe tbody tr th:only-of-type {\n        vertical-align: middle;\n    }\n\n    .dataframe tbody tr th {\n        vertical-align: top;\n    }\n\n    .dataframe thead th {\n        text-align: right;\n    }\n</style>\n<table border=\"1\" class=\"dataframe\">\n  <thead>\n    <tr style=\"text-align: right;\">\n      <th></th>\n      <th>Neuteral</th>\n      <th>Positive</th>\n      <th>Negative</th>\n    </tr>\n  </thead>\n  <tbody>\n    <tr>\n      <th>0</th>\n      <td>0.829740</td>\n      <td>0.112881</td>\n      <td>0.057379</td>\n    </tr>\n    <tr>\n      <th>1</th>\n      <td>0.830100</td>\n      <td>0.113010</td>\n      <td>0.056890</td>\n    </tr>\n    <tr>\n      <th>2</th>\n      <td>0.819527</td>\n      <td>0.149049</td>\n      <td>0.031424</td>\n    </tr>\n    <tr>\n      <th>3</th>\n      <td>0.818788</td>\n      <td>0.149520</td>\n      <td>0.031692</td>\n    </tr>\n    <tr>\n      <th>4</th>\n      <td>0.180925</td>\n      <td>0.067888</td>\n      <td>0.751187</td>\n    </tr>\n    <tr>\n      <th>...</th>\n      <td>...</td>\n      <td>...</td>\n      <td>...</td>\n    </tr>\n    <tr>\n      <th>6902</th>\n      <td>0.806475</td>\n      <td>0.161121</td>\n      <td>0.032404</td>\n    </tr>\n    <tr>\n      <th>6903</th>\n      <td>0.392245</td>\n      <td>0.548340</td>\n      <td>0.059416</td>\n    </tr>\n    <tr>\n      <th>6904</th>\n      <td>0.829588</td>\n      <td>0.112863</td>\n      <td>0.057549</td>\n    </tr>\n    <tr>\n      <th>6905</th>\n      <td>0.180552</td>\n      <td>0.067741</td>\n      <td>0.751707</td>\n    </tr>\n    <tr>\n      <th>6906</th>\n      <td>0.824710</td>\n      <td>0.143834</td>\n      <td>0.031456</td>\n    </tr>\n  </tbody>\n</table>\n<p>6907 rows × 3 columns</p>\n</div>"
     },
     "execution_count": 309,
     "metadata": {},
     "output_type": "execute_result"
    }
   ],
   "source": [
    "sentiment_matrix"
   ],
   "metadata": {
    "collapsed": false,
    "pycharm": {
     "name": "#%%\n"
    }
   }
  },
  {
   "cell_type": "code",
   "execution_count": 316,
   "outputs": [
    {
     "data": {
      "text/plain": "                                         document_id  \\\n0     624ac09c9a7947db3d80c98eIDE7mtH4RBqGn-8MXfGffQ   \n1     620f6b899a7947701cf489e1KtVJsteHStO5oditt3Uvzw   \n2     620730cf9a7947ab96a44e27hk7puWJwSziw0m3sfTkKWA   \n3     6262a5889a79470b78c9ca307UKY2SSZTjCcjhwBzxw37w   \n4     626678929a79477ca0101568wuMYES90REuV5YhrN75IXg   \n...                                              ...   \n6995  61fd479c9a7947848183694751RC_1i5QlGuv7B2FzwTjw   \n6996  628a8f1c9a79478c64a7dae450tIkSGVSf2O8XQgk_uaHQ   \n6997  6244cf5e9a79479099346b26tKlqoxQYSmij0ZBrGzebug   \n6998  627303699a794749b8116abc12JX_3ZDTDu2XHF3k2eJVg   \n6999  627f1c089a794743b070ff73hVvdVmFxS2SlZ2_lECDEow   \n\n                       page_id                 session    ctr  \\\n0     624ac09c9a7947db3d80c98e  IDE7mtH4RBqGn-8MXfGffQ  1.580   \n1     620f6b899a7947701cf489e1  KtVJsteHStO5oditt3Uvzw  1.853   \n2     620730cf9a7947ab96a44e27  hk7puWJwSziw0m3sfTkKWA    NaN   \n3     6262a5889a79470b78c9ca30  7UKY2SSZTjCcjhwBzxw37w    NaN   \n4     626678929a79477ca0101568  wuMYES90REuV5YhrN75IXg    NaN   \n...                        ...                     ...    ...   \n6995  61fd479c9a79478481836947  51RC_1i5QlGuv7B2FzwTjw  2.354   \n6996  628a8f1c9a79478c64a7dae4  50tIkSGVSf2O8XQgk_uaHQ  4.112   \n6997  6244cf5e9a79479099346b26  tKlqoxQYSmij0ZBrGzebug  5.125   \n6998  627303699a794749b8116abc  12JX_3ZDTDu2XHF3k2eJVg    NaN   \n6999  627f1c089a794743b070ff73  hVvdVmFxS2SlZ2_lECDEow  2.937   \n\n             publish_date                                              title  \\\n0     2022-04-04 10:29:44  Европейский банк развития приостановил доступ ...   \n1     2022-02-18 10:00:39  Кремль назвал регулярным процессом учебные зап...   \n2     2022-02-12 04:24:02  Госсекретарь Швеции заявила о нежелании вступа...   \n3     2022-04-22 13:24:55  Песков назвал прагматичной выдачу лицензии Газ...   \n4     2022-04-25 10:42:23  В Хабаровске задержали главу филиала РАНХиГС п...   \n...                   ...                                                ...   \n6995  2022-02-04 16:19:09  Открытие Олимпиады, новые китайские контракты ...   \n6996  2022-05-22 20:07:46  Саудовская Аравия выразила надежду на соглашен...   \n6997  2022-03-30 21:59:02  Брюс Уиллис завершит актерскую карьеру из-за б...   \n6998  2022-05-04 23:15:48  Экс-посол Франции назвал болезненным для Европ...   \n6999  2022-05-14 03:41:33  Минфин США предостерег зарубежные банки от пом...   \n\n                                           title_parsed  \\\n0     Европейский банк развития приостановил доступ ...   \n1     Кремль назвал регулярным процессом учебные зап...   \n2     Госсекретарь Швеции заявила о нежелании вступа...   \n3     Песков назвал прагматичной выдачу лицензии Газ...   \n4     В Хабаровске задержали главу филиала РАНХиГС п...   \n...                                                 ...   \n6995  Открытие Олимпиады, новые китайские контракты ...   \n6996  Саудовская Аравия выразила надежду на соглашен...   \n6997  Брюс Уиллис завершит актерскую карьеру из-за б...   \n6998  Экс-посол Франции назвал болезненным для Европ...   \n6999  Минфин США предостерег зарубежные банки от пом...   \n\n                               title_parsed_from_yandex  \\\n0                                                         \n1     Дмитрий Песков: учебные запуски баллистических...   \n2                                                         \n3                                                         \n4                                                         \n...                                                 ...   \n6995                                                      \n6996                                                      \n6997                                                      \n6998                                                      \n6999                                                      \n\n                                     title_preprocessed  \\\n0     Европейский банк развития приостановил доступ ...   \n1     Кремль назвал регулярным процессом учебные зап...   \n2     Госсекретарь Швеции заявила о нежелании вступа...   \n3     Песков назвал прагматичной выдачу лицензии Газ...   \n4     В Хабаровске задержали главу филиала РАНХиГС п...   \n...                                                 ...   \n6995  Открытие Олимпиады, новые китайские контракты ...   \n6996  Саудовская Аравия выразила надежду на соглашен...   \n6997  Брюс Уиллис завершит актерскую карьеру из-за б...   \n6998  Экс-посол Франции назвал болезненным для Европ...   \n6999  Минфин США предостерег зарубежные банки от пом...   \n\n                                                authors  ...  \\\n0                                                  None  ...   \n1     [54244e01cbb20f03076b236d, 5878a2ec9a7947e531f...  ...   \n2                                                  None  ...   \n3                                                  None  ...   \n4                                                  None  ...   \n...                                                 ...  ...   \n6995                         [5878a2ec9a7947e531faf52c]  ...   \n6996  [60fa94ed9a7947b7152c986a, 5e4663219a794736af9...  ...   \n6997                                               None  ...   \n6998                                               None  ...   \n6999                         [5edf68259a79470758e7ab2d]  ...   \n\n                     yandex_recommendation_image_parsed  \\\n0     https://s0.rbk.ru/v6_top_pics/resized/1200xH/m...   \n1     https://s0.rbk.ru/v6_top_pics/resized/1200xH/m...   \n2                                                  None   \n3     https://s0.rbk.ru/v6_top_pics/resized/1200xH/m...   \n4     https://s0.rbk.ru/v6_top_pics/resized/1200xH/m...   \n...                                                 ...   \n6995  https://s0.rbk.ru/v6_top_pics/resized/1200xH/m...   \n6996  https://s0.rbk.ru/v6_top_pics/resized/1200xH/m...   \n6997                                               None   \n6998  https://s0.rbk.ru/v6_top_pics/resized/1200xH/m...   \n6999  https://s0.rbk.ru/v6_top_pics/resized/1200xH/m...   \n\n     yandex_recommendation_category_parsed  views  depth full_reads_percent  \\\n0                                  Финансы  20460  1.134             35.850   \n1                                 Политика  19038  1.142             38.355   \n2              Военная операция на Украине  51151  1.185             36.424   \n3                                 Политика   3782  1.053             30.169   \n4                                 Общество   3065  1.063             34.617   \n...                                    ...    ...    ...                ...   \n6995                              Общество  21738  1.188             28.448   \n6996                                Бизнес   8377  1.056             38.045   \n6997                              Общество  37004  1.176             50.757   \n6998                             Экономика   3450  1.068             38.928   \n6999                         Война санкций  11981  1.072             36.249   \n\n          PER_TITLE                    ORG_TITLE                    LOC_TITLE  \\\n0              None              [Москва, Минск]  [Европейский банк развития]   \n1              None                     [Кремль]                         None   \n2              None            [Швеция, Украина]                       [НАТО]   \n3              None                         None                [Газпромбанк]   \n4              None                  [Хабаровск]                    [РАНХиГС]   \n...             ...                          ...                          ...   \n6995           None                     [Россия]                         None   \n6996           None  [Саудовская Аравия, Россия]                      [ОПЕК+]   \n6997  [Брюс Уиллис]                         None                         None   \n6998           None            [Франция, Европа]                         None   \n6999           None                [США, Россия]                     [Минфин]   \n\n                                  news_title_lemmatized  \\\n0     [европейский, банк, развитие, приостановить, д...   \n1     [кремль, назвать, регулярный, процесс, учебный...   \n2     [госсекретарь, швеция, заявить, о, нежелание, ...   \n3     [песков, назвать, прагматичный, выдача, лиценз...   \n4     [в, хабаровск, задержать, глава, филиал, ранхи...   \n...                                                 ...   \n6995  [открытие, олимпиада, ,, новый, китайский, кон...   \n6996  [саудовский, аравия, выразить, надежда, на, со...   \n6997  [брюс, уиллис, завершить, актерский, карьера, ...   \n6998  [экс-посол, франция, назвать, болезненный, для...   \n6999  [минфин, сша, предостеречь, зарубежный, банк, ...   \n\n                                NAMES_FROM_TITLE  \n0     [Москва, Минск, Европейский банк развития]  \n1                                       [Кремль]  \n2                        [Швеция, Украина, НАТО]  \n3                                  [Газпромбанк]  \n4                           [Хабаровск, РАНХиГС]  \n...                                          ...  \n6995                                    [Россия]  \n6996          [Саудовская Аравия, Россия, ОПЕК+]  \n6997                               [Брюс Уиллис]  \n6998                           [Франция, Европа]  \n6999                       [США, Россия, Минфин]  \n\n[6907 rows x 37 columns]",
      "text/html": "<div>\n<style scoped>\n    .dataframe tbody tr th:only-of-type {\n        vertical-align: middle;\n    }\n\n    .dataframe tbody tr th {\n        vertical-align: top;\n    }\n\n    .dataframe thead th {\n        text-align: right;\n    }\n</style>\n<table border=\"1\" class=\"dataframe\">\n  <thead>\n    <tr style=\"text-align: right;\">\n      <th></th>\n      <th>document_id</th>\n      <th>page_id</th>\n      <th>session</th>\n      <th>ctr</th>\n      <th>publish_date</th>\n      <th>title</th>\n      <th>title_parsed</th>\n      <th>title_parsed_from_yandex</th>\n      <th>title_preprocessed</th>\n      <th>authors</th>\n      <th>...</th>\n      <th>yandex_recommendation_image_parsed</th>\n      <th>yandex_recommendation_category_parsed</th>\n      <th>views</th>\n      <th>depth</th>\n      <th>full_reads_percent</th>\n      <th>PER_TITLE</th>\n      <th>ORG_TITLE</th>\n      <th>LOC_TITLE</th>\n      <th>news_title_lemmatized</th>\n      <th>NAMES_FROM_TITLE</th>\n    </tr>\n  </thead>\n  <tbody>\n    <tr>\n      <th>0</th>\n      <td>624ac09c9a7947db3d80c98eIDE7mtH4RBqGn-8MXfGffQ</td>\n      <td>624ac09c9a7947db3d80c98e</td>\n      <td>IDE7mtH4RBqGn-8MXfGffQ</td>\n      <td>1.580</td>\n      <td>2022-04-04 10:29:44</td>\n      <td>Европейский банк развития приостановил доступ ...</td>\n      <td>Европейский банк развития приостановил доступ ...</td>\n      <td></td>\n      <td>Европейский банк развития приостановил доступ ...</td>\n      <td>None</td>\n      <td>...</td>\n      <td>https://s0.rbk.ru/v6_top_pics/resized/1200xH/m...</td>\n      <td>Финансы</td>\n      <td>20460</td>\n      <td>1.134</td>\n      <td>35.850</td>\n      <td>None</td>\n      <td>[Москва, Минск]</td>\n      <td>[Европейский банк развития]</td>\n      <td>[европейский, банк, развитие, приостановить, д...</td>\n      <td>[Москва, Минск, Европейский банк развития]</td>\n    </tr>\n    <tr>\n      <th>1</th>\n      <td>620f6b899a7947701cf489e1KtVJsteHStO5oditt3Uvzw</td>\n      <td>620f6b899a7947701cf489e1</td>\n      <td>KtVJsteHStO5oditt3Uvzw</td>\n      <td>1.853</td>\n      <td>2022-02-18 10:00:39</td>\n      <td>Кремль назвал регулярным процессом учебные зап...</td>\n      <td>Кремль назвал регулярным процессом учебные зап...</td>\n      <td>Дмитрий Песков: учебные запуски баллистических...</td>\n      <td>Кремль назвал регулярным процессом учебные зап...</td>\n      <td>[54244e01cbb20f03076b236d, 5878a2ec9a7947e531f...</td>\n      <td>...</td>\n      <td>https://s0.rbk.ru/v6_top_pics/resized/1200xH/m...</td>\n      <td>Политика</td>\n      <td>19038</td>\n      <td>1.142</td>\n      <td>38.355</td>\n      <td>None</td>\n      <td>[Кремль]</td>\n      <td>None</td>\n      <td>[кремль, назвать, регулярный, процесс, учебный...</td>\n      <td>[Кремль]</td>\n    </tr>\n    <tr>\n      <th>2</th>\n      <td>620730cf9a7947ab96a44e27hk7puWJwSziw0m3sfTkKWA</td>\n      <td>620730cf9a7947ab96a44e27</td>\n      <td>hk7puWJwSziw0m3sfTkKWA</td>\n      <td>NaN</td>\n      <td>2022-02-12 04:24:02</td>\n      <td>Госсекретарь Швеции заявила о нежелании вступа...</td>\n      <td>Госсекретарь Швеции заявила о нежелании вступа...</td>\n      <td></td>\n      <td>Госсекретарь Швеции заявила о нежелании вступа...</td>\n      <td>None</td>\n      <td>...</td>\n      <td>None</td>\n      <td>Военная операция на Украине</td>\n      <td>51151</td>\n      <td>1.185</td>\n      <td>36.424</td>\n      <td>None</td>\n      <td>[Швеция, Украина]</td>\n      <td>[НАТО]</td>\n      <td>[госсекретарь, швеция, заявить, о, нежелание, ...</td>\n      <td>[Швеция, Украина, НАТО]</td>\n    </tr>\n    <tr>\n      <th>3</th>\n      <td>6262a5889a79470b78c9ca307UKY2SSZTjCcjhwBzxw37w</td>\n      <td>6262a5889a79470b78c9ca30</td>\n      <td>7UKY2SSZTjCcjhwBzxw37w</td>\n      <td>NaN</td>\n      <td>2022-04-22 13:24:55</td>\n      <td>Песков назвал прагматичной выдачу лицензии Газ...</td>\n      <td>Песков назвал прагматичной выдачу лицензии Газ...</td>\n      <td></td>\n      <td>Песков назвал прагматичной выдачу лицензии Газ...</td>\n      <td>None</td>\n      <td>...</td>\n      <td>https://s0.rbk.ru/v6_top_pics/resized/1200xH/m...</td>\n      <td>Политика</td>\n      <td>3782</td>\n      <td>1.053</td>\n      <td>30.169</td>\n      <td>None</td>\n      <td>None</td>\n      <td>[Газпромбанк]</td>\n      <td>[песков, назвать, прагматичный, выдача, лиценз...</td>\n      <td>[Газпромбанк]</td>\n    </tr>\n    <tr>\n      <th>4</th>\n      <td>626678929a79477ca0101568wuMYES90REuV5YhrN75IXg</td>\n      <td>626678929a79477ca0101568</td>\n      <td>wuMYES90REuV5YhrN75IXg</td>\n      <td>NaN</td>\n      <td>2022-04-25 10:42:23</td>\n      <td>В Хабаровске задержали главу филиала РАНХиГС п...</td>\n      <td>В Хабаровске задержали главу филиала РАНХиГС п...</td>\n      <td></td>\n      <td>В Хабаровске задержали главу филиала РАНХиГС п...</td>\n      <td>None</td>\n      <td>...</td>\n      <td>https://s0.rbk.ru/v6_top_pics/resized/1200xH/m...</td>\n      <td>Общество</td>\n      <td>3065</td>\n      <td>1.063</td>\n      <td>34.617</td>\n      <td>None</td>\n      <td>[Хабаровск]</td>\n      <td>[РАНХиГС]</td>\n      <td>[в, хабаровск, задержать, глава, филиал, ранхи...</td>\n      <td>[Хабаровск, РАНХиГС]</td>\n    </tr>\n    <tr>\n      <th>...</th>\n      <td>...</td>\n      <td>...</td>\n      <td>...</td>\n      <td>...</td>\n      <td>...</td>\n      <td>...</td>\n      <td>...</td>\n      <td>...</td>\n      <td>...</td>\n      <td>...</td>\n      <td>...</td>\n      <td>...</td>\n      <td>...</td>\n      <td>...</td>\n      <td>...</td>\n      <td>...</td>\n      <td>...</td>\n      <td>...</td>\n      <td>...</td>\n      <td>...</td>\n      <td>...</td>\n    </tr>\n    <tr>\n      <th>6995</th>\n      <td>61fd479c9a7947848183694751RC_1i5QlGuv7B2FzwTjw</td>\n      <td>61fd479c9a79478481836947</td>\n      <td>51RC_1i5QlGuv7B2FzwTjw</td>\n      <td>2.354</td>\n      <td>2022-02-04 16:19:09</td>\n      <td>Открытие Олимпиады, новые китайские контракты ...</td>\n      <td>Открытие Олимпиады, новые китайские контракты ...</td>\n      <td></td>\n      <td>Открытие Олимпиады, новые китайские контракты ...</td>\n      <td>[5878a2ec9a7947e531faf52c]</td>\n      <td>...</td>\n      <td>https://s0.rbk.ru/v6_top_pics/resized/1200xH/m...</td>\n      <td>Общество</td>\n      <td>21738</td>\n      <td>1.188</td>\n      <td>28.448</td>\n      <td>None</td>\n      <td>[Россия]</td>\n      <td>None</td>\n      <td>[открытие, олимпиада, ,, новый, китайский, кон...</td>\n      <td>[Россия]</td>\n    </tr>\n    <tr>\n      <th>6996</th>\n      <td>628a8f1c9a79478c64a7dae450tIkSGVSf2O8XQgk_uaHQ</td>\n      <td>628a8f1c9a79478c64a7dae4</td>\n      <td>50tIkSGVSf2O8XQgk_uaHQ</td>\n      <td>4.112</td>\n      <td>2022-05-22 20:07:46</td>\n      <td>Саудовская Аравия выразила надежду на соглашен...</td>\n      <td>Саудовская Аравия выразила надежду на соглашен...</td>\n      <td></td>\n      <td>Саудовская Аравия выразила надежду на соглашен...</td>\n      <td>[60fa94ed9a7947b7152c986a, 5e4663219a794736af9...</td>\n      <td>...</td>\n      <td>https://s0.rbk.ru/v6_top_pics/resized/1200xH/m...</td>\n      <td>Бизнес</td>\n      <td>8377</td>\n      <td>1.056</td>\n      <td>38.045</td>\n      <td>None</td>\n      <td>[Саудовская Аравия, Россия]</td>\n      <td>[ОПЕК+]</td>\n      <td>[саудовский, аравия, выразить, надежда, на, со...</td>\n      <td>[Саудовская Аравия, Россия, ОПЕК+]</td>\n    </tr>\n    <tr>\n      <th>6997</th>\n      <td>6244cf5e9a79479099346b26tKlqoxQYSmij0ZBrGzebug</td>\n      <td>6244cf5e9a79479099346b26</td>\n      <td>tKlqoxQYSmij0ZBrGzebug</td>\n      <td>5.125</td>\n      <td>2022-03-30 21:59:02</td>\n      <td>Брюс Уиллис завершит актерскую карьеру из-за б...</td>\n      <td>Брюс Уиллис завершит актерскую карьеру из-за б...</td>\n      <td></td>\n      <td>Брюс Уиллис завершит актерскую карьеру из-за б...</td>\n      <td>None</td>\n      <td>...</td>\n      <td>None</td>\n      <td>Общество</td>\n      <td>37004</td>\n      <td>1.176</td>\n      <td>50.757</td>\n      <td>[Брюс Уиллис]</td>\n      <td>None</td>\n      <td>None</td>\n      <td>[брюс, уиллис, завершить, актерский, карьера, ...</td>\n      <td>[Брюс Уиллис]</td>\n    </tr>\n    <tr>\n      <th>6998</th>\n      <td>627303699a794749b8116abc12JX_3ZDTDu2XHF3k2eJVg</td>\n      <td>627303699a794749b8116abc</td>\n      <td>12JX_3ZDTDu2XHF3k2eJVg</td>\n      <td>NaN</td>\n      <td>2022-05-04 23:15:48</td>\n      <td>Экс-посол Франции назвал болезненным для Европ...</td>\n      <td>Экс-посол Франции назвал болезненным для Европ...</td>\n      <td></td>\n      <td>Экс-посол Франции назвал болезненным для Европ...</td>\n      <td>None</td>\n      <td>...</td>\n      <td>https://s0.rbk.ru/v6_top_pics/resized/1200xH/m...</td>\n      <td>Экономика</td>\n      <td>3450</td>\n      <td>1.068</td>\n      <td>38.928</td>\n      <td>None</td>\n      <td>[Франция, Европа]</td>\n      <td>None</td>\n      <td>[экс-посол, франция, назвать, болезненный, для...</td>\n      <td>[Франция, Европа]</td>\n    </tr>\n    <tr>\n      <th>6999</th>\n      <td>627f1c089a794743b070ff73hVvdVmFxS2SlZ2_lECDEow</td>\n      <td>627f1c089a794743b070ff73</td>\n      <td>hVvdVmFxS2SlZ2_lECDEow</td>\n      <td>2.937</td>\n      <td>2022-05-14 03:41:33</td>\n      <td>Минфин США предостерег зарубежные банки от пом...</td>\n      <td>Минфин США предостерег зарубежные банки от пом...</td>\n      <td></td>\n      <td>Минфин США предостерег зарубежные банки от пом...</td>\n      <td>[5edf68259a79470758e7ab2d]</td>\n      <td>...</td>\n      <td>https://s0.rbk.ru/v6_top_pics/resized/1200xH/m...</td>\n      <td>Война санкций</td>\n      <td>11981</td>\n      <td>1.072</td>\n      <td>36.249</td>\n      <td>None</td>\n      <td>[США, Россия]</td>\n      <td>[Минфин]</td>\n      <td>[минфин, сша, предостеречь, зарубежный, банк, ...</td>\n      <td>[США, Россия, Минфин]</td>\n    </tr>\n  </tbody>\n</table>\n<p>6907 rows × 37 columns</p>\n</div>"
     },
     "execution_count": 316,
     "metadata": {},
     "output_type": "execute_result"
    }
   ],
   "source": [
    "train_data"
   ],
   "metadata": {
    "collapsed": false,
    "pycharm": {
     "name": "#%%\n"
    }
   }
  },
  {
   "cell_type": "code",
   "execution_count": 319,
   "outputs": [],
   "source": [
    "sentiment_matrix.index = train_data.index"
   ],
   "metadata": {
    "collapsed": false,
    "pycharm": {
     "name": "#%%\n"
    }
   }
  },
  {
   "cell_type": "code",
   "execution_count": 321,
   "outputs": [],
   "source": [
    "train_data = pd.concat([train_data, sentiment_matrix], axis=1)"
   ],
   "metadata": {
    "collapsed": false,
    "pycharm": {
     "name": "#%%\n"
    }
   }
  },
  {
   "cell_type": "code",
   "execution_count": 263,
   "outputs": [],
   "source": [
    "train_data['ctr'] = train_data['ctr'].fillna(0)"
   ],
   "metadata": {
    "collapsed": false,
    "pycharm": {
     "name": "#%%\n"
    }
   }
  },
  {
   "cell_type": "code",
   "execution_count": 264,
   "outputs": [],
   "source": [
    "for i in [1, 5, 10, 30, 60, 120, 360]:\n",
    "    train_data[f'fufuf_{i}_mean'] = train_data['publish_date'].map(full.set_index('publish_date')['ctr'].rolling(f'{i}Min').mean().to_dict())\n",
    "    train_data[f'fufuf_{i}_max'] = train_data['publish_date'].map(full.set_index('publish_date')['ctr'].rolling(f'{i}Min').max().to_dict())\n",
    "    train_data[f'fufuf_{i}_min'] = train_data['publish_date'].map(full.set_index('publish_date')['ctr'].rolling(f'{i}Min').min().to_dict())"
   ],
   "metadata": {
    "collapsed": false,
    "pycharm": {
     "name": "#%%\n"
    }
   }
  },
  {
   "cell_type": "code",
   "execution_count": 265,
   "outputs": [],
   "source": [
    "\n",
    "for i in [1, 5, 10, 30, 60, 120, 360]:\n",
    "    train_data[f'fufufe_{i}_mean'] = train_data['publish_date'].map(\n",
    "        full.set_index('publish_date')['title_preprocessed'].apply(lambda x: len(x.split())).rolling(\n",
    "            f'{i}Min').mean().to_dict())\n",
    "    train_data[f'fufufe_{i}_max'] = train_data['publish_date'].map(\n",
    "        full.set_index('publish_date')['title_preprocessed'].apply(lambda x: len(x.split())).rolling(\n",
    "            f'{i}Min').max().to_dict())\n",
    "    train_data[f'fufufe_{i}_min'] = train_data['publish_date'].map(\n",
    "        full.set_index('publish_date')['title_preprocessed'].apply(lambda x: len(x.split())).rolling(\n",
    "            f'{i}Min').min().to_dict())"
   ],
   "metadata": {
    "collapsed": false,
    "pycharm": {
     "name": "#%%\n"
    }
   }
  },
  {
   "cell_type": "code",
   "execution_count": 266,
   "outputs": [],
   "source": [
    "for i in [1, 5, 10, 30, 60, 120, 360]:\n",
    "    train_data[f'fufufef_{i}_mean'] = train_data['publish_date'].map(\n",
    "        full.set_index('publish_date')['NAMES_FROM_TITLE'].apply(lambda x: len(x)).rolling(\n",
    "            f'{i}Min').mean().to_dict())\n",
    "    train_data[f'fufufef_{i}_max'] = train_data['publish_date'].map(\n",
    "        full.set_index('publish_date')['NAMES_FROM_TITLE'].apply(lambda x: len(x)).rolling(\n",
    "            f'{i}Min').max().to_dict())\n",
    "    train_data[f'fufufef_{i}_min'] = train_data['publish_date'].map(\n",
    "        full.set_index('publish_date')['NAMES_FROM_TITLE'].apply(lambda x: len(x)).rolling(\n",
    "            f'{i}Min').min().to_dict())"
   ],
   "metadata": {
    "collapsed": false,
    "pycharm": {
     "name": "#%%\n"
    }
   }
  },
  {
   "cell_type": "code",
   "execution_count": 267,
   "outputs": [],
   "source": [
    "train_data = train_data[train_data['document_id'] != '6236462b9a7947544365254d0664WRQsQRGOIbsqUT0LSw'].copy()\n",
    "y_data = train_data[FeaturesConstants.target].copy()"
   ],
   "metadata": {
    "collapsed": false,
    "pycharm": {
     "name": "#%%\n"
    }
   }
  },
  {
   "cell_type": "markdown",
   "source": [
    "`622628279a7947c6c137810dE9yxvjhnSZquRAMkc5jHrg` - test - не забыть"
   ],
   "metadata": {
    "collapsed": false,
    "pycharm": {
     "name": "#%% md\n"
    }
   }
  },
  {
   "cell_type": "markdown",
   "source": [
    "# Features"
   ],
   "metadata": {
    "collapsed": false,
    "pycharm": {
     "name": "#%% md\n"
    }
   }
  },
  {
   "cell_type": "markdown",
   "id": "through-panel",
   "metadata": {
    "pycharm": {
     "name": "#%% md\n"
    }
   },
   "source": [
    "## 3. Feature Generation"
   ]
  },
  {
   "cell_type": "markdown",
   "id": "thirty-northeast",
   "metadata": {
    "pycharm": {
     "name": "#%% md\n"
    }
   },
   "source": [
    "## 3.1 Identifier\n",
    "\n",
    "- `page_id`: `624ac09c9a7947db3d80c98e`\n",
    "\n",
    "## 3.2 Date\n",
    "\n",
    "- `publish_date`: `2022-04-04 10:29:44` + `timedelta(hours=3)`\n",
    "\n",
    "## 3.3 Title\n",
    "\n",
    "- `title` - title новости от организаторов, (**текст**)\n",
    "- `title_parsed` - спарсенный title новости, (**текст**)\n",
    "- `optional[title_parsed_from_yandex]` - заголовок статьи в `yandex`, (**текст**)\n",
    "- `title_preprocessed` - удалены `category`\n",
    "\n",
    "## 3.4 Category\n",
    "\n",
    "- `category` - категория новости, **hash**\n",
    "- `category_parsed` - спарсенная категория новости, **текст**\n",
    "- `category_from_title` - категория, выделенная из текста, **Optional[текст]**\n",
    "\n",
    "## 3.5 Ctr\n",
    "\n",
    "- `ctr` - показатель кликабельности, **Optional[float64]**\n",
    "\n",
    "## 3.6 Tags\n",
    "\n",
    "- `tags` - таги, закодированные от организаторов, **Optional[hash]**\n",
    "- `tags_parsed` - спарсенные тэги, **Optional[текст]**\n",
    "\n",
    "## 3.7 Auhtors\n",
    "\n",
    "- `authors` - авторы новости от организаторов, **Optional[hash]**\n",
    "- `authors_parsed` - авторы новости **Optional[текст]**\n",
    "\n",
    "## 3.8 Text\n",
    "\n",
    "- `news_text_parsed` - текст новости, полный, **текст** \n",
    "- `news_text_overview_parsed` - некоторая выжимка новости, **текст**\n",
    "- `news_amount_of_paragraphs_parsed` - количество параграфов в тексте, **int64**\n",
    "- `news_amount_of_inline_items_parsed` - количество ссылок на другие новости в тексте новости, **int64**\n",
    "- `news_inline_titles_parsed` - заголовки на другие статьи в тексте новости, **Optional[текст]**\n",
    "- `news_has_image_parsed` - есть ли в новости картинка, **int64**\n",
    "- `news_image_title_parsed` - подпись к изображению, если есть, **Optional[текст]**\n",
    "\n",
    "## 3.9. Features Selector Transformer"
   ]
  },
  {
   "cell_type": "code",
   "execution_count": 449,
   "id": "tender-bidder",
   "metadata": {
    "pycharm": {
     "name": "#%%\n"
    }
   },
   "outputs": [],
   "source": [
    "from src.transformers.base import Compose\n",
    "from src.transformers.feature_generation import (\n",
    "    DatetimeTransformer,\n",
    "    TitleTransformer,\n",
    "    CategoryTransformer,\n",
    "    CTRTransformer,\n",
    "    TagsTransformer,\n",
    "    AuthorsTransformer,\n",
    "    TextTransformer,\n",
    "    NatashaTextTransformer,\n",
    "    FeatureSelector,\n",
    "    TfidfVectorTransformer,\n",
    "    CountTfIdfVectorizer,\n",
    "    MultiLabelTransformer\n",
    ")\n"
   ]
  },
  {
   "cell_type": "markdown",
   "id": "arranged-collins",
   "metadata": {
    "pycharm": {
     "name": "#%% md\n"
    }
   },
   "source": [
    "# 4. Model Fitting"
   ]
  },
  {
   "cell_type": "code",
   "execution_count": 426,
   "id": "exterior-capitol",
   "metadata": {
    "pycharm": {
     "name": "#%%\n"
    }
   },
   "outputs": [],
   "source": [
    "from sklearn.linear_model import LinearRegression\n",
    "from sklearn.ensemble import ExtraTreesRegressor\n",
    "from sklearn.preprocessing import StandardScaler\n",
    "import lightgbm as lgb\n",
    "import optuna\n",
    "\n",
    "from sklearn.model_selection import RepeatedKFold\n",
    "from sklearn.feature_extraction.text import (\n",
    "    CountVectorizer,\n",
    "    TfidfTransformer,\n",
    "    TfidfVectorizer,\n",
    ")\n",
    "\n",
    "import warnings\n",
    "warnings.filterwarnings(\"ignore\")"
   ]
  },
  {
   "cell_type": "code",
   "execution_count": 427,
   "id": "standard-producer",
   "metadata": {
    "pycharm": {
     "name": "#%%\n"
    }
   },
   "outputs": [],
   "source": [
    "def plotImp(\n",
    "    model,\n",
    "    X, \n",
    "    num=10, \n",
    "    fig_size = (40, 20)\n",
    "):\n",
    "    feature_imp = pd.DataFrame(\n",
    "        {'Value': model.feature_importances_,\n",
    "         'Feature': X.columns}\n",
    "    )\n",
    "    fig, ax = plt.subplots(1, 1, figsize=fig_size)\n",
    "    sns.barplot(\n",
    "        x=\"Value\", \n",
    "        y=\"Feature\", \n",
    "        data=feature_imp.sort_values(by=\"Value\", ascending=False)[0:num],\n",
    "        ax=ax\n",
    "    )\n",
    "    plt.show()\n",
    "    \n"
   ]
  },
  {
   "cell_type": "code",
   "execution_count": 428,
   "id": "completed-peeing",
   "metadata": {
    "pycharm": {
     "name": "#%%\n"
    }
   },
   "outputs": [],
   "source": [
    "kfold = KFold(n_splits=3, shuffle=True, random_state=239)"
   ]
  },
  {
   "cell_type": "code",
   "execution_count": 429,
   "outputs": [
    {
     "data": {
      "text/plain": "                                         document_id  \\\n0     624ac09c9a7947db3d80c98eIDE7mtH4RBqGn-8MXfGffQ   \n1     620f6b899a7947701cf489e1KtVJsteHStO5oditt3Uvzw   \n2     620730cf9a7947ab96a44e27hk7puWJwSziw0m3sfTkKWA   \n3     6262a5889a79470b78c9ca307UKY2SSZTjCcjhwBzxw37w   \n4     626678929a79477ca0101568wuMYES90REuV5YhrN75IXg   \n...                                              ...   \n6995  61fd479c9a7947848183694751RC_1i5QlGuv7B2FzwTjw   \n6996  628a8f1c9a79478c64a7dae450tIkSGVSf2O8XQgk_uaHQ   \n6997  6244cf5e9a79479099346b26tKlqoxQYSmij0ZBrGzebug   \n6998  627303699a794749b8116abc12JX_3ZDTDu2XHF3k2eJVg   \n6999  627f1c089a794743b070ff73hVvdVmFxS2SlZ2_lECDEow   \n\n                       page_id                 session    ctr  \\\n0     624ac09c9a7947db3d80c98e  IDE7mtH4RBqGn-8MXfGffQ  1.580   \n1     620f6b899a7947701cf489e1  KtVJsteHStO5oditt3Uvzw  1.853   \n2     620730cf9a7947ab96a44e27  hk7puWJwSziw0m3sfTkKWA    NaN   \n3     6262a5889a79470b78c9ca30  7UKY2SSZTjCcjhwBzxw37w    NaN   \n4     626678929a79477ca0101568  wuMYES90REuV5YhrN75IXg    NaN   \n...                        ...                     ...    ...   \n6995  61fd479c9a79478481836947  51RC_1i5QlGuv7B2FzwTjw  2.354   \n6996  628a8f1c9a79478c64a7dae4  50tIkSGVSf2O8XQgk_uaHQ  4.112   \n6997  6244cf5e9a79479099346b26  tKlqoxQYSmij0ZBrGzebug  5.125   \n6998  627303699a794749b8116abc  12JX_3ZDTDu2XHF3k2eJVg    NaN   \n6999  627f1c089a794743b070ff73  hVvdVmFxS2SlZ2_lECDEow  2.937   \n\n            publish_date                                              title  \\\n0    2022-04-04 10:29:44  Европейский банк развития приостановил доступ ...   \n1    2022-02-18 10:00:39  Кремль назвал регулярным процессом учебные зап...   \n2    2022-02-12 04:24:02  Госсекретарь Швеции заявила о нежелании вступа...   \n3    2022-04-22 13:24:55  Песков назвал прагматичной выдачу лицензии Газ...   \n4    2022-04-25 10:42:23  В Хабаровске задержали главу филиала РАНХиГС п...   \n...                  ...                                                ...   \n6995 2022-02-04 16:19:09  Открытие Олимпиады, новые китайские контракты ...   \n6996 2022-05-22 20:07:46  Саудовская Аравия выразила надежду на соглашен...   \n6997 2022-03-30 21:59:02  Брюс Уиллис завершит актерскую карьеру из-за б...   \n6998 2022-05-04 23:15:48  Экс-посол Франции назвал болезненным для Европ...   \n6999 2022-05-14 03:41:33  Минфин США предостерег зарубежные банки от пом...   \n\n                                           title_parsed  \\\n0     Европейский банк развития приостановил доступ ...   \n1     Кремль назвал регулярным процессом учебные зап...   \n2     Госсекретарь Швеции заявила о нежелании вступа...   \n3     Песков назвал прагматичной выдачу лицензии Газ...   \n4     В Хабаровске задержали главу филиала РАНХиГС п...   \n...                                                 ...   \n6995  Открытие Олимпиады, новые китайские контракты ...   \n6996  Саудовская Аравия выразила надежду на соглашен...   \n6997  Брюс Уиллис завершит актерскую карьеру из-за б...   \n6998  Экс-посол Франции назвал болезненным для Европ...   \n6999  Минфин США предостерег зарубежные банки от пом...   \n\n                               title_parsed_from_yandex  \\\n0                                                         \n1     Дмитрий Песков: учебные запуски баллистических...   \n2                                                         \n3                                                         \n4                                                         \n...                                                 ...   \n6995                                                      \n6996                                                      \n6997                                                      \n6998                                                      \n6999                                                      \n\n                                     title_preprocessed  \\\n0     Европейский банк развития приостановил доступ ...   \n1     Кремль назвал регулярным процессом учебные зап...   \n2     Госсекретарь Швеции заявила о нежелании вступа...   \n3     Песков назвал прагматичной выдачу лицензии Газ...   \n4     В Хабаровске задержали главу филиала РАНХиГС п...   \n...                                                 ...   \n6995  Открытие Олимпиады, новые китайские контракты ...   \n6996  Саудовская Аравия выразила надежду на соглашен...   \n6997  Брюс Уиллис завершит актерскую карьеру из-за б...   \n6998  Экс-посол Франции назвал болезненным для Европ...   \n6999  Минфин США предостерег зарубежные банки от пом...   \n\n                                                authors  ...  \\\n0                                                  None  ...   \n1     [54244e01cbb20f03076b236d, 5878a2ec9a7947e531f...  ...   \n2                                                  None  ...   \n3                                                  None  ...   \n4                                                  None  ...   \n...                                                 ...  ...   \n6995                         [5878a2ec9a7947e531faf52c]  ...   \n6996  [60fa94ed9a7947b7152c986a, 5e4663219a794736af9...  ...   \n6997                                               None  ...   \n6998                                               None  ...   \n6999                         [5edf68259a79470758e7ab2d]  ...   \n\n                     yandex_recommendation_image_parsed  \\\n0     https://s0.rbk.ru/v6_top_pics/resized/1200xH/m...   \n1     https://s0.rbk.ru/v6_top_pics/resized/1200xH/m...   \n2                                                  None   \n3     https://s0.rbk.ru/v6_top_pics/resized/1200xH/m...   \n4     https://s0.rbk.ru/v6_top_pics/resized/1200xH/m...   \n...                                                 ...   \n6995  https://s0.rbk.ru/v6_top_pics/resized/1200xH/m...   \n6996  https://s0.rbk.ru/v6_top_pics/resized/1200xH/m...   \n6997                                               None   \n6998  https://s0.rbk.ru/v6_top_pics/resized/1200xH/m...   \n6999  https://s0.rbk.ru/v6_top_pics/resized/1200xH/m...   \n\n     yandex_recommendation_category_parsed  views  depth full_reads_percent  \\\n0                                  Финансы  20460  1.134             35.850   \n1                                 Политика  19038  1.142             38.355   \n2              Военная операция на Украине  51151  1.185             36.424   \n3                                 Политика   3782  1.053             30.169   \n4                                 Общество   3065  1.063             34.617   \n...                                    ...    ...    ...                ...   \n6995                              Общество  21738  1.188             28.448   \n6996                                Бизнес   8377  1.056             38.045   \n6997                              Общество  37004  1.176             50.757   \n6998                             Экономика   3450  1.068             38.928   \n6999                         Война санкций  11981  1.072             36.249   \n\n          PER_TITLE                    ORG_TITLE                    LOC_TITLE  \\\n0              None              [Москва, Минск]  [Европейский банк развития]   \n1              None                     [Кремль]                         None   \n2              None            [Швеция, Украина]                       [НАТО]   \n3              None                         None                [Газпромбанк]   \n4              None                  [Хабаровск]                    [РАНХиГС]   \n...             ...                          ...                          ...   \n6995           None                     [Россия]                         None   \n6996           None  [Саудовская Аравия, Россия]                      [ОПЕК+]   \n6997  [Брюс Уиллис]                         None                         None   \n6998           None            [Франция, Европа]                         None   \n6999           None                [США, Россия]                     [Минфин]   \n\n                                  news_title_lemmatized  \\\n0     [европейский, банк, развитие, приостановить, д...   \n1     [кремль, назвать, регулярный, процесс, учебный...   \n2     [госсекретарь, швеция, заявить, о, нежелание, ...   \n3     [песков, назвать, прагматичный, выдача, лиценз...   \n4     [в, хабаровск, задержать, глава, филиал, ранхи...   \n...                                                 ...   \n6995  [открытие, олимпиада, ,, новый, китайский, кон...   \n6996  [саудовский, аравия, выразить, надежда, на, со...   \n6997  [брюс, уиллис, завершить, актерский, карьера, ...   \n6998  [экс-посол, франция, назвать, болезненный, для...   \n6999  [минфин, сша, предостеречь, зарубежный, банк, ...   \n\n                                NAMES_FROM_TITLE  \n0     [Москва, Минск, Европейский банк развития]  \n1                                       [Кремль]  \n2                        [Швеция, Украина, НАТО]  \n3                                  [Газпромбанк]  \n4                           [Хабаровск, РАНХиГС]  \n...                                          ...  \n6995                                    [Россия]  \n6996          [Саудовская Аравия, Россия, ОПЕК+]  \n6997                               [Брюс Уиллис]  \n6998                           [Франция, Европа]  \n6999                       [США, Россия, Минфин]  \n\n[6907 rows x 37 columns]",
      "text/html": "<div>\n<style scoped>\n    .dataframe tbody tr th:only-of-type {\n        vertical-align: middle;\n    }\n\n    .dataframe tbody tr th {\n        vertical-align: top;\n    }\n\n    .dataframe thead th {\n        text-align: right;\n    }\n</style>\n<table border=\"1\" class=\"dataframe\">\n  <thead>\n    <tr style=\"text-align: right;\">\n      <th></th>\n      <th>document_id</th>\n      <th>page_id</th>\n      <th>session</th>\n      <th>ctr</th>\n      <th>publish_date</th>\n      <th>title</th>\n      <th>title_parsed</th>\n      <th>title_parsed_from_yandex</th>\n      <th>title_preprocessed</th>\n      <th>authors</th>\n      <th>...</th>\n      <th>yandex_recommendation_image_parsed</th>\n      <th>yandex_recommendation_category_parsed</th>\n      <th>views</th>\n      <th>depth</th>\n      <th>full_reads_percent</th>\n      <th>PER_TITLE</th>\n      <th>ORG_TITLE</th>\n      <th>LOC_TITLE</th>\n      <th>news_title_lemmatized</th>\n      <th>NAMES_FROM_TITLE</th>\n    </tr>\n  </thead>\n  <tbody>\n    <tr>\n      <th>0</th>\n      <td>624ac09c9a7947db3d80c98eIDE7mtH4RBqGn-8MXfGffQ</td>\n      <td>624ac09c9a7947db3d80c98e</td>\n      <td>IDE7mtH4RBqGn-8MXfGffQ</td>\n      <td>1.580</td>\n      <td>2022-04-04 10:29:44</td>\n      <td>Европейский банк развития приостановил доступ ...</td>\n      <td>Европейский банк развития приостановил доступ ...</td>\n      <td></td>\n      <td>Европейский банк развития приостановил доступ ...</td>\n      <td>None</td>\n      <td>...</td>\n      <td>https://s0.rbk.ru/v6_top_pics/resized/1200xH/m...</td>\n      <td>Финансы</td>\n      <td>20460</td>\n      <td>1.134</td>\n      <td>35.850</td>\n      <td>None</td>\n      <td>[Москва, Минск]</td>\n      <td>[Европейский банк развития]</td>\n      <td>[европейский, банк, развитие, приостановить, д...</td>\n      <td>[Москва, Минск, Европейский банк развития]</td>\n    </tr>\n    <tr>\n      <th>1</th>\n      <td>620f6b899a7947701cf489e1KtVJsteHStO5oditt3Uvzw</td>\n      <td>620f6b899a7947701cf489e1</td>\n      <td>KtVJsteHStO5oditt3Uvzw</td>\n      <td>1.853</td>\n      <td>2022-02-18 10:00:39</td>\n      <td>Кремль назвал регулярным процессом учебные зап...</td>\n      <td>Кремль назвал регулярным процессом учебные зап...</td>\n      <td>Дмитрий Песков: учебные запуски баллистических...</td>\n      <td>Кремль назвал регулярным процессом учебные зап...</td>\n      <td>[54244e01cbb20f03076b236d, 5878a2ec9a7947e531f...</td>\n      <td>...</td>\n      <td>https://s0.rbk.ru/v6_top_pics/resized/1200xH/m...</td>\n      <td>Политика</td>\n      <td>19038</td>\n      <td>1.142</td>\n      <td>38.355</td>\n      <td>None</td>\n      <td>[Кремль]</td>\n      <td>None</td>\n      <td>[кремль, назвать, регулярный, процесс, учебный...</td>\n      <td>[Кремль]</td>\n    </tr>\n    <tr>\n      <th>2</th>\n      <td>620730cf9a7947ab96a44e27hk7puWJwSziw0m3sfTkKWA</td>\n      <td>620730cf9a7947ab96a44e27</td>\n      <td>hk7puWJwSziw0m3sfTkKWA</td>\n      <td>NaN</td>\n      <td>2022-02-12 04:24:02</td>\n      <td>Госсекретарь Швеции заявила о нежелании вступа...</td>\n      <td>Госсекретарь Швеции заявила о нежелании вступа...</td>\n      <td></td>\n      <td>Госсекретарь Швеции заявила о нежелании вступа...</td>\n      <td>None</td>\n      <td>...</td>\n      <td>None</td>\n      <td>Военная операция на Украине</td>\n      <td>51151</td>\n      <td>1.185</td>\n      <td>36.424</td>\n      <td>None</td>\n      <td>[Швеция, Украина]</td>\n      <td>[НАТО]</td>\n      <td>[госсекретарь, швеция, заявить, о, нежелание, ...</td>\n      <td>[Швеция, Украина, НАТО]</td>\n    </tr>\n    <tr>\n      <th>3</th>\n      <td>6262a5889a79470b78c9ca307UKY2SSZTjCcjhwBzxw37w</td>\n      <td>6262a5889a79470b78c9ca30</td>\n      <td>7UKY2SSZTjCcjhwBzxw37w</td>\n      <td>NaN</td>\n      <td>2022-04-22 13:24:55</td>\n      <td>Песков назвал прагматичной выдачу лицензии Газ...</td>\n      <td>Песков назвал прагматичной выдачу лицензии Газ...</td>\n      <td></td>\n      <td>Песков назвал прагматичной выдачу лицензии Газ...</td>\n      <td>None</td>\n      <td>...</td>\n      <td>https://s0.rbk.ru/v6_top_pics/resized/1200xH/m...</td>\n      <td>Политика</td>\n      <td>3782</td>\n      <td>1.053</td>\n      <td>30.169</td>\n      <td>None</td>\n      <td>None</td>\n      <td>[Газпромбанк]</td>\n      <td>[песков, назвать, прагматичный, выдача, лиценз...</td>\n      <td>[Газпромбанк]</td>\n    </tr>\n    <tr>\n      <th>4</th>\n      <td>626678929a79477ca0101568wuMYES90REuV5YhrN75IXg</td>\n      <td>626678929a79477ca0101568</td>\n      <td>wuMYES90REuV5YhrN75IXg</td>\n      <td>NaN</td>\n      <td>2022-04-25 10:42:23</td>\n      <td>В Хабаровске задержали главу филиала РАНХиГС п...</td>\n      <td>В Хабаровске задержали главу филиала РАНХиГС п...</td>\n      <td></td>\n      <td>В Хабаровске задержали главу филиала РАНХиГС п...</td>\n      <td>None</td>\n      <td>...</td>\n      <td>https://s0.rbk.ru/v6_top_pics/resized/1200xH/m...</td>\n      <td>Общество</td>\n      <td>3065</td>\n      <td>1.063</td>\n      <td>34.617</td>\n      <td>None</td>\n      <td>[Хабаровск]</td>\n      <td>[РАНХиГС]</td>\n      <td>[в, хабаровск, задержать, глава, филиал, ранхи...</td>\n      <td>[Хабаровск, РАНХиГС]</td>\n    </tr>\n    <tr>\n      <th>...</th>\n      <td>...</td>\n      <td>...</td>\n      <td>...</td>\n      <td>...</td>\n      <td>...</td>\n      <td>...</td>\n      <td>...</td>\n      <td>...</td>\n      <td>...</td>\n      <td>...</td>\n      <td>...</td>\n      <td>...</td>\n      <td>...</td>\n      <td>...</td>\n      <td>...</td>\n      <td>...</td>\n      <td>...</td>\n      <td>...</td>\n      <td>...</td>\n      <td>...</td>\n      <td>...</td>\n    </tr>\n    <tr>\n      <th>6995</th>\n      <td>61fd479c9a7947848183694751RC_1i5QlGuv7B2FzwTjw</td>\n      <td>61fd479c9a79478481836947</td>\n      <td>51RC_1i5QlGuv7B2FzwTjw</td>\n      <td>2.354</td>\n      <td>2022-02-04 16:19:09</td>\n      <td>Открытие Олимпиады, новые китайские контракты ...</td>\n      <td>Открытие Олимпиады, новые китайские контракты ...</td>\n      <td></td>\n      <td>Открытие Олимпиады, новые китайские контракты ...</td>\n      <td>[5878a2ec9a7947e531faf52c]</td>\n      <td>...</td>\n      <td>https://s0.rbk.ru/v6_top_pics/resized/1200xH/m...</td>\n      <td>Общество</td>\n      <td>21738</td>\n      <td>1.188</td>\n      <td>28.448</td>\n      <td>None</td>\n      <td>[Россия]</td>\n      <td>None</td>\n      <td>[открытие, олимпиада, ,, новый, китайский, кон...</td>\n      <td>[Россия]</td>\n    </tr>\n    <tr>\n      <th>6996</th>\n      <td>628a8f1c9a79478c64a7dae450tIkSGVSf2O8XQgk_uaHQ</td>\n      <td>628a8f1c9a79478c64a7dae4</td>\n      <td>50tIkSGVSf2O8XQgk_uaHQ</td>\n      <td>4.112</td>\n      <td>2022-05-22 20:07:46</td>\n      <td>Саудовская Аравия выразила надежду на соглашен...</td>\n      <td>Саудовская Аравия выразила надежду на соглашен...</td>\n      <td></td>\n      <td>Саудовская Аравия выразила надежду на соглашен...</td>\n      <td>[60fa94ed9a7947b7152c986a, 5e4663219a794736af9...</td>\n      <td>...</td>\n      <td>https://s0.rbk.ru/v6_top_pics/resized/1200xH/m...</td>\n      <td>Бизнес</td>\n      <td>8377</td>\n      <td>1.056</td>\n      <td>38.045</td>\n      <td>None</td>\n      <td>[Саудовская Аравия, Россия]</td>\n      <td>[ОПЕК+]</td>\n      <td>[саудовский, аравия, выразить, надежда, на, со...</td>\n      <td>[Саудовская Аравия, Россия, ОПЕК+]</td>\n    </tr>\n    <tr>\n      <th>6997</th>\n      <td>6244cf5e9a79479099346b26tKlqoxQYSmij0ZBrGzebug</td>\n      <td>6244cf5e9a79479099346b26</td>\n      <td>tKlqoxQYSmij0ZBrGzebug</td>\n      <td>5.125</td>\n      <td>2022-03-30 21:59:02</td>\n      <td>Брюс Уиллис завершит актерскую карьеру из-за б...</td>\n      <td>Брюс Уиллис завершит актерскую карьеру из-за б...</td>\n      <td></td>\n      <td>Брюс Уиллис завершит актерскую карьеру из-за б...</td>\n      <td>None</td>\n      <td>...</td>\n      <td>None</td>\n      <td>Общество</td>\n      <td>37004</td>\n      <td>1.176</td>\n      <td>50.757</td>\n      <td>[Брюс Уиллис]</td>\n      <td>None</td>\n      <td>None</td>\n      <td>[брюс, уиллис, завершить, актерский, карьера, ...</td>\n      <td>[Брюс Уиллис]</td>\n    </tr>\n    <tr>\n      <th>6998</th>\n      <td>627303699a794749b8116abc12JX_3ZDTDu2XHF3k2eJVg</td>\n      <td>627303699a794749b8116abc</td>\n      <td>12JX_3ZDTDu2XHF3k2eJVg</td>\n      <td>NaN</td>\n      <td>2022-05-04 23:15:48</td>\n      <td>Экс-посол Франции назвал болезненным для Европ...</td>\n      <td>Экс-посол Франции назвал болезненным для Европ...</td>\n      <td></td>\n      <td>Экс-посол Франции назвал болезненным для Европ...</td>\n      <td>None</td>\n      <td>...</td>\n      <td>https://s0.rbk.ru/v6_top_pics/resized/1200xH/m...</td>\n      <td>Экономика</td>\n      <td>3450</td>\n      <td>1.068</td>\n      <td>38.928</td>\n      <td>None</td>\n      <td>[Франция, Европа]</td>\n      <td>None</td>\n      <td>[экс-посол, франция, назвать, болезненный, для...</td>\n      <td>[Франция, Европа]</td>\n    </tr>\n    <tr>\n      <th>6999</th>\n      <td>627f1c089a794743b070ff73hVvdVmFxS2SlZ2_lECDEow</td>\n      <td>627f1c089a794743b070ff73</td>\n      <td>hVvdVmFxS2SlZ2_lECDEow</td>\n      <td>2.937</td>\n      <td>2022-05-14 03:41:33</td>\n      <td>Минфин США предостерег зарубежные банки от пом...</td>\n      <td>Минфин США предостерег зарубежные банки от пом...</td>\n      <td></td>\n      <td>Минфин США предостерег зарубежные банки от пом...</td>\n      <td>[5edf68259a79470758e7ab2d]</td>\n      <td>...</td>\n      <td>https://s0.rbk.ru/v6_top_pics/resized/1200xH/m...</td>\n      <td>Война санкций</td>\n      <td>11981</td>\n      <td>1.072</td>\n      <td>36.249</td>\n      <td>None</td>\n      <td>[США, Россия]</td>\n      <td>[Минфин]</td>\n      <td>[минфин, сша, предостеречь, зарубежный, банк, ...</td>\n      <td>[США, Россия, Минфин]</td>\n    </tr>\n  </tbody>\n</table>\n<p>6907 rows × 37 columns</p>\n</div>"
     },
     "execution_count": 429,
     "metadata": {},
     "output_type": "execute_result"
    }
   ],
   "source": [
    "train_data"
   ],
   "metadata": {
    "collapsed": false,
    "pycharm": {
     "name": "#%%\n"
    }
   }
  },
  {
   "cell_type": "code",
   "execution_count": 391,
   "outputs": [
    {
     "data": {
      "text/plain": "                                         document_id  \\\n0     61f9569a9a794794245a82abJ0AvX96vTAaQCiWVbzoMdw   \n1     628c22b89a79470e553f594bQS5CqzXYRnmDdR2LaSreEw   \n2     627cb3249a7947ebdd752865XVsoyrUOT8OJJg2_finJhw   \n3     628618629a7947d4927eb812upfii3whSSuMXCqcqF8VbQ   \n4     620e76109a7947235623695b5hzCiIHdSYKQIr8WAM18bw   \n...                                              ...   \n2995  623ba6bc9a79470214cb9418x4OZQ1IjTb27nPAgv5wAZg   \n2996  624fda1f9a79471a9bd102eetuRTrLPGSZyNbc9_YcBAeQ   \n2997  6257a6a99a79477eea75b86dtBr3UG9ORW-gOybkVKX6ww   \n2998  624866d59a7947421716ab46WsGDKyGjTJGRh14eR7UVvw   \n2999  6236f9129a79477b0ef18ae0ewByZQ1FQBK2dpXyY77rYw   \n\n                       page_id                 session    ctr  \\\n0     61f9569a9a794794245a82ab  J0AvX96vTAaQCiWVbzoMdw    NaN   \n1     628c22b89a79470e553f594b  QS5CqzXYRnmDdR2LaSreEw  1.598   \n2     627cb3249a7947ebdd752865  XVsoyrUOT8OJJg2_finJhw  2.006   \n3     628618629a7947d4927eb812  upfii3whSSuMXCqcqF8VbQ    NaN   \n4     620e76109a7947235623695b  5hzCiIHdSYKQIr8WAM18bw  9.136   \n...                        ...                     ...    ...   \n2995  623ba6bc9a79470214cb9418  x4OZQ1IjTb27nPAgv5wAZg  1.788   \n2996  624fda1f9a79471a9bd102ee  tuRTrLPGSZyNbc9_YcBAeQ  4.427   \n2997  6257a6a99a79477eea75b86d  tBr3UG9ORW-gOybkVKX6ww    NaN   \n2998  624866d59a7947421716ab46  WsGDKyGjTJGRh14eR7UVvw    NaN   \n2999  6236f9129a79477b0ef18ae0  ewByZQ1FQBK2dpXyY77rYw    NaN   \n\n             publish_date                                              title  \\\n0     2022-02-01 17:02:44  «Крайне провокационная тема»: как Россия и США...   \n1     2022-05-24 00:50:55  Власти Херсонской области пообещали сделать ру...   \n2     2022-05-12 07:11:51  Премьер и президент Финляндии призвали срочно ...   \n3     2022-05-19 11:54:35  В Госдуму внесли проект о временных администра...   \n4     2022-02-17 16:28:55  Блинкен заявил в ООН о готовности России начат...   \n...                   ...                                                ...   \n2995  2022-03-23 23:28:34  Суд не стал публиковать решение о запрете Face...   \n2996  2022-04-08 08:07:17       ИT-компания EPAM объявила об уходе из России   \n2997  2022-04-14 05:18:59  МИД сообщил о желании стран ЕАЭС отказаться от...   \n2998  2022-04-02 15:59:06  Wikileaks сообщила дату заседания суда по экст...   \n2999  2022-03-20 10:33:05  Захарова посоветовала немцам меньше дышать для...   \n\n                                           title_parsed  \\\n0     «Крайне провокационная тема»: как Россия и США...   \n1     Власти Херсонской области пообещали сделать ру...   \n2     Премьер и президент Финляндии призвали срочно ...   \n3     Миронов внес проект о временных администрациях...   \n4     Блинкен заявил в ООН о готовности России начат...   \n...                                                 ...   \n2995  Суд не стал публиковать решение о запрете Face...   \n2996       ИT-компания EPAM объявила об уходе из России   \n2997  МИД сообщил о желании стран ЕАЭС отказаться от...   \n2998  WikiLeaks сообщила дату заседания суда по экст...   \n2999  Захарова посоветовала немцам меньше дышать для...   \n\n                               title_parsed_from_yandex  \\\n0     WP: между постпредами России и США в ООН произ...   \n1                                                         \n2                                                         \n3                                                         \n4     Блинкен: российские войска готовятся начать вт...   \n...                                                 ...   \n2995                                                      \n2996                                                      \n2997                                                      \n2998  WikiLeaks: заседание суда по экстрадиции Джули...   \n2999                                                      \n\n                                     title_preprocessed  \\\n0     «Крайне провокационная тема»: как Россия и США...   \n1     Власти Херсонской области пообещали сделать ру...   \n2     Премьер и президент Финляндии призвали срочно ...   \n3     В Госдуму внесли проект о временных администра...   \n4     Блинкен заявил в ООН о готовности России начат...   \n...                                                 ...   \n2995  Суд не стал публиковать решение о запрете Face...   \n2996       ИT-компания EPAM объявила об уходе из России   \n2997  МИД сообщил о желании стран ЕАЭС отказаться от...   \n2998  Wikileaks сообщила дату заседания суда по экст...   \n2999  Захарова посоветовала немцам меньше дышать для...   \n\n                         authors  ...  twitter_card_parsed  \\\n0                           None  ...  summary_large_image   \n1                           None  ...  summary_large_image   \n2                           None  ...  summary_large_image   \n3                           None  ...  summary_large_image   \n4     [604f2c199a79478ec0029eae]  ...  summary_large_image   \n...                          ...  ...                  ...   \n2995  [5bfd1d039a794755995093f8]  ...  summary_large_image   \n2996  [5e4663219a794736af922488]  ...  summary_large_image   \n2997                        None  ...  summary_large_image   \n2998                        None  ...  summary_large_image   \n2999                        None  ...  summary_large_image   \n\n                                   twitter_image_parsed  \\\n0     https://s0.rbk.ru/v6_top_pics/media/img/5/46/7...   \n1     https://s0.rbk.ru/v6_top_pics/media/img/1/39/7...   \n2     https://s0.rbk.ru/v6_top_pics/media/img/9/61/7...   \n3     https://s0.rbk.ru/v6_top_pics/media/img/5/65/7...   \n4     https://s0.rbk.ru/v6_top_pics/media/img/3/01/7...   \n...                                                 ...   \n2995  https://s0.rbk.ru/v6_top_pics/media/img/3/03/7...   \n2996  https://s0.rbk.ru/v6_top_pics/media/img/7/49/7...   \n2997  https://s0.rbk.ru/v6_top_pics/media/img/6/45/7...   \n2998  https://s0.rbk.ru/v6_top_pics/media/img/6/52/7...   \n2999  https://s0.rbk.ru/v6_top_pics/media/img/8/29/7...   \n\n                                        vk_image_parsed  \\\n0     https://s0.rbk.ru/v6_top_pics/media/img/6/37/7...   \n1     https://s0.rbk.ru/v6_top_pics/media/img/3/55/7...   \n2     https://s0.rbk.ru/v6_top_pics/media/img/7/19/7...   \n3     https://s0.rbk.ru/v6_top_pics/media/img/9/63/7...   \n4     https://s0.rbk.ru/v6_top_pics/media/img/1/48/7...   \n...                                                 ...   \n2995  https://s0.rbk.ru/v6_top_pics/media/img/3/36/7...   \n2996  https://s0.rbk.ru/v6_top_pics/media/img/8/24/7...   \n2997  https://s0.rbk.ru/v6_top_pics/media/img/9/81/7...   \n2998  https://s0.rbk.ru/v6_top_pics/media/img/8/61/7...   \n2999  https://s0.rbk.ru/v6_top_pics/media/img/9/46/7...   \n\n                     yandex_recommendation_image_parsed  \\\n0                                                  None   \n1     https://s0.rbk.ru/v6_top_pics/resized/1200xH/m...   \n2     https://s0.rbk.ru/v6_top_pics/resized/1200xH/m...   \n3     https://s0.rbk.ru/v6_top_pics/resized/1200xH/m...   \n4     https://s0.rbk.ru/v6_top_pics/resized/1200xH/m...   \n...                                                 ...   \n2995  https://s0.rbk.ru/v6_top_pics/resized/1200xH/m...   \n2996  https://s0.rbk.ru/v6_top_pics/resized/1200xH/m...   \n2997  https://s0.rbk.ru/v6_top_pics/resized/1200xH/m...   \n2998  https://s0.rbk.ru/v6_top_pics/resized/1200xH/m...   \n2999  https://s0.rbk.ru/v6_top_pics/resized/1200xH/m...   \n\n     yandex_recommendation_category_parsed   PER_TITLE             ORG_TITLE  \\\n0              Военная операция на Украине        None         [Россия, США]   \n1              Военная операция на Украине        None  [Херсонская область]   \n2                                 Политика        None           [Финляндия]   \n3              Военная операция на Украине        None              [Россия]   \n4              Военная операция на Украине        None              [Россия]   \n...                                    ...         ...                   ...   \n2995                    Технологии и медиа        None                  None   \n2996                                Бизнес        None              [Россия]   \n2997                         Война санкций        None                [ЕАЭС]   \n2998                              Общество    [Ассанж]                 [США]   \n2999                              Политика  [Захарова]              [Россия]   \n\n                  LOC_TITLE  \\\n0             [Совбез, ООН]   \n1                      None   \n2                    [НАТО]   \n3                 [Госдума]   \n4                     [ООН]   \n...                     ...   \n2995  [Facebook, Instagram]   \n2996      [T-компания EPAM]   \n2997                  [МИД]   \n2998            [Wikileaks]   \n2999                   None   \n\n                                  news_title_lemmatized  \\\n0     [«, крайне, провокационный, тема, », :, как, р...   \n1     [власть, херсонский, область, пообещать, сдела...   \n2     [премьер, и, президент, финляндия, призвать, с...   \n3     [в, госдума, внести, проект, о, временной, адм...   \n4     [блинкен, заявить, в, оон, о, готовность, росс...   \n...                                                 ...   \n2995  [суд, не, стать, публиковать, решение, о, запр...   \n2996  [и, t-компания, epam, объявить, о, уход, из, р...   \n2997  [мид, сообщить, о, желание, страна, еаэс, отка...   \n2998  [wikileaks, сообщить, дата, заседание, суд, по...   \n2999  [захаров, посоветовать, немец, маленький, дыша...   \n\n                NAMES_FROM_TITLE  \n0     [Россия, США, Совбез, ООН]  \n1           [Херсонская область]  \n2              [Финляндия, НАТО]  \n3              [Россия, Госдума]  \n4                  [Россия, ООН]  \n...                          ...  \n2995       [Facebook, Instagram]  \n2996   [Россия, T-компания EPAM]  \n2997                 [ЕАЭС, МИД]  \n2998    [США, Wikileaks, Ассанж]  \n2999          [Россия, Захарова]  \n\n[2967 rows x 34 columns]",
      "text/html": "<div>\n<style scoped>\n    .dataframe tbody tr th:only-of-type {\n        vertical-align: middle;\n    }\n\n    .dataframe tbody tr th {\n        vertical-align: top;\n    }\n\n    .dataframe thead th {\n        text-align: right;\n    }\n</style>\n<table border=\"1\" class=\"dataframe\">\n  <thead>\n    <tr style=\"text-align: right;\">\n      <th></th>\n      <th>document_id</th>\n      <th>page_id</th>\n      <th>session</th>\n      <th>ctr</th>\n      <th>publish_date</th>\n      <th>title</th>\n      <th>title_parsed</th>\n      <th>title_parsed_from_yandex</th>\n      <th>title_preprocessed</th>\n      <th>authors</th>\n      <th>...</th>\n      <th>twitter_card_parsed</th>\n      <th>twitter_image_parsed</th>\n      <th>vk_image_parsed</th>\n      <th>yandex_recommendation_image_parsed</th>\n      <th>yandex_recommendation_category_parsed</th>\n      <th>PER_TITLE</th>\n      <th>ORG_TITLE</th>\n      <th>LOC_TITLE</th>\n      <th>news_title_lemmatized</th>\n      <th>NAMES_FROM_TITLE</th>\n    </tr>\n  </thead>\n  <tbody>\n    <tr>\n      <th>0</th>\n      <td>61f9569a9a794794245a82abJ0AvX96vTAaQCiWVbzoMdw</td>\n      <td>61f9569a9a794794245a82ab</td>\n      <td>J0AvX96vTAaQCiWVbzoMdw</td>\n      <td>NaN</td>\n      <td>2022-02-01 17:02:44</td>\n      <td>«Крайне провокационная тема»: как Россия и США...</td>\n      <td>«Крайне провокационная тема»: как Россия и США...</td>\n      <td>WP: между постпредами России и США в ООН произ...</td>\n      <td>«Крайне провокационная тема»: как Россия и США...</td>\n      <td>None</td>\n      <td>...</td>\n      <td>summary_large_image</td>\n      <td>https://s0.rbk.ru/v6_top_pics/media/img/5/46/7...</td>\n      <td>https://s0.rbk.ru/v6_top_pics/media/img/6/37/7...</td>\n      <td>None</td>\n      <td>Военная операция на Украине</td>\n      <td>None</td>\n      <td>[Россия, США]</td>\n      <td>[Совбез, ООН]</td>\n      <td>[«, крайне, провокационный, тема, », :, как, р...</td>\n      <td>[Россия, США, Совбез, ООН]</td>\n    </tr>\n    <tr>\n      <th>1</th>\n      <td>628c22b89a79470e553f594bQS5CqzXYRnmDdR2LaSreEw</td>\n      <td>628c22b89a79470e553f594b</td>\n      <td>QS5CqzXYRnmDdR2LaSreEw</td>\n      <td>1.598</td>\n      <td>2022-05-24 00:50:55</td>\n      <td>Власти Херсонской области пообещали сделать ру...</td>\n      <td>Власти Херсонской области пообещали сделать ру...</td>\n      <td></td>\n      <td>Власти Херсонской области пообещали сделать ру...</td>\n      <td>None</td>\n      <td>...</td>\n      <td>summary_large_image</td>\n      <td>https://s0.rbk.ru/v6_top_pics/media/img/1/39/7...</td>\n      <td>https://s0.rbk.ru/v6_top_pics/media/img/3/55/7...</td>\n      <td>https://s0.rbk.ru/v6_top_pics/resized/1200xH/m...</td>\n      <td>Военная операция на Украине</td>\n      <td>None</td>\n      <td>[Херсонская область]</td>\n      <td>None</td>\n      <td>[власть, херсонский, область, пообещать, сдела...</td>\n      <td>[Херсонская область]</td>\n    </tr>\n    <tr>\n      <th>2</th>\n      <td>627cb3249a7947ebdd752865XVsoyrUOT8OJJg2_finJhw</td>\n      <td>627cb3249a7947ebdd752865</td>\n      <td>XVsoyrUOT8OJJg2_finJhw</td>\n      <td>2.006</td>\n      <td>2022-05-12 07:11:51</td>\n      <td>Премьер и президент Финляндии призвали срочно ...</td>\n      <td>Премьер и президент Финляндии призвали срочно ...</td>\n      <td></td>\n      <td>Премьер и президент Финляндии призвали срочно ...</td>\n      <td>None</td>\n      <td>...</td>\n      <td>summary_large_image</td>\n      <td>https://s0.rbk.ru/v6_top_pics/media/img/9/61/7...</td>\n      <td>https://s0.rbk.ru/v6_top_pics/media/img/7/19/7...</td>\n      <td>https://s0.rbk.ru/v6_top_pics/resized/1200xH/m...</td>\n      <td>Политика</td>\n      <td>None</td>\n      <td>[Финляндия]</td>\n      <td>[НАТО]</td>\n      <td>[премьер, и, президент, финляндия, призвать, с...</td>\n      <td>[Финляндия, НАТО]</td>\n    </tr>\n    <tr>\n      <th>3</th>\n      <td>628618629a7947d4927eb812upfii3whSSuMXCqcqF8VbQ</td>\n      <td>628618629a7947d4927eb812</td>\n      <td>upfii3whSSuMXCqcqF8VbQ</td>\n      <td>NaN</td>\n      <td>2022-05-19 11:54:35</td>\n      <td>В Госдуму внесли проект о временных администра...</td>\n      <td>Миронов внес проект о временных администрациях...</td>\n      <td></td>\n      <td>В Госдуму внесли проект о временных администра...</td>\n      <td>None</td>\n      <td>...</td>\n      <td>summary_large_image</td>\n      <td>https://s0.rbk.ru/v6_top_pics/media/img/5/65/7...</td>\n      <td>https://s0.rbk.ru/v6_top_pics/media/img/9/63/7...</td>\n      <td>https://s0.rbk.ru/v6_top_pics/resized/1200xH/m...</td>\n      <td>Военная операция на Украине</td>\n      <td>None</td>\n      <td>[Россия]</td>\n      <td>[Госдума]</td>\n      <td>[в, госдума, внести, проект, о, временной, адм...</td>\n      <td>[Россия, Госдума]</td>\n    </tr>\n    <tr>\n      <th>4</th>\n      <td>620e76109a7947235623695b5hzCiIHdSYKQIr8WAM18bw</td>\n      <td>620e76109a7947235623695b</td>\n      <td>5hzCiIHdSYKQIr8WAM18bw</td>\n      <td>9.136</td>\n      <td>2022-02-17 16:28:55</td>\n      <td>Блинкен заявил в ООН о готовности России начат...</td>\n      <td>Блинкен заявил в ООН о готовности России начат...</td>\n      <td>Блинкен: российские войска готовятся начать вт...</td>\n      <td>Блинкен заявил в ООН о готовности России начат...</td>\n      <td>[604f2c199a79478ec0029eae]</td>\n      <td>...</td>\n      <td>summary_large_image</td>\n      <td>https://s0.rbk.ru/v6_top_pics/media/img/3/01/7...</td>\n      <td>https://s0.rbk.ru/v6_top_pics/media/img/1/48/7...</td>\n      <td>https://s0.rbk.ru/v6_top_pics/resized/1200xH/m...</td>\n      <td>Военная операция на Украине</td>\n      <td>None</td>\n      <td>[Россия]</td>\n      <td>[ООН]</td>\n      <td>[блинкен, заявить, в, оон, о, готовность, росс...</td>\n      <td>[Россия, ООН]</td>\n    </tr>\n    <tr>\n      <th>...</th>\n      <td>...</td>\n      <td>...</td>\n      <td>...</td>\n      <td>...</td>\n      <td>...</td>\n      <td>...</td>\n      <td>...</td>\n      <td>...</td>\n      <td>...</td>\n      <td>...</td>\n      <td>...</td>\n      <td>...</td>\n      <td>...</td>\n      <td>...</td>\n      <td>...</td>\n      <td>...</td>\n      <td>...</td>\n      <td>...</td>\n      <td>...</td>\n      <td>...</td>\n      <td>...</td>\n    </tr>\n    <tr>\n      <th>2995</th>\n      <td>623ba6bc9a79470214cb9418x4OZQ1IjTb27nPAgv5wAZg</td>\n      <td>623ba6bc9a79470214cb9418</td>\n      <td>x4OZQ1IjTb27nPAgv5wAZg</td>\n      <td>1.788</td>\n      <td>2022-03-23 23:28:34</td>\n      <td>Суд не стал публиковать решение о запрете Face...</td>\n      <td>Суд не стал публиковать решение о запрете Face...</td>\n      <td></td>\n      <td>Суд не стал публиковать решение о запрете Face...</td>\n      <td>[5bfd1d039a794755995093f8]</td>\n      <td>...</td>\n      <td>summary_large_image</td>\n      <td>https://s0.rbk.ru/v6_top_pics/media/img/3/03/7...</td>\n      <td>https://s0.rbk.ru/v6_top_pics/media/img/3/36/7...</td>\n      <td>https://s0.rbk.ru/v6_top_pics/resized/1200xH/m...</td>\n      <td>Технологии и медиа</td>\n      <td>None</td>\n      <td>None</td>\n      <td>[Facebook, Instagram]</td>\n      <td>[суд, не, стать, публиковать, решение, о, запр...</td>\n      <td>[Facebook, Instagram]</td>\n    </tr>\n    <tr>\n      <th>2996</th>\n      <td>624fda1f9a79471a9bd102eetuRTrLPGSZyNbc9_YcBAeQ</td>\n      <td>624fda1f9a79471a9bd102ee</td>\n      <td>tuRTrLPGSZyNbc9_YcBAeQ</td>\n      <td>4.427</td>\n      <td>2022-04-08 08:07:17</td>\n      <td>ИT-компания EPAM объявила об уходе из России</td>\n      <td>ИT-компания EPAM объявила об уходе из России</td>\n      <td></td>\n      <td>ИT-компания EPAM объявила об уходе из России</td>\n      <td>[5e4663219a794736af922488]</td>\n      <td>...</td>\n      <td>summary_large_image</td>\n      <td>https://s0.rbk.ru/v6_top_pics/media/img/7/49/7...</td>\n      <td>https://s0.rbk.ru/v6_top_pics/media/img/8/24/7...</td>\n      <td>https://s0.rbk.ru/v6_top_pics/resized/1200xH/m...</td>\n      <td>Бизнес</td>\n      <td>None</td>\n      <td>[Россия]</td>\n      <td>[T-компания EPAM]</td>\n      <td>[и, t-компания, epam, объявить, о, уход, из, р...</td>\n      <td>[Россия, T-компания EPAM]</td>\n    </tr>\n    <tr>\n      <th>2997</th>\n      <td>6257a6a99a79477eea75b86dtBr3UG9ORW-gOybkVKX6ww</td>\n      <td>6257a6a99a79477eea75b86d</td>\n      <td>tBr3UG9ORW-gOybkVKX6ww</td>\n      <td>NaN</td>\n      <td>2022-04-14 05:18:59</td>\n      <td>МИД сообщил о желании стран ЕАЭС отказаться от...</td>\n      <td>МИД сообщил о желании стран ЕАЭС отказаться от...</td>\n      <td></td>\n      <td>МИД сообщил о желании стран ЕАЭС отказаться от...</td>\n      <td>None</td>\n      <td>...</td>\n      <td>summary_large_image</td>\n      <td>https://s0.rbk.ru/v6_top_pics/media/img/6/45/7...</td>\n      <td>https://s0.rbk.ru/v6_top_pics/media/img/9/81/7...</td>\n      <td>https://s0.rbk.ru/v6_top_pics/resized/1200xH/m...</td>\n      <td>Война санкций</td>\n      <td>None</td>\n      <td>[ЕАЭС]</td>\n      <td>[МИД]</td>\n      <td>[мид, сообщить, о, желание, страна, еаэс, отка...</td>\n      <td>[ЕАЭС, МИД]</td>\n    </tr>\n    <tr>\n      <th>2998</th>\n      <td>624866d59a7947421716ab46WsGDKyGjTJGRh14eR7UVvw</td>\n      <td>624866d59a7947421716ab46</td>\n      <td>WsGDKyGjTJGRh14eR7UVvw</td>\n      <td>NaN</td>\n      <td>2022-04-02 15:59:06</td>\n      <td>Wikileaks сообщила дату заседания суда по экст...</td>\n      <td>WikiLeaks сообщила дату заседания суда по экст...</td>\n      <td>WikiLeaks: заседание суда по экстрадиции Джули...</td>\n      <td>Wikileaks сообщила дату заседания суда по экст...</td>\n      <td>None</td>\n      <td>...</td>\n      <td>summary_large_image</td>\n      <td>https://s0.rbk.ru/v6_top_pics/media/img/6/52/7...</td>\n      <td>https://s0.rbk.ru/v6_top_pics/media/img/8/61/7...</td>\n      <td>https://s0.rbk.ru/v6_top_pics/resized/1200xH/m...</td>\n      <td>Общество</td>\n      <td>[Ассанж]</td>\n      <td>[США]</td>\n      <td>[Wikileaks]</td>\n      <td>[wikileaks, сообщить, дата, заседание, суд, по...</td>\n      <td>[США, Wikileaks, Ассанж]</td>\n    </tr>\n    <tr>\n      <th>2999</th>\n      <td>6236f9129a79477b0ef18ae0ewByZQ1FQBK2dpXyY77rYw</td>\n      <td>6236f9129a79477b0ef18ae0</td>\n      <td>ewByZQ1FQBK2dpXyY77rYw</td>\n      <td>NaN</td>\n      <td>2022-03-20 10:33:05</td>\n      <td>Захарова посоветовала немцам меньше дышать для...</td>\n      <td>Захарова посоветовала немцам меньше дышать для...</td>\n      <td></td>\n      <td>Захарова посоветовала немцам меньше дышать для...</td>\n      <td>None</td>\n      <td>...</td>\n      <td>summary_large_image</td>\n      <td>https://s0.rbk.ru/v6_top_pics/media/img/8/29/7...</td>\n      <td>https://s0.rbk.ru/v6_top_pics/media/img/9/46/7...</td>\n      <td>https://s0.rbk.ru/v6_top_pics/resized/1200xH/m...</td>\n      <td>Политика</td>\n      <td>[Захарова]</td>\n      <td>[Россия]</td>\n      <td>None</td>\n      <td>[захаров, посоветовать, немец, маленький, дыша...</td>\n      <td>[Россия, Захарова]</td>\n    </tr>\n  </tbody>\n</table>\n<p>2967 rows × 34 columns</p>\n</div>"
     },
     "execution_count": 391,
     "metadata": {},
     "output_type": "execute_result"
    }
   ],
   "source": [
    "test_data"
   ],
   "metadata": {
    "collapsed": false,
    "pycharm": {
     "name": "#%%\n"
    }
   }
  },
  {
   "cell_type": "code",
   "execution_count": 388,
   "outputs": [
    {
     "data": {
      "text/plain": "                                         document_id  \\\n0     624ac09c9a7947db3d80c98eIDE7mtH4RBqGn-8MXfGffQ   \n1     620f6b899a7947701cf489e1KtVJsteHStO5oditt3Uvzw   \n2     620730cf9a7947ab96a44e27hk7puWJwSziw0m3sfTkKWA   \n3     6262a5889a79470b78c9ca307UKY2SSZTjCcjhwBzxw37w   \n4     626678929a79477ca0101568wuMYES90REuV5YhrN75IXg   \n...                                              ...   \n6995  61fd479c9a7947848183694751RC_1i5QlGuv7B2FzwTjw   \n6996  628a8f1c9a79478c64a7dae450tIkSGVSf2O8XQgk_uaHQ   \n6997  6244cf5e9a79479099346b26tKlqoxQYSmij0ZBrGzebug   \n6998  627303699a794749b8116abc12JX_3ZDTDu2XHF3k2eJVg   \n6999  627f1c089a794743b070ff73hVvdVmFxS2SlZ2_lECDEow   \n\n                       page_id                 session    ctr  \\\n0     624ac09c9a7947db3d80c98e  IDE7mtH4RBqGn-8MXfGffQ  1.580   \n1     620f6b899a7947701cf489e1  KtVJsteHStO5oditt3Uvzw  1.853   \n2     620730cf9a7947ab96a44e27  hk7puWJwSziw0m3sfTkKWA    NaN   \n3     6262a5889a79470b78c9ca30  7UKY2SSZTjCcjhwBzxw37w    NaN   \n4     626678929a79477ca0101568  wuMYES90REuV5YhrN75IXg    NaN   \n...                        ...                     ...    ...   \n6995  61fd479c9a79478481836947  51RC_1i5QlGuv7B2FzwTjw  2.354   \n6996  628a8f1c9a79478c64a7dae4  50tIkSGVSf2O8XQgk_uaHQ  4.112   \n6997  6244cf5e9a79479099346b26  tKlqoxQYSmij0ZBrGzebug  5.125   \n6998  627303699a794749b8116abc  12JX_3ZDTDu2XHF3k2eJVg    NaN   \n6999  627f1c089a794743b070ff73  hVvdVmFxS2SlZ2_lECDEow  2.937   \n\n            publish_date                                              title  \\\n0    2022-04-04 10:29:44  Европейский банк развития приостановил доступ ...   \n1    2022-02-18 10:00:39  Кремль назвал регулярным процессом учебные зап...   \n2    2022-02-12 04:24:02  Госсекретарь Швеции заявила о нежелании вступа...   \n3    2022-04-22 13:24:55  Песков назвал прагматичной выдачу лицензии Газ...   \n4    2022-04-25 10:42:23  В Хабаровске задержали главу филиала РАНХиГС п...   \n...                  ...                                                ...   \n6995 2022-02-04 16:19:09  Открытие Олимпиады, новые китайские контракты ...   \n6996 2022-05-22 20:07:46  Саудовская Аравия выразила надежду на соглашен...   \n6997 2022-03-30 21:59:02  Брюс Уиллис завершит актерскую карьеру из-за б...   \n6998 2022-05-04 23:15:48  Экс-посол Франции назвал болезненным для Европ...   \n6999 2022-05-14 03:41:33  Минфин США предостерег зарубежные банки от пом...   \n\n                                           title_parsed  \\\n0     Европейский банк развития приостановил доступ ...   \n1     Кремль назвал регулярным процессом учебные зап...   \n2     Госсекретарь Швеции заявила о нежелании вступа...   \n3     Песков назвал прагматичной выдачу лицензии Газ...   \n4     В Хабаровске задержали главу филиала РАНХиГС п...   \n...                                                 ...   \n6995  Открытие Олимпиады, новые китайские контракты ...   \n6996  Саудовская Аравия выразила надежду на соглашен...   \n6997  Брюс Уиллис завершит актерскую карьеру из-за б...   \n6998  Экс-посол Франции назвал болезненным для Европ...   \n6999  Минфин США предостерег зарубежные банки от пом...   \n\n                               title_parsed_from_yandex  \\\n0                                                         \n1     Дмитрий Песков: учебные запуски баллистических...   \n2                                                         \n3                                                         \n4                                                         \n...                                                 ...   \n6995                                                      \n6996                                                      \n6997                                                      \n6998                                                      \n6999                                                      \n\n                                     title_preprocessed  \\\n0     Европейский банк развития приостановил доступ ...   \n1     Кремль назвал регулярным процессом учебные зап...   \n2     Госсекретарь Швеции заявила о нежелании вступа...   \n3     Песков назвал прагматичной выдачу лицензии Газ...   \n4     В Хабаровске задержали главу филиала РАНХиГС п...   \n...                                                 ...   \n6995  Открытие Олимпиады, новые китайские контракты ...   \n6996  Саудовская Аравия выразила надежду на соглашен...   \n6997  Брюс Уиллис завершит актерскую карьеру из-за б...   \n6998  Экс-посол Франции назвал болезненным для Европ...   \n6999  Минфин США предостерег зарубежные банки от пом...   \n\n                                                authors  ...  \\\n0                                                  None  ...   \n1     [54244e01cbb20f03076b236d, 5878a2ec9a7947e531f...  ...   \n2                                                  None  ...   \n3                                                  None  ...   \n4                                                  None  ...   \n...                                                 ...  ...   \n6995                         [5878a2ec9a7947e531faf52c]  ...   \n6996  [60fa94ed9a7947b7152c986a, 5e4663219a794736af9...  ...   \n6997                                               None  ...   \n6998                                               None  ...   \n6999                         [5edf68259a79470758e7ab2d]  ...   \n\n     names_from_title_цб names_from_title_швеция names_from_title_шойгу  \\\n0                    0.0                0.000000                    0.0   \n1                    0.0                0.000000                    0.0   \n2                    0.0                0.574208                    0.0   \n3                    0.0                0.000000                    0.0   \n4                    0.0                0.000000                    0.0   \n...                  ...                     ...                    ...   \n6995                 0.0                0.000000                    0.0   \n6996                 0.0                0.000000                    0.0   \n6997                 0.0                0.000000                    0.0   \n6998                 0.0                0.000000                    0.0   \n6999                 0.0                0.000000                    0.0   \n\n     names_from_title_шолец names_from_title_шольц names_from_title_эрдоган  \\\n0                       0.0                    0.0                      0.0   \n1                       0.0                    0.0                      0.0   \n2                       0.0                    0.0                      0.0   \n3                       0.0                    0.0                      0.0   \n4                       0.0                    0.0                      0.0   \n...                     ...                    ...                      ...   \n6995                    0.0                    0.0                      0.0   \n6996                    0.0                    0.0                      0.0   \n6997                    0.0                    0.0                      0.0   \n6998                    0.0                    0.0                      0.0   \n6999                    0.0                    0.0                      0.0   \n\n     names_from_title_южная names_from_title_южная осетия  \\\n0                       0.0                           0.0   \n1                       0.0                           0.0   \n2                       0.0                           0.0   \n3                       0.0                           0.0   \n4                       0.0                           0.0   \n...                     ...                           ...   \n6995                    0.0                           0.0   \n6996                    0.0                           0.0   \n6997                    0.0                           0.0   \n6998                    0.0                           0.0   \n6999                    0.0                           0.0   \n\n      names_from_title_яндекс  names_from_title_япония  \n0                         0.0                      0.0  \n1                         0.0                      0.0  \n2                         0.0                      0.0  \n3                         0.0                      0.0  \n4                         0.0                      0.0  \n...                       ...                      ...  \n6995                      0.0                      0.0  \n6996                      0.0                      0.0  \n6997                      0.0                      0.0  \n6998                      0.0                      0.0  \n6999                      0.0                      0.0  \n\n[6907 rows x 165 columns]",
      "text/html": "<div>\n<style scoped>\n    .dataframe tbody tr th:only-of-type {\n        vertical-align: middle;\n    }\n\n    .dataframe tbody tr th {\n        vertical-align: top;\n    }\n\n    .dataframe thead th {\n        text-align: right;\n    }\n</style>\n<table border=\"1\" class=\"dataframe\">\n  <thead>\n    <tr style=\"text-align: right;\">\n      <th></th>\n      <th>document_id</th>\n      <th>page_id</th>\n      <th>session</th>\n      <th>ctr</th>\n      <th>publish_date</th>\n      <th>title</th>\n      <th>title_parsed</th>\n      <th>title_parsed_from_yandex</th>\n      <th>title_preprocessed</th>\n      <th>authors</th>\n      <th>...</th>\n      <th>names_from_title_цб</th>\n      <th>names_from_title_швеция</th>\n      <th>names_from_title_шойгу</th>\n      <th>names_from_title_шолец</th>\n      <th>names_from_title_шольц</th>\n      <th>names_from_title_эрдоган</th>\n      <th>names_from_title_южная</th>\n      <th>names_from_title_южная осетия</th>\n      <th>names_from_title_яндекс</th>\n      <th>names_from_title_япония</th>\n    </tr>\n  </thead>\n  <tbody>\n    <tr>\n      <th>0</th>\n      <td>624ac09c9a7947db3d80c98eIDE7mtH4RBqGn-8MXfGffQ</td>\n      <td>624ac09c9a7947db3d80c98e</td>\n      <td>IDE7mtH4RBqGn-8MXfGffQ</td>\n      <td>1.580</td>\n      <td>2022-04-04 10:29:44</td>\n      <td>Европейский банк развития приостановил доступ ...</td>\n      <td>Европейский банк развития приостановил доступ ...</td>\n      <td></td>\n      <td>Европейский банк развития приостановил доступ ...</td>\n      <td>None</td>\n      <td>...</td>\n      <td>0.0</td>\n      <td>0.000000</td>\n      <td>0.0</td>\n      <td>0.0</td>\n      <td>0.0</td>\n      <td>0.0</td>\n      <td>0.0</td>\n      <td>0.0</td>\n      <td>0.0</td>\n      <td>0.0</td>\n    </tr>\n    <tr>\n      <th>1</th>\n      <td>620f6b899a7947701cf489e1KtVJsteHStO5oditt3Uvzw</td>\n      <td>620f6b899a7947701cf489e1</td>\n      <td>KtVJsteHStO5oditt3Uvzw</td>\n      <td>1.853</td>\n      <td>2022-02-18 10:00:39</td>\n      <td>Кремль назвал регулярным процессом учебные зап...</td>\n      <td>Кремль назвал регулярным процессом учебные зап...</td>\n      <td>Дмитрий Песков: учебные запуски баллистических...</td>\n      <td>Кремль назвал регулярным процессом учебные зап...</td>\n      <td>[54244e01cbb20f03076b236d, 5878a2ec9a7947e531f...</td>\n      <td>...</td>\n      <td>0.0</td>\n      <td>0.000000</td>\n      <td>0.0</td>\n      <td>0.0</td>\n      <td>0.0</td>\n      <td>0.0</td>\n      <td>0.0</td>\n      <td>0.0</td>\n      <td>0.0</td>\n      <td>0.0</td>\n    </tr>\n    <tr>\n      <th>2</th>\n      <td>620730cf9a7947ab96a44e27hk7puWJwSziw0m3sfTkKWA</td>\n      <td>620730cf9a7947ab96a44e27</td>\n      <td>hk7puWJwSziw0m3sfTkKWA</td>\n      <td>NaN</td>\n      <td>2022-02-12 04:24:02</td>\n      <td>Госсекретарь Швеции заявила о нежелании вступа...</td>\n      <td>Госсекретарь Швеции заявила о нежелании вступа...</td>\n      <td></td>\n      <td>Госсекретарь Швеции заявила о нежелании вступа...</td>\n      <td>None</td>\n      <td>...</td>\n      <td>0.0</td>\n      <td>0.574208</td>\n      <td>0.0</td>\n      <td>0.0</td>\n      <td>0.0</td>\n      <td>0.0</td>\n      <td>0.0</td>\n      <td>0.0</td>\n      <td>0.0</td>\n      <td>0.0</td>\n    </tr>\n    <tr>\n      <th>3</th>\n      <td>6262a5889a79470b78c9ca307UKY2SSZTjCcjhwBzxw37w</td>\n      <td>6262a5889a79470b78c9ca30</td>\n      <td>7UKY2SSZTjCcjhwBzxw37w</td>\n      <td>NaN</td>\n      <td>2022-04-22 13:24:55</td>\n      <td>Песков назвал прагматичной выдачу лицензии Газ...</td>\n      <td>Песков назвал прагматичной выдачу лицензии Газ...</td>\n      <td></td>\n      <td>Песков назвал прагматичной выдачу лицензии Газ...</td>\n      <td>None</td>\n      <td>...</td>\n      <td>0.0</td>\n      <td>0.000000</td>\n      <td>0.0</td>\n      <td>0.0</td>\n      <td>0.0</td>\n      <td>0.0</td>\n      <td>0.0</td>\n      <td>0.0</td>\n      <td>0.0</td>\n      <td>0.0</td>\n    </tr>\n    <tr>\n      <th>4</th>\n      <td>626678929a79477ca0101568wuMYES90REuV5YhrN75IXg</td>\n      <td>626678929a79477ca0101568</td>\n      <td>wuMYES90REuV5YhrN75IXg</td>\n      <td>NaN</td>\n      <td>2022-04-25 10:42:23</td>\n      <td>В Хабаровске задержали главу филиала РАНХиГС п...</td>\n      <td>В Хабаровске задержали главу филиала РАНХиГС п...</td>\n      <td></td>\n      <td>В Хабаровске задержали главу филиала РАНХиГС п...</td>\n      <td>None</td>\n      <td>...</td>\n      <td>0.0</td>\n      <td>0.000000</td>\n      <td>0.0</td>\n      <td>0.0</td>\n      <td>0.0</td>\n      <td>0.0</td>\n      <td>0.0</td>\n      <td>0.0</td>\n      <td>0.0</td>\n      <td>0.0</td>\n    </tr>\n    <tr>\n      <th>...</th>\n      <td>...</td>\n      <td>...</td>\n      <td>...</td>\n      <td>...</td>\n      <td>...</td>\n      <td>...</td>\n      <td>...</td>\n      <td>...</td>\n      <td>...</td>\n      <td>...</td>\n      <td>...</td>\n      <td>...</td>\n      <td>...</td>\n      <td>...</td>\n      <td>...</td>\n      <td>...</td>\n      <td>...</td>\n      <td>...</td>\n      <td>...</td>\n      <td>...</td>\n      <td>...</td>\n    </tr>\n    <tr>\n      <th>6995</th>\n      <td>61fd479c9a7947848183694751RC_1i5QlGuv7B2FzwTjw</td>\n      <td>61fd479c9a79478481836947</td>\n      <td>51RC_1i5QlGuv7B2FzwTjw</td>\n      <td>2.354</td>\n      <td>2022-02-04 16:19:09</td>\n      <td>Открытие Олимпиады, новые китайские контракты ...</td>\n      <td>Открытие Олимпиады, новые китайские контракты ...</td>\n      <td></td>\n      <td>Открытие Олимпиады, новые китайские контракты ...</td>\n      <td>[5878a2ec9a7947e531faf52c]</td>\n      <td>...</td>\n      <td>0.0</td>\n      <td>0.000000</td>\n      <td>0.0</td>\n      <td>0.0</td>\n      <td>0.0</td>\n      <td>0.0</td>\n      <td>0.0</td>\n      <td>0.0</td>\n      <td>0.0</td>\n      <td>0.0</td>\n    </tr>\n    <tr>\n      <th>6996</th>\n      <td>628a8f1c9a79478c64a7dae450tIkSGVSf2O8XQgk_uaHQ</td>\n      <td>628a8f1c9a79478c64a7dae4</td>\n      <td>50tIkSGVSf2O8XQgk_uaHQ</td>\n      <td>4.112</td>\n      <td>2022-05-22 20:07:46</td>\n      <td>Саудовская Аравия выразила надежду на соглашен...</td>\n      <td>Саудовская Аравия выразила надежду на соглашен...</td>\n      <td></td>\n      <td>Саудовская Аравия выразила надежду на соглашен...</td>\n      <td>[60fa94ed9a7947b7152c986a, 5e4663219a794736af9...</td>\n      <td>...</td>\n      <td>0.0</td>\n      <td>0.000000</td>\n      <td>0.0</td>\n      <td>0.0</td>\n      <td>0.0</td>\n      <td>0.0</td>\n      <td>0.0</td>\n      <td>0.0</td>\n      <td>0.0</td>\n      <td>0.0</td>\n    </tr>\n    <tr>\n      <th>6997</th>\n      <td>6244cf5e9a79479099346b26tKlqoxQYSmij0ZBrGzebug</td>\n      <td>6244cf5e9a79479099346b26</td>\n      <td>tKlqoxQYSmij0ZBrGzebug</td>\n      <td>5.125</td>\n      <td>2022-03-30 21:59:02</td>\n      <td>Брюс Уиллис завершит актерскую карьеру из-за б...</td>\n      <td>Брюс Уиллис завершит актерскую карьеру из-за б...</td>\n      <td></td>\n      <td>Брюс Уиллис завершит актерскую карьеру из-за б...</td>\n      <td>None</td>\n      <td>...</td>\n      <td>0.0</td>\n      <td>0.000000</td>\n      <td>0.0</td>\n      <td>0.0</td>\n      <td>0.0</td>\n      <td>0.0</td>\n      <td>0.0</td>\n      <td>0.0</td>\n      <td>0.0</td>\n      <td>0.0</td>\n    </tr>\n    <tr>\n      <th>6998</th>\n      <td>627303699a794749b8116abc12JX_3ZDTDu2XHF3k2eJVg</td>\n      <td>627303699a794749b8116abc</td>\n      <td>12JX_3ZDTDu2XHF3k2eJVg</td>\n      <td>NaN</td>\n      <td>2022-05-04 23:15:48</td>\n      <td>Экс-посол Франции назвал болезненным для Европ...</td>\n      <td>Экс-посол Франции назвал болезненным для Европ...</td>\n      <td></td>\n      <td>Экс-посол Франции назвал болезненным для Европ...</td>\n      <td>None</td>\n      <td>...</td>\n      <td>0.0</td>\n      <td>0.000000</td>\n      <td>0.0</td>\n      <td>0.0</td>\n      <td>0.0</td>\n      <td>0.0</td>\n      <td>0.0</td>\n      <td>0.0</td>\n      <td>0.0</td>\n      <td>0.0</td>\n    </tr>\n    <tr>\n      <th>6999</th>\n      <td>627f1c089a794743b070ff73hVvdVmFxS2SlZ2_lECDEow</td>\n      <td>627f1c089a794743b070ff73</td>\n      <td>hVvdVmFxS2SlZ2_lECDEow</td>\n      <td>2.937</td>\n      <td>2022-05-14 03:41:33</td>\n      <td>Минфин США предостерег зарубежные банки от пом...</td>\n      <td>Минфин США предостерег зарубежные банки от пом...</td>\n      <td></td>\n      <td>Минфин США предостерег зарубежные банки от пом...</td>\n      <td>[5edf68259a79470758e7ab2d]</td>\n      <td>...</td>\n      <td>0.0</td>\n      <td>0.000000</td>\n      <td>0.0</td>\n      <td>0.0</td>\n      <td>0.0</td>\n      <td>0.0</td>\n      <td>0.0</td>\n      <td>0.0</td>\n      <td>0.0</td>\n      <td>0.0</td>\n    </tr>\n  </tbody>\n</table>\n<p>6907 rows × 165 columns</p>\n</div>"
     },
     "execution_count": 388,
     "metadata": {},
     "output_type": "execute_result"
    }
   ],
   "source": [
    "pd.concat([train_data, train_dd], axis=1)"
   ],
   "metadata": {
    "collapsed": false,
    "pycharm": {
     "name": "#%%\n"
    }
   }
  },
  {
   "cell_type": "code",
   "execution_count": 393,
   "outputs": [
    {
     "data": {
      "text/plain": "        ctr  authors                  category  \\\n0     1.580      0.0  5409f11ce063da9c8b588a18   \n1     1.853     37.0  5409f11ce063da9c8b588a12   \n2       NaN      0.0  5409f11ce063da9c8b588a12   \n3       NaN      0.0  5409f11ce063da9c8b588a12   \n4       NaN      0.0  5433e5decbb20f277b20eca9   \n...     ...      ...                       ...   \n6995    NaN      NaN                       NaN   \n6996    NaN      NaN                       NaN   \n6997    NaN      NaN                       NaN   \n6998    NaN      NaN                       NaN   \n6999    NaN      NaN                       NaN   \n\n      news_amount_of_paragraphs_parsed  news_amount_of_inline_items_parsed  \\\n0                                  9.0                                 1.0   \n1                                  6.0                                 1.0   \n2                                  6.0                                 2.0   \n3                                  8.0                                 1.0   \n4                                  9.0                                 1.0   \n...                                ...                                 ...   \n6995                               NaN                                 NaN   \n6996                               NaN                                 NaN   \n6997                               NaN                                 NaN   \n6998                               NaN                                 NaN   \n6999                               NaN                                 NaN   \n\n      news_has_image_parsed  hour  month   day  dayofweek  ...  \\\n0                       1.0  13.0    4.0   4.0        0.0  ...   \n1                       1.0  13.0    2.0  18.0        4.0  ...   \n2                       0.0   7.0    2.0  12.0        5.0  ...   \n3                       1.0  16.0    4.0  22.0        4.0  ...   \n4                       1.0  13.0    4.0  25.0        0.0  ...   \n...                     ...   ...    ...   ...        ...  ...   \n6995                    NaN   NaN    NaN   NaN        NaN  ...   \n6996                    NaN   NaN    NaN   NaN        NaN  ...   \n6997                    NaN   NaN    NaN   NaN        NaN  ...   \n6998                    NaN   NaN    NaN   NaN        NaN  ...   \n6999                    NaN   NaN    NaN   NaN        NaN  ...   \n\n      names_from_title_цб names_from_title_швеция  names_from_title_шойгу  \\\n0                     0.0                0.000000                     0.0   \n1                     0.0                0.000000                     0.0   \n2                     0.0                0.574208                     0.0   \n3                     0.0                0.000000                     0.0   \n4                     0.0                0.000000                     0.0   \n...                   ...                     ...                     ...   \n6995                  0.0                0.000000                     0.0   \n6996                  0.0                0.000000                     0.0   \n6997                  0.0                0.000000                     0.0   \n6998                  0.0                0.000000                     0.0   \n6999                  0.0                0.000000                     0.0   \n\n      names_from_title_шолец  names_from_title_шольц  \\\n0                        0.0                     0.0   \n1                        0.0                     0.0   \n2                        0.0                     0.0   \n3                        0.0                     0.0   \n4                        0.0                     0.0   \n...                      ...                     ...   \n6995                     0.0                     0.0   \n6996                     0.0                     0.0   \n6997                     0.0                     0.0   \n6998                     0.0                     0.0   \n6999                     0.0                     0.0   \n\n      names_from_title_эрдоган  names_from_title_южная  \\\n0                          0.0                     0.0   \n1                          0.0                     0.0   \n2                          0.0                     0.0   \n3                          0.0                     0.0   \n4                          0.0                     0.0   \n...                        ...                     ...   \n6995                       0.0                     0.0   \n6996                       0.0                     0.0   \n6997                       0.0                     0.0   \n6998                       0.0                     0.0   \n6999                       0.0                     0.0   \n\n      names_from_title_южная осетия  names_from_title_яндекс  \\\n0                               0.0                      0.0   \n1                               0.0                      0.0   \n2                               0.0                      0.0   \n3                               0.0                      0.0   \n4                               0.0                      0.0   \n...                             ...                      ...   \n6995                            0.0                      0.0   \n6996                            0.0                      0.0   \n6997                            0.0                      0.0   \n6998                            0.0                      0.0   \n6999                            0.0                      0.0   \n\n      names_from_title_япония  \n0                         0.0  \n1                         0.0  \n2                         0.0  \n3                         0.0  \n4                         0.0  \n...                       ...  \n6995                      0.0  \n6996                      0.0  \n6997                      0.0  \n6998                      0.0  \n6999                      0.0  \n\n[7000 rows x 152 columns]",
      "text/html": "<div>\n<style scoped>\n    .dataframe tbody tr th:only-of-type {\n        vertical-align: middle;\n    }\n\n    .dataframe tbody tr th {\n        vertical-align: top;\n    }\n\n    .dataframe thead th {\n        text-align: right;\n    }\n</style>\n<table border=\"1\" class=\"dataframe\">\n  <thead>\n    <tr style=\"text-align: right;\">\n      <th></th>\n      <th>ctr</th>\n      <th>authors</th>\n      <th>category</th>\n      <th>news_amount_of_paragraphs_parsed</th>\n      <th>news_amount_of_inline_items_parsed</th>\n      <th>news_has_image_parsed</th>\n      <th>hour</th>\n      <th>month</th>\n      <th>day</th>\n      <th>dayofweek</th>\n      <th>...</th>\n      <th>names_from_title_цб</th>\n      <th>names_from_title_швеция</th>\n      <th>names_from_title_шойгу</th>\n      <th>names_from_title_шолец</th>\n      <th>names_from_title_шольц</th>\n      <th>names_from_title_эрдоган</th>\n      <th>names_from_title_южная</th>\n      <th>names_from_title_южная осетия</th>\n      <th>names_from_title_яндекс</th>\n      <th>names_from_title_япония</th>\n    </tr>\n  </thead>\n  <tbody>\n    <tr>\n      <th>0</th>\n      <td>1.580</td>\n      <td>0.0</td>\n      <td>5409f11ce063da9c8b588a18</td>\n      <td>9.0</td>\n      <td>1.0</td>\n      <td>1.0</td>\n      <td>13.0</td>\n      <td>4.0</td>\n      <td>4.0</td>\n      <td>0.0</td>\n      <td>...</td>\n      <td>0.0</td>\n      <td>0.000000</td>\n      <td>0.0</td>\n      <td>0.0</td>\n      <td>0.0</td>\n      <td>0.0</td>\n      <td>0.0</td>\n      <td>0.0</td>\n      <td>0.0</td>\n      <td>0.0</td>\n    </tr>\n    <tr>\n      <th>1</th>\n      <td>1.853</td>\n      <td>37.0</td>\n      <td>5409f11ce063da9c8b588a12</td>\n      <td>6.0</td>\n      <td>1.0</td>\n      <td>1.0</td>\n      <td>13.0</td>\n      <td>2.0</td>\n      <td>18.0</td>\n      <td>4.0</td>\n      <td>...</td>\n      <td>0.0</td>\n      <td>0.000000</td>\n      <td>0.0</td>\n      <td>0.0</td>\n      <td>0.0</td>\n      <td>0.0</td>\n      <td>0.0</td>\n      <td>0.0</td>\n      <td>0.0</td>\n      <td>0.0</td>\n    </tr>\n    <tr>\n      <th>2</th>\n      <td>NaN</td>\n      <td>0.0</td>\n      <td>5409f11ce063da9c8b588a12</td>\n      <td>6.0</td>\n      <td>2.0</td>\n      <td>0.0</td>\n      <td>7.0</td>\n      <td>2.0</td>\n      <td>12.0</td>\n      <td>5.0</td>\n      <td>...</td>\n      <td>0.0</td>\n      <td>0.574208</td>\n      <td>0.0</td>\n      <td>0.0</td>\n      <td>0.0</td>\n      <td>0.0</td>\n      <td>0.0</td>\n      <td>0.0</td>\n      <td>0.0</td>\n      <td>0.0</td>\n    </tr>\n    <tr>\n      <th>3</th>\n      <td>NaN</td>\n      <td>0.0</td>\n      <td>5409f11ce063da9c8b588a12</td>\n      <td>8.0</td>\n      <td>1.0</td>\n      <td>1.0</td>\n      <td>16.0</td>\n      <td>4.0</td>\n      <td>22.0</td>\n      <td>4.0</td>\n      <td>...</td>\n      <td>0.0</td>\n      <td>0.000000</td>\n      <td>0.0</td>\n      <td>0.0</td>\n      <td>0.0</td>\n      <td>0.0</td>\n      <td>0.0</td>\n      <td>0.0</td>\n      <td>0.0</td>\n      <td>0.0</td>\n    </tr>\n    <tr>\n      <th>4</th>\n      <td>NaN</td>\n      <td>0.0</td>\n      <td>5433e5decbb20f277b20eca9</td>\n      <td>9.0</td>\n      <td>1.0</td>\n      <td>1.0</td>\n      <td>13.0</td>\n      <td>4.0</td>\n      <td>25.0</td>\n      <td>0.0</td>\n      <td>...</td>\n      <td>0.0</td>\n      <td>0.000000</td>\n      <td>0.0</td>\n      <td>0.0</td>\n      <td>0.0</td>\n      <td>0.0</td>\n      <td>0.0</td>\n      <td>0.0</td>\n      <td>0.0</td>\n      <td>0.0</td>\n    </tr>\n    <tr>\n      <th>...</th>\n      <td>...</td>\n      <td>...</td>\n      <td>...</td>\n      <td>...</td>\n      <td>...</td>\n      <td>...</td>\n      <td>...</td>\n      <td>...</td>\n      <td>...</td>\n      <td>...</td>\n      <td>...</td>\n      <td>...</td>\n      <td>...</td>\n      <td>...</td>\n      <td>...</td>\n      <td>...</td>\n      <td>...</td>\n      <td>...</td>\n      <td>...</td>\n      <td>...</td>\n      <td>...</td>\n    </tr>\n    <tr>\n      <th>6995</th>\n      <td>NaN</td>\n      <td>NaN</td>\n      <td>NaN</td>\n      <td>NaN</td>\n      <td>NaN</td>\n      <td>NaN</td>\n      <td>NaN</td>\n      <td>NaN</td>\n      <td>NaN</td>\n      <td>NaN</td>\n      <td>...</td>\n      <td>0.0</td>\n      <td>0.000000</td>\n      <td>0.0</td>\n      <td>0.0</td>\n      <td>0.0</td>\n      <td>0.0</td>\n      <td>0.0</td>\n      <td>0.0</td>\n      <td>0.0</td>\n      <td>0.0</td>\n    </tr>\n    <tr>\n      <th>6996</th>\n      <td>NaN</td>\n      <td>NaN</td>\n      <td>NaN</td>\n      <td>NaN</td>\n      <td>NaN</td>\n      <td>NaN</td>\n      <td>NaN</td>\n      <td>NaN</td>\n      <td>NaN</td>\n      <td>NaN</td>\n      <td>...</td>\n      <td>0.0</td>\n      <td>0.000000</td>\n      <td>0.0</td>\n      <td>0.0</td>\n      <td>0.0</td>\n      <td>0.0</td>\n      <td>0.0</td>\n      <td>0.0</td>\n      <td>0.0</td>\n      <td>0.0</td>\n    </tr>\n    <tr>\n      <th>6997</th>\n      <td>NaN</td>\n      <td>NaN</td>\n      <td>NaN</td>\n      <td>NaN</td>\n      <td>NaN</td>\n      <td>NaN</td>\n      <td>NaN</td>\n      <td>NaN</td>\n      <td>NaN</td>\n      <td>NaN</td>\n      <td>...</td>\n      <td>0.0</td>\n      <td>0.000000</td>\n      <td>0.0</td>\n      <td>0.0</td>\n      <td>0.0</td>\n      <td>0.0</td>\n      <td>0.0</td>\n      <td>0.0</td>\n      <td>0.0</td>\n      <td>0.0</td>\n    </tr>\n    <tr>\n      <th>6998</th>\n      <td>NaN</td>\n      <td>NaN</td>\n      <td>NaN</td>\n      <td>NaN</td>\n      <td>NaN</td>\n      <td>NaN</td>\n      <td>NaN</td>\n      <td>NaN</td>\n      <td>NaN</td>\n      <td>NaN</td>\n      <td>...</td>\n      <td>0.0</td>\n      <td>0.000000</td>\n      <td>0.0</td>\n      <td>0.0</td>\n      <td>0.0</td>\n      <td>0.0</td>\n      <td>0.0</td>\n      <td>0.0</td>\n      <td>0.0</td>\n      <td>0.0</td>\n    </tr>\n    <tr>\n      <th>6999</th>\n      <td>NaN</td>\n      <td>NaN</td>\n      <td>NaN</td>\n      <td>NaN</td>\n      <td>NaN</td>\n      <td>NaN</td>\n      <td>NaN</td>\n      <td>NaN</td>\n      <td>NaN</td>\n      <td>NaN</td>\n      <td>...</td>\n      <td>0.0</td>\n      <td>0.000000</td>\n      <td>0.0</td>\n      <td>0.0</td>\n      <td>0.0</td>\n      <td>0.0</td>\n      <td>0.0</td>\n      <td>0.0</td>\n      <td>0.0</td>\n      <td>0.0</td>\n    </tr>\n  </tbody>\n</table>\n<p>7000 rows × 152 columns</p>\n</div>"
     },
     "execution_count": 393,
     "metadata": {},
     "output_type": "execute_result"
    }
   ],
   "source": [
    "train_features"
   ],
   "metadata": {
    "collapsed": false,
    "pycharm": {
     "name": "#%%\n"
    }
   }
  },
  {
   "cell_type": "code",
   "execution_count": null,
   "outputs": [],
   "source": [
    "        # tfidf = TfidfVectorTransformer(\n",
    "        #     col='NAMES_FROM_TITLE',\n",
    "        #     tfidf_vectorizer=TfidfVectorizer(\n",
    "        #         ngram_range=(1, 4),\n",
    "        #         min_df=1,\n",
    "        #         max_features=128\n",
    "        #     )\n",
    "        # )\n",
    "        # tfidf.fit(train_data)\n",
    "        # train_dd = tfidf.transform(train_data)\n",
    "        # test_dd = tfidf.transform(test_data)\n",
    "        # train_features = pd.concat([train_features, train_dd], axis=1)\n",
    "        # test_features = pd.concat([test_features, test_dd], axis=1)    #"
   ],
   "metadata": {
    "collapsed": false,
    "pycharm": {
     "name": "#%%\n"
    }
   }
  },
  {
   "cell_type": "code",
   "execution_count": 400,
   "outputs": [],
   "source": [
    "from transformers import BertTokenizer, BertModel"
   ],
   "metadata": {
    "collapsed": false,
    "pycharm": {
     "name": "#%%\n"
    }
   }
  },
  {
   "cell_type": "code",
   "execution_count": 401,
   "outputs": [
    {
     "name": "stderr",
     "output_type": "stream",
     "text": [
      "Downloading: 100%|██████████| 1.57M/1.57M [00:02<00:00, 651kB/s] \n",
      "Downloading: 100%|██████████| 112/112 [00:00<00:00, 24.9kB/s]\n",
      "Downloading: 100%|██████████| 24.0/24.0 [00:00<00:00, 6.86kB/s]\n",
      "Downloading: 100%|██████████| 642/642 [00:00<00:00, 143kB/s]\n"
     ]
    }
   ],
   "source": [
    "tokenizer = BertTokenizer.from_pretrained('DeepPavlov/rubert-base-cased')"
   ],
   "metadata": {
    "collapsed": false,
    "pycharm": {
     "name": "#%%\n"
    }
   }
  },
  {
   "cell_type": "code",
   "execution_count": 402,
   "outputs": [
    {
     "name": "stderr",
     "output_type": "stream",
     "text": [
      "Downloading: 100%|██████████| 681M/681M [00:59<00:00, 11.9MB/s] \n",
      "Some weights of the model checkpoint at DeepPavlov/rubert-base-cased were not used when initializing BertModel: ['cls.predictions.bias', 'cls.predictions.decoder.bias', 'cls.predictions.transform.LayerNorm.bias', 'cls.seq_relationship.weight', 'cls.seq_relationship.bias', 'cls.predictions.decoder.weight', 'cls.predictions.transform.dense.weight', 'cls.predictions.transform.dense.bias', 'cls.predictions.transform.LayerNorm.weight']\n",
      "- This IS expected if you are initializing BertModel from the checkpoint of a model trained on another task or with another architecture (e.g. initializing a BertForSequenceClassification model from a BertForPreTraining model).\n",
      "- This IS NOT expected if you are initializing BertModel from the checkpoint of a model that you expect to be exactly identical (initializing a BertForSequenceClassification model from a BertForSequenceClassification model).\n"
     ]
    }
   ],
   "source": [
    "model_rubert = BertModel.from_pretrained('DeepPavlov/rubert-base-cased')"
   ],
   "metadata": {
    "collapsed": false,
    "pycharm": {
     "name": "#%%\n"
    }
   }
  },
  {
   "cell_type": "code",
   "execution_count": 403,
   "outputs": [
    {
     "name": "stderr",
     "output_type": "stream",
     "text": [
      "Truncation was not explicitly activated but `max_length` is provided a specific value, please use `truncation=True` to explicitly truncate examples to max length. Defaulting to 'longest_first' truncation strategy. If you encode pairs of sequences (GLUE-style) with the tokenizer you can select this strategy more precisely by providing a specific strategy to `truncation`.\n"
     ]
    }
   ],
   "source": [
    "input_train_title_tokenized = [\n",
    "    tokenizer.encode(sent, max_length=62, pad_to_max_length=True, return_tensors='pt')\n",
    "    for sent in train_data['title_preprocessed']\n",
    "]"
   ],
   "metadata": {
    "collapsed": false,
    "pycharm": {
     "name": "#%%\n"
    }
   }
  },
  {
   "cell_type": "code",
   "execution_count": 406,
   "outputs": [],
   "source": [
    "import torch\n",
    "def get_pooler_out(model, inpt3, batch_size=32):\n",
    "    model.eval()\n",
    "\n",
    "    pooler_output = torch.empty([0, 768])\n",
    "\n",
    "\n",
    "    for b in range(len(inpt3)//batch_size + 1):\n",
    "        print(b)\n",
    "        up_to = b*batch_size + batch_size\n",
    "        if len(inpt3) < up_to:\n",
    "            up_to = len(inpt3)\n",
    "        input_ids = torch.cat(inpt3[b*batch_size:up_to])\n",
    "\n",
    "        with torch.no_grad():\n",
    "            embedding = model.forward(input_ids=input_ids, output_hidden_states=True)['hidden_states'][-1][:,0]\n",
    "            pooler_output = torch.cat([pooler_output, embedding],0)\n",
    "\n",
    "\n",
    "    return pooler_output"
   ],
   "metadata": {
    "collapsed": false,
    "pycharm": {
     "name": "#%%\n"
    }
   }
  },
  {
   "cell_type": "code",
   "execution_count": 407,
   "outputs": [
    {
     "name": "stdout",
     "output_type": "stream",
     "text": [
      "0\n",
      "1\n",
      "2\n",
      "3\n",
      "4\n",
      "5\n",
      "6\n",
      "7\n",
      "8\n",
      "9\n",
      "10\n",
      "11\n",
      "12\n",
      "13\n",
      "14\n",
      "15\n",
      "16\n",
      "17\n",
      "18\n",
      "19\n",
      "20\n",
      "21\n",
      "22\n",
      "23\n",
      "24\n",
      "25\n",
      "26\n",
      "27\n",
      "28\n",
      "29\n",
      "30\n",
      "31\n",
      "32\n",
      "33\n",
      "34\n",
      "35\n",
      "36\n",
      "37\n",
      "38\n",
      "39\n",
      "40\n",
      "41\n",
      "42\n",
      "43\n",
      "44\n",
      "45\n",
      "46\n",
      "47\n",
      "48\n",
      "49\n",
      "50\n",
      "51\n",
      "52\n",
      "53\n",
      "54\n",
      "55\n",
      "56\n",
      "57\n",
      "58\n",
      "59\n",
      "60\n",
      "61\n",
      "62\n",
      "63\n",
      "64\n",
      "65\n",
      "66\n",
      "67\n",
      "68\n",
      "69\n",
      "70\n",
      "71\n",
      "72\n",
      "73\n",
      "74\n",
      "75\n",
      "76\n",
      "77\n",
      "78\n",
      "79\n",
      "80\n",
      "81\n",
      "82\n",
      "83\n",
      "84\n",
      "85\n",
      "86\n",
      "87\n",
      "88\n",
      "89\n",
      "90\n",
      "91\n",
      "92\n",
      "93\n",
      "94\n",
      "95\n",
      "96\n",
      "97\n",
      "98\n",
      "99\n",
      "100\n",
      "101\n",
      "102\n",
      "103\n",
      "104\n",
      "105\n",
      "106\n",
      "107\n",
      "108\n",
      "109\n",
      "110\n",
      "111\n",
      "112\n",
      "113\n",
      "114\n",
      "115\n",
      "116\n",
      "117\n",
      "118\n",
      "119\n",
      "120\n",
      "121\n",
      "122\n",
      "123\n",
      "124\n",
      "125\n",
      "126\n",
      "127\n",
      "128\n",
      "129\n",
      "130\n",
      "131\n",
      "132\n",
      "133\n",
      "134\n",
      "135\n",
      "136\n",
      "137\n",
      "138\n",
      "139\n",
      "140\n",
      "141\n",
      "142\n",
      "143\n",
      "144\n",
      "145\n",
      "146\n",
      "147\n",
      "148\n",
      "149\n",
      "150\n",
      "151\n",
      "152\n",
      "153\n",
      "154\n",
      "155\n",
      "156\n",
      "157\n",
      "158\n",
      "159\n",
      "160\n",
      "161\n",
      "162\n",
      "163\n",
      "164\n",
      "165\n",
      "166\n",
      "167\n",
      "168\n",
      "169\n",
      "170\n",
      "171\n",
      "172\n",
      "173\n",
      "174\n",
      "175\n",
      "176\n",
      "177\n",
      "178\n",
      "179\n",
      "180\n",
      "181\n",
      "182\n",
      "183\n",
      "184\n",
      "185\n",
      "186\n",
      "187\n",
      "188\n",
      "189\n",
      "190\n",
      "191\n",
      "192\n",
      "193\n",
      "194\n",
      "195\n",
      "196\n",
      "197\n",
      "198\n",
      "199\n",
      "200\n",
      "201\n",
      "202\n",
      "203\n",
      "204\n",
      "205\n",
      "206\n",
      "207\n",
      "208\n",
      "209\n",
      "210\n",
      "211\n",
      "212\n",
      "213\n",
      "214\n",
      "215\n"
     ]
    }
   ],
   "source": [
    "vectors = get_pooler_out(model_rubert, input_train_title_tokenized, batch_size=32)"
   ],
   "metadata": {
    "collapsed": false,
    "pycharm": {
     "name": "#%%\n"
    }
   }
  },
  {
   "cell_type": "code",
   "execution_count": 408,
   "outputs": [
    {
     "name": "stderr",
     "output_type": "stream",
     "text": [
      "[nltk_data] Downloading package stopwords to\n",
      "[nltk_data]     C:\\Users\\shiro\\AppData\\Roaming\\nltk_data...\n",
      "[nltk_data]   Package stopwords is already up-to-date!\n",
      "[nltk_data] Downloading package stopwords to\n",
      "[nltk_data]     C:\\Users\\shiro\\AppData\\Roaming\\nltk_data...\n",
      "[nltk_data]   Package stopwords is already up-to-date!\n"
     ]
    }
   ],
   "source": [
    "vec_list = vectors.tolist()\n",
    "vec_df = pd.DataFrame(vec_list)\n",
    "vec_df = pd.DataFrame(vec_df[[0]])\n",
    "vec_df = vec_df.rename(columns={0 : 'CLS_1'})\n",
    "train_data['cls_token'] = vec_df['CLS_1'].values"
   ],
   "metadata": {
    "collapsed": false,
    "pycharm": {
     "name": "#%%\n"
    }
   }
  },
  {
   "cell_type": "code",
   "execution_count": 411,
   "outputs": [],
   "source": [
    "train_data = train_data.drop('cls_token', axis=1)"
   ],
   "metadata": {
    "collapsed": false,
    "pycharm": {
     "name": "#%%\n"
    }
   }
  },
  {
   "cell_type": "code",
   "execution_count": 434,
   "outputs": [],
   "source": [
    "    train_features = FeatureGenerator(\n",
    "        data=train_data,\n",
    "        mode='train'\n",
    "    )"
   ],
   "metadata": {
    "collapsed": false,
    "pycharm": {
     "name": "#%%\n"
    }
   }
  },
  {
   "cell_type": "code",
   "execution_count": 435,
   "outputs": [
    {
     "data": {
      "text/plain": "        ctr  authors                  category  \\\n0     1.580        0  5409f11ce063da9c8b588a18   \n1     1.853       37  5409f11ce063da9c8b588a12   \n2       NaN        0  5409f11ce063da9c8b588a12   \n3       NaN        0  5409f11ce063da9c8b588a12   \n4       NaN        0  5433e5decbb20f277b20eca9   \n...     ...      ...                       ...   \n6995  2.354      128  5433e5decbb20f277b20eca9   \n6996  4.112      416  540d5eafcbb20f2524fc0509   \n6997  5.125        0  5433e5decbb20f277b20eca9   \n6998    NaN        0  5409f11ce063da9c8b588a13   \n6999  2.937      316  5409f11ce063da9c8b588a12   \n\n      news_amount_of_paragraphs_parsed  news_amount_of_inline_items_parsed  \\\n0                                    9                                   1   \n1                                    6                                   1   \n2                                    6                                   2   \n3                                    8                                   1   \n4                                    9                                   1   \n...                                ...                                 ...   \n6995                                 1                                   1   \n6996                                 7                                   1   \n6997                                 5                                   0   \n6998                                 7                                   1   \n6999                                 6                                   1   \n\n      news_has_image_parsed  hour  month  day  dayofweek  feb_24  is_na_ctr  \\\n0                         1    13      4    4          0      39      False   \n1                         1    13      2   18          4      -6      False   \n2                         0     7      2   12          5     -12       True   \n3                         1    16      4   22          4      57       True   \n4                         1    13      4   25          0      60       True   \n...                     ...   ...    ...  ...        ...     ...        ...   \n6995                      1    19      2    4          4     -20      False   \n6996                      1    23      5   22          6      87      False   \n6997                      0     0      3   31          3      35      False   \n6998                      1     2      5    5          3      70       True   \n6999                      1     6      5   14          5      79      False   \n\n      num_words_text  num_words_text_diff  num_words_title  \n0                226             0.300000               10  \n1                230             0.125000                8  \n2                180             0.300000               10  \n3                249             0.100000               10  \n4                354             0.200000               10  \n...              ...                  ...              ...  \n6995               0             0.111111                9  \n6996             270             0.300000               10  \n6997             119             0.142857                7  \n6998             232             0.200000               10  \n6999             320             0.272727               11  \n\n[6907 rows x 15 columns]",
      "text/html": "<div>\n<style scoped>\n    .dataframe tbody tr th:only-of-type {\n        vertical-align: middle;\n    }\n\n    .dataframe tbody tr th {\n        vertical-align: top;\n    }\n\n    .dataframe thead th {\n        text-align: right;\n    }\n</style>\n<table border=\"1\" class=\"dataframe\">\n  <thead>\n    <tr style=\"text-align: right;\">\n      <th></th>\n      <th>ctr</th>\n      <th>authors</th>\n      <th>category</th>\n      <th>news_amount_of_paragraphs_parsed</th>\n      <th>news_amount_of_inline_items_parsed</th>\n      <th>news_has_image_parsed</th>\n      <th>hour</th>\n      <th>month</th>\n      <th>day</th>\n      <th>dayofweek</th>\n      <th>feb_24</th>\n      <th>is_na_ctr</th>\n      <th>num_words_text</th>\n      <th>num_words_text_diff</th>\n      <th>num_words_title</th>\n    </tr>\n  </thead>\n  <tbody>\n    <tr>\n      <th>0</th>\n      <td>1.580</td>\n      <td>0</td>\n      <td>5409f11ce063da9c8b588a18</td>\n      <td>9</td>\n      <td>1</td>\n      <td>1</td>\n      <td>13</td>\n      <td>4</td>\n      <td>4</td>\n      <td>0</td>\n      <td>39</td>\n      <td>False</td>\n      <td>226</td>\n      <td>0.300000</td>\n      <td>10</td>\n    </tr>\n    <tr>\n      <th>1</th>\n      <td>1.853</td>\n      <td>37</td>\n      <td>5409f11ce063da9c8b588a12</td>\n      <td>6</td>\n      <td>1</td>\n      <td>1</td>\n      <td>13</td>\n      <td>2</td>\n      <td>18</td>\n      <td>4</td>\n      <td>-6</td>\n      <td>False</td>\n      <td>230</td>\n      <td>0.125000</td>\n      <td>8</td>\n    </tr>\n    <tr>\n      <th>2</th>\n      <td>NaN</td>\n      <td>0</td>\n      <td>5409f11ce063da9c8b588a12</td>\n      <td>6</td>\n      <td>2</td>\n      <td>0</td>\n      <td>7</td>\n      <td>2</td>\n      <td>12</td>\n      <td>5</td>\n      <td>-12</td>\n      <td>True</td>\n      <td>180</td>\n      <td>0.300000</td>\n      <td>10</td>\n    </tr>\n    <tr>\n      <th>3</th>\n      <td>NaN</td>\n      <td>0</td>\n      <td>5409f11ce063da9c8b588a12</td>\n      <td>8</td>\n      <td>1</td>\n      <td>1</td>\n      <td>16</td>\n      <td>4</td>\n      <td>22</td>\n      <td>4</td>\n      <td>57</td>\n      <td>True</td>\n      <td>249</td>\n      <td>0.100000</td>\n      <td>10</td>\n    </tr>\n    <tr>\n      <th>4</th>\n      <td>NaN</td>\n      <td>0</td>\n      <td>5433e5decbb20f277b20eca9</td>\n      <td>9</td>\n      <td>1</td>\n      <td>1</td>\n      <td>13</td>\n      <td>4</td>\n      <td>25</td>\n      <td>0</td>\n      <td>60</td>\n      <td>True</td>\n      <td>354</td>\n      <td>0.200000</td>\n      <td>10</td>\n    </tr>\n    <tr>\n      <th>...</th>\n      <td>...</td>\n      <td>...</td>\n      <td>...</td>\n      <td>...</td>\n      <td>...</td>\n      <td>...</td>\n      <td>...</td>\n      <td>...</td>\n      <td>...</td>\n      <td>...</td>\n      <td>...</td>\n      <td>...</td>\n      <td>...</td>\n      <td>...</td>\n      <td>...</td>\n    </tr>\n    <tr>\n      <th>6995</th>\n      <td>2.354</td>\n      <td>128</td>\n      <td>5433e5decbb20f277b20eca9</td>\n      <td>1</td>\n      <td>1</td>\n      <td>1</td>\n      <td>19</td>\n      <td>2</td>\n      <td>4</td>\n      <td>4</td>\n      <td>-20</td>\n      <td>False</td>\n      <td>0</td>\n      <td>0.111111</td>\n      <td>9</td>\n    </tr>\n    <tr>\n      <th>6996</th>\n      <td>4.112</td>\n      <td>416</td>\n      <td>540d5eafcbb20f2524fc0509</td>\n      <td>7</td>\n      <td>1</td>\n      <td>1</td>\n      <td>23</td>\n      <td>5</td>\n      <td>22</td>\n      <td>6</td>\n      <td>87</td>\n      <td>False</td>\n      <td>270</td>\n      <td>0.300000</td>\n      <td>10</td>\n    </tr>\n    <tr>\n      <th>6997</th>\n      <td>5.125</td>\n      <td>0</td>\n      <td>5433e5decbb20f277b20eca9</td>\n      <td>5</td>\n      <td>0</td>\n      <td>0</td>\n      <td>0</td>\n      <td>3</td>\n      <td>31</td>\n      <td>3</td>\n      <td>35</td>\n      <td>False</td>\n      <td>119</td>\n      <td>0.142857</td>\n      <td>7</td>\n    </tr>\n    <tr>\n      <th>6998</th>\n      <td>NaN</td>\n      <td>0</td>\n      <td>5409f11ce063da9c8b588a13</td>\n      <td>7</td>\n      <td>1</td>\n      <td>1</td>\n      <td>2</td>\n      <td>5</td>\n      <td>5</td>\n      <td>3</td>\n      <td>70</td>\n      <td>True</td>\n      <td>232</td>\n      <td>0.200000</td>\n      <td>10</td>\n    </tr>\n    <tr>\n      <th>6999</th>\n      <td>2.937</td>\n      <td>316</td>\n      <td>5409f11ce063da9c8b588a12</td>\n      <td>6</td>\n      <td>1</td>\n      <td>1</td>\n      <td>6</td>\n      <td>5</td>\n      <td>14</td>\n      <td>5</td>\n      <td>79</td>\n      <td>False</td>\n      <td>320</td>\n      <td>0.272727</td>\n      <td>11</td>\n    </tr>\n  </tbody>\n</table>\n<p>6907 rows × 15 columns</p>\n</div>"
     },
     "execution_count": 435,
     "metadata": {},
     "output_type": "execute_result"
    }
   ],
   "source": [
    "train_features"
   ],
   "metadata": {
    "collapsed": false,
    "pycharm": {
     "name": "#%%\n"
    }
   }
  },
  {
   "cell_type": "code",
   "execution_count": 450,
   "outputs": [],
   "source": [
    "FeatureGenerator = Compose(\n",
    "        transforms=[\n",
    "            DatetimeTransformer(target_variable='views'),\n",
    "            TitleTransformer(),\n",
    "            CTRTransformer(),\n",
    "            TagsTransformer(target_variable='views'),\n",
    "            AuthorsTransformer(target_variable='views'),\n",
    "            TextTransformer(),\n",
    "            NatashaTextTransformer(),\n",
    "            CategoryTransformer(),\n",
    "            FeatureSelector()\n",
    "        ]\n",
    "    )"
   ],
   "metadata": {
    "collapsed": false,
    "pycharm": {
     "name": "#%%\n"
    }
   }
  },
  {
   "cell_type": "code",
   "execution_count": 462,
   "outputs": [],
   "source": [
    "train_features = FeatureGenerator(\n",
    "        data=train_data,\n",
    "        mode='train'\n",
    ")\n",
    "test_features = FeatureGenerator(\n",
    "    data=test_data,\n",
    "    mode='test'\n",
    ")"
   ],
   "metadata": {
    "collapsed": false,
    "pycharm": {
     "name": "#%%\n"
    }
   }
  },
  {
   "cell_type": "code",
   "execution_count": 463,
   "outputs": [
    {
     "name": "stdout",
     "output_type": "stream",
     "text": [
      "True\n",
      "(6907, 37) (6907, 128)\n",
      "True\n",
      "(2967, 34) (2967, 128)\n"
     ]
    }
   ],
   "source": [
    "        tfidf = TfidfVectorTransformer(\n",
    "            col='NAMES_FROM_TITLE',\n",
    "            tfidf_vectorizer=TfidfVectorizer(\n",
    "                ngram_range=(1, 4),\n",
    "                min_df=1,\n",
    "                max_features=128\n",
    "            )\n",
    "        )\n",
    "        tfidf.fit(train_data)\n",
    "        train_td = tfidf.transform(train_data)\n",
    "        test_td = tfidf.transform(test_data)\n",
    "        train_features = pd.concat([train_features, train_td], axis=1)\n",
    "        test_features = pd.concat([test_features, test_td], axis=1)"
   ],
   "metadata": {
    "collapsed": false,
    "pycharm": {
     "name": "#%%\n"
    }
   }
  },
  {
   "cell_type": "code",
   "execution_count": 466,
   "outputs": [
    {
     "name": "stdout",
     "output_type": "stream",
     "text": [
      "float64\n",
      "category\n",
      "category\n",
      "int64\n",
      "int64\n",
      "int64\n",
      "int64\n",
      "int64\n",
      "int64\n",
      "int64\n",
      "int64\n",
      "bool\n",
      "float64\n",
      "float64\n",
      "float64\n",
      "float64\n",
      "float64\n",
      "float64\n",
      "float64\n",
      "float64\n",
      "float64\n",
      "int64\n",
      "float64\n",
      "int64\n",
      "object\n",
      "object\n",
      "object\n",
      "float64\n",
      "datetime64[ns]\n",
      "object\n",
      "object\n",
      "object\n",
      "object\n",
      "object\n",
      "object\n",
      "object\n",
      "object\n",
      "object\n",
      "object\n",
      "object\n",
      "object\n",
      "object\n",
      "int64\n",
      "int64\n",
      "object\n",
      "int64\n",
      "object\n",
      "object\n",
      "object\n",
      "object\n",
      "object\n",
      "object\n",
      "object\n",
      "int64\n",
      "float64\n",
      "float64\n",
      "object\n",
      "object\n",
      "object\n",
      "object\n",
      "object\n",
      "Sparse[float64, 0]\n",
      "Sparse[float64, 0]\n",
      "Sparse[float64, 0]\n",
      "Sparse[float64, 0]\n",
      "Sparse[float64, 0]\n",
      "Sparse[float64, 0]\n",
      "Sparse[float64, 0]\n",
      "Sparse[float64, 0]\n",
      "Sparse[float64, 0]\n",
      "Sparse[float64, 0]\n",
      "Sparse[float64, 0]\n",
      "Sparse[float64, 0]\n",
      "Sparse[float64, 0]\n",
      "Sparse[float64, 0]\n",
      "Sparse[float64, 0]\n",
      "Sparse[float64, 0]\n",
      "Sparse[float64, 0]\n",
      "Sparse[float64, 0]\n",
      "Sparse[float64, 0]\n",
      "Sparse[float64, 0]\n",
      "Sparse[float64, 0]\n",
      "Sparse[float64, 0]\n",
      "Sparse[float64, 0]\n",
      "Sparse[float64, 0]\n",
      "Sparse[float64, 0]\n",
      "Sparse[float64, 0]\n",
      "Sparse[float64, 0]\n",
      "Sparse[float64, 0]\n",
      "Sparse[float64, 0]\n",
      "Sparse[float64, 0]\n",
      "Sparse[float64, 0]\n",
      "Sparse[float64, 0]\n",
      "Sparse[float64, 0]\n",
      "Sparse[float64, 0]\n",
      "Sparse[float64, 0]\n",
      "Sparse[float64, 0]\n",
      "Sparse[float64, 0]\n",
      "Sparse[float64, 0]\n",
      "Sparse[float64, 0]\n",
      "Sparse[float64, 0]\n",
      "Sparse[float64, 0]\n",
      "Sparse[float64, 0]\n",
      "Sparse[float64, 0]\n",
      "Sparse[float64, 0]\n",
      "Sparse[float64, 0]\n",
      "Sparse[float64, 0]\n",
      "Sparse[float64, 0]\n",
      "Sparse[float64, 0]\n",
      "Sparse[float64, 0]\n",
      "Sparse[float64, 0]\n",
      "Sparse[float64, 0]\n",
      "Sparse[float64, 0]\n",
      "Sparse[float64, 0]\n",
      "Sparse[float64, 0]\n",
      "Sparse[float64, 0]\n",
      "Sparse[float64, 0]\n",
      "Sparse[float64, 0]\n",
      "Sparse[float64, 0]\n",
      "Sparse[float64, 0]\n",
      "Sparse[float64, 0]\n",
      "Sparse[float64, 0]\n",
      "Sparse[float64, 0]\n",
      "Sparse[float64, 0]\n",
      "Sparse[float64, 0]\n",
      "Sparse[float64, 0]\n",
      "Sparse[float64, 0]\n",
      "Sparse[float64, 0]\n",
      "Sparse[float64, 0]\n",
      "Sparse[float64, 0]\n",
      "Sparse[float64, 0]\n",
      "Sparse[float64, 0]\n",
      "Sparse[float64, 0]\n",
      "Sparse[float64, 0]\n",
      "Sparse[float64, 0]\n",
      "Sparse[float64, 0]\n",
      "Sparse[float64, 0]\n",
      "Sparse[float64, 0]\n",
      "Sparse[float64, 0]\n",
      "Sparse[float64, 0]\n",
      "Sparse[float64, 0]\n",
      "Sparse[float64, 0]\n",
      "Sparse[float64, 0]\n",
      "Sparse[float64, 0]\n",
      "Sparse[float64, 0]\n",
      "Sparse[float64, 0]\n",
      "Sparse[float64, 0]\n",
      "Sparse[float64, 0]\n",
      "Sparse[float64, 0]\n",
      "Sparse[float64, 0]\n",
      "Sparse[float64, 0]\n",
      "Sparse[float64, 0]\n",
      "Sparse[float64, 0]\n",
      "Sparse[float64, 0]\n",
      "Sparse[float64, 0]\n",
      "Sparse[float64, 0]\n",
      "Sparse[float64, 0]\n",
      "Sparse[float64, 0]\n",
      "Sparse[float64, 0]\n",
      "Sparse[float64, 0]\n",
      "Sparse[float64, 0]\n",
      "Sparse[float64, 0]\n",
      "Sparse[float64, 0]\n",
      "Sparse[float64, 0]\n",
      "Sparse[float64, 0]\n",
      "Sparse[float64, 0]\n",
      "Sparse[float64, 0]\n",
      "Sparse[float64, 0]\n",
      "Sparse[float64, 0]\n",
      "Sparse[float64, 0]\n",
      "Sparse[float64, 0]\n",
      "Sparse[float64, 0]\n",
      "Sparse[float64, 0]\n",
      "Sparse[float64, 0]\n",
      "Sparse[float64, 0]\n",
      "Sparse[float64, 0]\n",
      "Sparse[float64, 0]\n",
      "Sparse[float64, 0]\n",
      "Sparse[float64, 0]\n",
      "Sparse[float64, 0]\n",
      "Sparse[float64, 0]\n",
      "Sparse[float64, 0]\n",
      "Sparse[float64, 0]\n",
      "Sparse[float64, 0]\n",
      "Sparse[float64, 0]\n",
      "Sparse[float64, 0]\n",
      "Sparse[float64, 0]\n",
      "Sparse[float64, 0]\n",
      "Sparse[float64, 0]\n"
     ]
    }
   ],
   "source": [
    "for i in train_features.dtypes:\n",
    "    print(i)"
   ],
   "metadata": {
    "collapsed": false,
    "pycharm": {
     "name": "#%%\n"
    }
   }
  },
  {
   "cell_type": "code",
   "execution_count": 469,
   "outputs": [
    {
     "data": {
      "text/plain": "      std_authors_ctr  num_words_text  num_words_text_diff  num_words_title  \\\n0            2.958562             226             0.300000               10   \n1                 NaN             230             0.125000                8   \n2            2.958562             180             0.300000               10   \n3            2.958562             249             0.100000               10   \n4            2.958562             354             0.200000               10   \n...               ...             ...                  ...              ...   \n6995         2.469239               0             0.111111                9   \n6996              NaN             270             0.300000               10   \n6997         2.958562             119             0.142857                7   \n6998         2.958562             232             0.200000               10   \n6999         2.694058             320             0.272727               11   \n\n                                         document_id  \\\n0     624ac09c9a7947db3d80c98eIDE7mtH4RBqGn-8MXfGffQ   \n1     620f6b899a7947701cf489e1KtVJsteHStO5oditt3Uvzw   \n2     620730cf9a7947ab96a44e27hk7puWJwSziw0m3sfTkKWA   \n3     6262a5889a79470b78c9ca307UKY2SSZTjCcjhwBzxw37w   \n4     626678929a79477ca0101568wuMYES90REuV5YhrN75IXg   \n...                                              ...   \n6995  61fd479c9a7947848183694751RC_1i5QlGuv7B2FzwTjw   \n6996  628a8f1c9a79478c64a7dae450tIkSGVSf2O8XQgk_uaHQ   \n6997  6244cf5e9a79479099346b26tKlqoxQYSmij0ZBrGzebug   \n6998  627303699a794749b8116abc12JX_3ZDTDu2XHF3k2eJVg   \n6999  627f1c089a794743b070ff73hVvdVmFxS2SlZ2_lECDEow   \n\n                       page_id                 session    ctr  \\\n0     624ac09c9a7947db3d80c98e  IDE7mtH4RBqGn-8MXfGffQ  1.580   \n1     620f6b899a7947701cf489e1  KtVJsteHStO5oditt3Uvzw  1.853   \n2     620730cf9a7947ab96a44e27  hk7puWJwSziw0m3sfTkKWA    NaN   \n3     6262a5889a79470b78c9ca30  7UKY2SSZTjCcjhwBzxw37w    NaN   \n4     626678929a79477ca0101568  wuMYES90REuV5YhrN75IXg    NaN   \n...                        ...                     ...    ...   \n6995  61fd479c9a79478481836947  51RC_1i5QlGuv7B2FzwTjw  2.354   \n6996  628a8f1c9a79478c64a7dae4  50tIkSGVSf2O8XQgk_uaHQ  4.112   \n6997  6244cf5e9a79479099346b26  tKlqoxQYSmij0ZBrGzebug  5.125   \n6998  627303699a794749b8116abc  12JX_3ZDTDu2XHF3k2eJVg    NaN   \n6999  627f1c089a794743b070ff73  hVvdVmFxS2SlZ2_lECDEow  2.937   \n\n            publish_date                                              title  \\\n0    2022-04-04 10:29:44  Европейский банк развития приостановил доступ ...   \n1    2022-02-18 10:00:39  Кремль назвал регулярным процессом учебные зап...   \n2    2022-02-12 04:24:02  Госсекретарь Швеции заявила о нежелании вступа...   \n3    2022-04-22 13:24:55  Песков назвал прагматичной выдачу лицензии Газ...   \n4    2022-04-25 10:42:23  В Хабаровске задержали главу филиала РАНХиГС п...   \n...                  ...                                                ...   \n6995 2022-02-04 16:19:09  Открытие Олимпиады, новые китайские контракты ...   \n6996 2022-05-22 20:07:46  Саудовская Аравия выразила надежду на соглашен...   \n6997 2022-03-30 21:59:02  Брюс Уиллис завершит актерскую карьеру из-за б...   \n6998 2022-05-04 23:15:48  Экс-посол Франции назвал болезненным для Европ...   \n6999 2022-05-14 03:41:33  Минфин США предостерег зарубежные банки от пом...   \n\n      ... names_from_title_цб names_from_title_швеция names_from_title_шойгу  \\\n0     ...                 0.0                0.000000                    0.0   \n1     ...                 0.0                0.000000                    0.0   \n2     ...                 0.0                0.574208                    0.0   \n3     ...                 0.0                0.000000                    0.0   \n4     ...                 0.0                0.000000                    0.0   \n...   ...                 ...                     ...                    ...   \n6995  ...                 0.0                0.000000                    0.0   \n6996  ...                 0.0                0.000000                    0.0   \n6997  ...                 0.0                0.000000                    0.0   \n6998  ...                 0.0                0.000000                    0.0   \n6999  ...                 0.0                0.000000                    0.0   \n\n     names_from_title_шолец names_from_title_шольц names_from_title_эрдоган  \\\n0                       0.0                    0.0                      0.0   \n1                       0.0                    0.0                      0.0   \n2                       0.0                    0.0                      0.0   \n3                       0.0                    0.0                      0.0   \n4                       0.0                    0.0                      0.0   \n...                     ...                    ...                      ...   \n6995                    0.0                    0.0                      0.0   \n6996                    0.0                    0.0                      0.0   \n6997                    0.0                    0.0                      0.0   \n6998                    0.0                    0.0                      0.0   \n6999                    0.0                    0.0                      0.0   \n\n     names_from_title_южная names_from_title_южная осетия  \\\n0                       0.0                           0.0   \n1                       0.0                           0.0   \n2                       0.0                           0.0   \n3                       0.0                           0.0   \n4                       0.0                           0.0   \n...                     ...                           ...   \n6995                    0.0                           0.0   \n6996                    0.0                           0.0   \n6997                    0.0                           0.0   \n6998                    0.0                           0.0   \n6999                    0.0                           0.0   \n\n     names_from_title_яндекс names_from_title_япония  \n0                        0.0                     0.0  \n1                        0.0                     0.0  \n2                        0.0                     0.0  \n3                        0.0                     0.0  \n4                        0.0                     0.0  \n...                      ...                     ...  \n6995                     0.0                     0.0  \n6996                     0.0                     0.0  \n6997                     0.0                     0.0  \n6998                     0.0                     0.0  \n6999                     0.0                     0.0  \n\n[6907 rows x 169 columns]",
      "text/html": "<div>\n<style scoped>\n    .dataframe tbody tr th:only-of-type {\n        vertical-align: middle;\n    }\n\n    .dataframe tbody tr th {\n        vertical-align: top;\n    }\n\n    .dataframe thead th {\n        text-align: right;\n    }\n</style>\n<table border=\"1\" class=\"dataframe\">\n  <thead>\n    <tr style=\"text-align: right;\">\n      <th></th>\n      <th>std_authors_ctr</th>\n      <th>num_words_text</th>\n      <th>num_words_text_diff</th>\n      <th>num_words_title</th>\n      <th>document_id</th>\n      <th>page_id</th>\n      <th>session</th>\n      <th>ctr</th>\n      <th>publish_date</th>\n      <th>title</th>\n      <th>...</th>\n      <th>names_from_title_цб</th>\n      <th>names_from_title_швеция</th>\n      <th>names_from_title_шойгу</th>\n      <th>names_from_title_шолец</th>\n      <th>names_from_title_шольц</th>\n      <th>names_from_title_эрдоган</th>\n      <th>names_from_title_южная</th>\n      <th>names_from_title_южная осетия</th>\n      <th>names_from_title_яндекс</th>\n      <th>names_from_title_япония</th>\n    </tr>\n  </thead>\n  <tbody>\n    <tr>\n      <th>0</th>\n      <td>2.958562</td>\n      <td>226</td>\n      <td>0.300000</td>\n      <td>10</td>\n      <td>624ac09c9a7947db3d80c98eIDE7mtH4RBqGn-8MXfGffQ</td>\n      <td>624ac09c9a7947db3d80c98e</td>\n      <td>IDE7mtH4RBqGn-8MXfGffQ</td>\n      <td>1.580</td>\n      <td>2022-04-04 10:29:44</td>\n      <td>Европейский банк развития приостановил доступ ...</td>\n      <td>...</td>\n      <td>0.0</td>\n      <td>0.000000</td>\n      <td>0.0</td>\n      <td>0.0</td>\n      <td>0.0</td>\n      <td>0.0</td>\n      <td>0.0</td>\n      <td>0.0</td>\n      <td>0.0</td>\n      <td>0.0</td>\n    </tr>\n    <tr>\n      <th>1</th>\n      <td>NaN</td>\n      <td>230</td>\n      <td>0.125000</td>\n      <td>8</td>\n      <td>620f6b899a7947701cf489e1KtVJsteHStO5oditt3Uvzw</td>\n      <td>620f6b899a7947701cf489e1</td>\n      <td>KtVJsteHStO5oditt3Uvzw</td>\n      <td>1.853</td>\n      <td>2022-02-18 10:00:39</td>\n      <td>Кремль назвал регулярным процессом учебные зап...</td>\n      <td>...</td>\n      <td>0.0</td>\n      <td>0.000000</td>\n      <td>0.0</td>\n      <td>0.0</td>\n      <td>0.0</td>\n      <td>0.0</td>\n      <td>0.0</td>\n      <td>0.0</td>\n      <td>0.0</td>\n      <td>0.0</td>\n    </tr>\n    <tr>\n      <th>2</th>\n      <td>2.958562</td>\n      <td>180</td>\n      <td>0.300000</td>\n      <td>10</td>\n      <td>620730cf9a7947ab96a44e27hk7puWJwSziw0m3sfTkKWA</td>\n      <td>620730cf9a7947ab96a44e27</td>\n      <td>hk7puWJwSziw0m3sfTkKWA</td>\n      <td>NaN</td>\n      <td>2022-02-12 04:24:02</td>\n      <td>Госсекретарь Швеции заявила о нежелании вступа...</td>\n      <td>...</td>\n      <td>0.0</td>\n      <td>0.574208</td>\n      <td>0.0</td>\n      <td>0.0</td>\n      <td>0.0</td>\n      <td>0.0</td>\n      <td>0.0</td>\n      <td>0.0</td>\n      <td>0.0</td>\n      <td>0.0</td>\n    </tr>\n    <tr>\n      <th>3</th>\n      <td>2.958562</td>\n      <td>249</td>\n      <td>0.100000</td>\n      <td>10</td>\n      <td>6262a5889a79470b78c9ca307UKY2SSZTjCcjhwBzxw37w</td>\n      <td>6262a5889a79470b78c9ca30</td>\n      <td>7UKY2SSZTjCcjhwBzxw37w</td>\n      <td>NaN</td>\n      <td>2022-04-22 13:24:55</td>\n      <td>Песков назвал прагматичной выдачу лицензии Газ...</td>\n      <td>...</td>\n      <td>0.0</td>\n      <td>0.000000</td>\n      <td>0.0</td>\n      <td>0.0</td>\n      <td>0.0</td>\n      <td>0.0</td>\n      <td>0.0</td>\n      <td>0.0</td>\n      <td>0.0</td>\n      <td>0.0</td>\n    </tr>\n    <tr>\n      <th>4</th>\n      <td>2.958562</td>\n      <td>354</td>\n      <td>0.200000</td>\n      <td>10</td>\n      <td>626678929a79477ca0101568wuMYES90REuV5YhrN75IXg</td>\n      <td>626678929a79477ca0101568</td>\n      <td>wuMYES90REuV5YhrN75IXg</td>\n      <td>NaN</td>\n      <td>2022-04-25 10:42:23</td>\n      <td>В Хабаровске задержали главу филиала РАНХиГС п...</td>\n      <td>...</td>\n      <td>0.0</td>\n      <td>0.000000</td>\n      <td>0.0</td>\n      <td>0.0</td>\n      <td>0.0</td>\n      <td>0.0</td>\n      <td>0.0</td>\n      <td>0.0</td>\n      <td>0.0</td>\n      <td>0.0</td>\n    </tr>\n    <tr>\n      <th>...</th>\n      <td>...</td>\n      <td>...</td>\n      <td>...</td>\n      <td>...</td>\n      <td>...</td>\n      <td>...</td>\n      <td>...</td>\n      <td>...</td>\n      <td>...</td>\n      <td>...</td>\n      <td>...</td>\n      <td>...</td>\n      <td>...</td>\n      <td>...</td>\n      <td>...</td>\n      <td>...</td>\n      <td>...</td>\n      <td>...</td>\n      <td>...</td>\n      <td>...</td>\n      <td>...</td>\n    </tr>\n    <tr>\n      <th>6995</th>\n      <td>2.469239</td>\n      <td>0</td>\n      <td>0.111111</td>\n      <td>9</td>\n      <td>61fd479c9a7947848183694751RC_1i5QlGuv7B2FzwTjw</td>\n      <td>61fd479c9a79478481836947</td>\n      <td>51RC_1i5QlGuv7B2FzwTjw</td>\n      <td>2.354</td>\n      <td>2022-02-04 16:19:09</td>\n      <td>Открытие Олимпиады, новые китайские контракты ...</td>\n      <td>...</td>\n      <td>0.0</td>\n      <td>0.000000</td>\n      <td>0.0</td>\n      <td>0.0</td>\n      <td>0.0</td>\n      <td>0.0</td>\n      <td>0.0</td>\n      <td>0.0</td>\n      <td>0.0</td>\n      <td>0.0</td>\n    </tr>\n    <tr>\n      <th>6996</th>\n      <td>NaN</td>\n      <td>270</td>\n      <td>0.300000</td>\n      <td>10</td>\n      <td>628a8f1c9a79478c64a7dae450tIkSGVSf2O8XQgk_uaHQ</td>\n      <td>628a8f1c9a79478c64a7dae4</td>\n      <td>50tIkSGVSf2O8XQgk_uaHQ</td>\n      <td>4.112</td>\n      <td>2022-05-22 20:07:46</td>\n      <td>Саудовская Аравия выразила надежду на соглашен...</td>\n      <td>...</td>\n      <td>0.0</td>\n      <td>0.000000</td>\n      <td>0.0</td>\n      <td>0.0</td>\n      <td>0.0</td>\n      <td>0.0</td>\n      <td>0.0</td>\n      <td>0.0</td>\n      <td>0.0</td>\n      <td>0.0</td>\n    </tr>\n    <tr>\n      <th>6997</th>\n      <td>2.958562</td>\n      <td>119</td>\n      <td>0.142857</td>\n      <td>7</td>\n      <td>6244cf5e9a79479099346b26tKlqoxQYSmij0ZBrGzebug</td>\n      <td>6244cf5e9a79479099346b26</td>\n      <td>tKlqoxQYSmij0ZBrGzebug</td>\n      <td>5.125</td>\n      <td>2022-03-30 21:59:02</td>\n      <td>Брюс Уиллис завершит актерскую карьеру из-за б...</td>\n      <td>...</td>\n      <td>0.0</td>\n      <td>0.000000</td>\n      <td>0.0</td>\n      <td>0.0</td>\n      <td>0.0</td>\n      <td>0.0</td>\n      <td>0.0</td>\n      <td>0.0</td>\n      <td>0.0</td>\n      <td>0.0</td>\n    </tr>\n    <tr>\n      <th>6998</th>\n      <td>2.958562</td>\n      <td>232</td>\n      <td>0.200000</td>\n      <td>10</td>\n      <td>627303699a794749b8116abc12JX_3ZDTDu2XHF3k2eJVg</td>\n      <td>627303699a794749b8116abc</td>\n      <td>12JX_3ZDTDu2XHF3k2eJVg</td>\n      <td>NaN</td>\n      <td>2022-05-04 23:15:48</td>\n      <td>Экс-посол Франции назвал болезненным для Европ...</td>\n      <td>...</td>\n      <td>0.0</td>\n      <td>0.000000</td>\n      <td>0.0</td>\n      <td>0.0</td>\n      <td>0.0</td>\n      <td>0.0</td>\n      <td>0.0</td>\n      <td>0.0</td>\n      <td>0.0</td>\n      <td>0.0</td>\n    </tr>\n    <tr>\n      <th>6999</th>\n      <td>2.694058</td>\n      <td>320</td>\n      <td>0.272727</td>\n      <td>11</td>\n      <td>627f1c089a794743b070ff73hVvdVmFxS2SlZ2_lECDEow</td>\n      <td>627f1c089a794743b070ff73</td>\n      <td>hVvdVmFxS2SlZ2_lECDEow</td>\n      <td>2.937</td>\n      <td>2022-05-14 03:41:33</td>\n      <td>Минфин США предостерег зарубежные банки от пом...</td>\n      <td>...</td>\n      <td>0.0</td>\n      <td>0.000000</td>\n      <td>0.0</td>\n      <td>0.0</td>\n      <td>0.0</td>\n      <td>0.0</td>\n      <td>0.0</td>\n      <td>0.0</td>\n      <td>0.0</td>\n      <td>0.0</td>\n    </tr>\n  </tbody>\n</table>\n<p>6907 rows × 169 columns</p>\n</div>"
     },
     "execution_count": 469,
     "metadata": {},
     "output_type": "execute_result"
    }
   ],
   "source": [
    "train_features.iloc[:, 20:]"
   ],
   "metadata": {
    "collapsed": false,
    "pycharm": {
     "name": "#%%\n"
    }
   }
  },
  {
   "cell_type": "code",
   "execution_count": 490,
   "id": "secondary-vulnerability",
   "metadata": {
    "scrolled": false,
    "pycharm": {
     "name": "#%%\n"
    }
   },
   "outputs": [
    {
     "name": "stdout",
     "output_type": "stream",
     "text": [
      "True\n",
      "(6907, 37) (6907, 128)\n",
      "True\n",
      "(2967, 34) (2967, 128)\n",
      "views:  0.7091144979974041\n"
     ]
    },
    {
     "data": {
      "text/plain": "<Figure size 1152x720 with 1 Axes>",
      "image/png": "[encoded data removed]"
     },
     "metadata": {},
     "output_type": "display_data"
    },
    {
     "name": "stdout",
     "output_type": "stream",
     "text": [
      "depth:  0.8390469753388962\n"
     ]
    },
    {
     "data": {
      "text/plain": "<Figure size 1152x720 with 1 Axes>",
      "image/png": "[encoded data removed]"
     },
     "metadata": {},
     "output_type": "display_data"
    },
    {
     "name": "stdout",
     "output_type": "stream",
     "text": [
      "full_reads_percent:  0.5600379212912708\n"
     ]
    },
    {
     "data": {
      "text/plain": "<Figure size 1152x720 with 1 Axes>",
      "image/png": "[encoded data removed]"
     },
     "metadata": {},
     "output_type": "display_data"
    },
    {
     "name": "stdout",
     "output_type": "stream",
     "text": [
      "Final score: 0.7033712681880118, median: 0.7027402917247529\n"
     ]
    }
   ],
   "source": [
    "result_dict = {\n",
    "    'views': {'r2': [], 'trees': [], 'prediction': []},\n",
    "    'full_reads_percent': {'r2': [], 'trees': [], 'prediction': []},\n",
    "    'depth': {'r2': [], 'trees': [], 'prediction': []}\n",
    "}\n",
    "for target_variable in FeaturesConstants.target:\n",
    "    FeatureGenerator = Compose(\n",
    "        transforms=[\n",
    "            DatetimeTransformer(\n",
    "                target_variable=target_variable\n",
    "            ),\n",
    "            TitleTransformer(),\n",
    "            CTRTransformer(\n",
    "                eps=(\n",
    "                    0.1 \n",
    "                    if target_variable == 'views' \n",
    "                    else 0.5\n",
    "                )\n",
    "            ),\n",
    "            TagsTransformer(target_variable=target_variable),\n",
    "            AuthorsTransformer(\n",
    "                target_variable=target_variable\n",
    "            ),\n",
    "            TextTransformer(\n",
    "                use_text_transformer=(\n",
    "                    target_variable \n",
    "                    if target_variable == 'full_reads_percent' \n",
    "                    else None\n",
    "                )\n",
    "            ),\n",
    "            NatashaTextTransformer(),\n",
    "            CategoryTransformer(),\n",
    "            FeatureSelector()\n",
    "        ]\n",
    "    )\n",
    "    train_features = FeatureGenerator(\n",
    "        data=train_data,\n",
    "        mode='train'\n",
    "    )\n",
    "    test_features = FeatureGenerator(\n",
    "        data=test_data,\n",
    "        mode='test'\n",
    "    )\n",
    "    if target_variable == 'views':\n",
    "        tfidf = TfidfVectorTransformer(\n",
    "            col='NAMES_FROM_TITLE',\n",
    "            tfidf_vectorizer=TfidfVectorizer(\n",
    "                ngram_range=(1, 4),\n",
    "                min_df=1,\n",
    "                max_features=128\n",
    "            )\n",
    "        )\n",
    "        tfidf.fit(train_data)\n",
    "        train_td = tfidf.transform(train_data)\n",
    "        test_td = tfidf.transform(test_data)\n",
    "        train_features = pd.concat([train_features, train_td], axis=1)\n",
    "        test_features = pd.concat([test_features, test_td], axis=1)\n",
    "\n",
    "    # if target_variable != 'd':\n",
    "    #     for i in ['PER_TITLE', 'ORG_TITLE', 'LOC_TITLE', 'authors_parsed']:\n",
    "    #         tfidf = CountTfIdfVectorizer(\n",
    "    #             col=i,\n",
    "    #             count_vectorizer=CountVectorizer(\n",
    "    #                 ngram_range=(1, 2)\n",
    "    #             )\n",
    "    #         )\n",
    "    #         tfidf.fit(train_data)\n",
    "    #         train_features[f'{i}_popularity'] = tfidf.transform(train_data)\n",
    "    #         test_features[f'{i}_popularity'] = tfidf.transform(test_data)\n",
    "        # tfidf = TfidfVectorTransformer(\n",
    "        #     col='NAMES_FROM_TITLE',\n",
    "        #     tfidf_vectorizer=TfidfVectorizer(\n",
    "        #         ngram_range=(1, 4),\n",
    "        #         min_df=1,\n",
    "        #         max_features=128\n",
    "        #     )\n",
    "        # )\n",
    "        # tfidf.fit(train_data)\n",
    "        # train_dd = tfidf.transform(train_data)\n",
    "        # test_dd = tfidf.transform(test_data)\n",
    "        # train_features = pd.concat([train_features, train_dd], axis=1)\n",
    "        # test_features = pd.concat([test_features, test_dd], axis=1)\n",
    "\n",
    "    if target_variable == 'full_reads_percent':\n",
    "        m = MultiLabelTransformer(col='authors_parsed')\n",
    "        m.fit(train_data)\n",
    "        train_author = m.transform(train_data)\n",
    "        test_author = m.transform(test_data)\n",
    "        train_features = pd.concat(\n",
    "            [train_features, train_author],\n",
    "            axis=1\n",
    "        )\n",
    "        test_features = pd.concat(\n",
    "            [test_features, test_author],\n",
    "            axis=1\n",
    "        )\n",
    "\n",
    "    # if target_variable != 'full_reads_percent':\n",
    "    #     tfidf = TfidfVectorTransformer(\n",
    "    #         col='tags_parsed',\n",
    "    #         tfidf_vectorizer=TfidfVectorizer(\n",
    "    #             ngram_range=(1, 4),\n",
    "    #             max_features=256,\n",
    "    #             min_df=5\n",
    "    #         )\n",
    "    #     )\n",
    "    #     tfidf.fit(train_data)\n",
    "    #     train_dd = tfidf.transform(train_data)\n",
    "    #     test_dd = tfidf.transform(test_data)\n",
    "    #     train_features = pd.concat([train_features, train_dd], axis=1)\n",
    "    #     test_features = pd.concat([test_features, test_dd], axis=1)\n",
    "    #\n",
    "    #     cec = CountTfIdfVectorizer(\n",
    "    #         col='authors_parsed',\n",
    "    #         count_vectorizer=CountVectorizer(\n",
    "    #             ngram_range=(2, 2),\n",
    "    #             min_df=2\n",
    "    #         )\n",
    "    #     )\n",
    "    #     cec.fit(td)\n",
    "    #     train_features['author_popularity'] = cec.transform(td)\n",
    "    #     test_features['author_popularity'] = cec.transform(test_data)\n",
    "\n",
    "    for train_index, val_index in kfold.split(train_features):\n",
    "\n",
    "        X_train, X_valid = (\n",
    "            train_features.reset_index(drop=True).iloc[train_index, :], \n",
    "            train_features.reset_index(drop=True).iloc[val_index, :]\n",
    "        )\n",
    "        y_train, y_valid = (\n",
    "            y_data[target_variable].reset_index(drop=True).iloc[train_index],\n",
    "            y_data[target_variable].reset_index(drop=True).iloc[val_index]\n",
    "        )\n",
    "        if target_variable == 'views':\n",
    "            y_train = np.log(y_train)\n",
    "            y_valid = np.log(y_valid)\n",
    "        elif target_variable == 'depth':\n",
    "            y_train = np.log(np.log(y_train))\n",
    "            y_valid = np.log(np.log(y_valid))\n",
    "        else:\n",
    "            y_train = np.log(y_train)\n",
    "            y_valid = np.log(y_valid)\n",
    "                    \n",
    "        lgbm_regressor = lgb.LGBMRegressor(\n",
    "            objective='regression',\n",
    "            random_state=33,\n",
    "            early_stopping_round=100, \n",
    "            n_estimators=500,\n",
    "            subsample=1,\n",
    "            colsample_bytree=0.75,\n",
    "            learning_rate=0.08,\n",
    "            max_depth=-1,\n",
    "            verbose=-1\n",
    "        )\n",
    "        lgbm_regressor.fit(\n",
    "            X_train, \n",
    "            y_train, \n",
    "            eval_set=[(X_valid, y_valid)],\n",
    "            eval_metric='r2',\n",
    "            verbose=-1\n",
    "        )\n",
    "\n",
    "        y_pred = lgbm_regressor.predict(X_valid)\n",
    "        r2 = r2_score(y_valid, y_pred)\n",
    "        result_dict[target_variable]['r2'].append(r2)\n",
    "        result_dict[target_variable]['trees'].append(lgbm_regressor.booster_.trees_to_dataframe())\n",
    "\n",
    "        \n",
    "        pro = lgbm_regressor.predict(test_features)\n",
    "        if target_variable == 'views':\n",
    "            pro = np.exp(pro)\n",
    "        elif target_variable == 'depth':\n",
    "            pro = np.exp(np.exp(pro))\n",
    "        else:\n",
    "            pro = np.exp(pro)\n",
    "        assert len(pro[pro < 0]) == 0\n",
    "        result_dict[target_variable]['prediction'].append(pro)\n",
    "    print(f'{target_variable}: ', np.mean(result_dict[target_variable]['r2']))\n",
    "    plotImp(lgbm_regressor, train_features, num=20, fig_size=(16, 10))\n",
    "\n",
    "full_score = (\n",
    "    np.mean(result_dict['views']['r2']) * 0.4 + \n",
    "    np.mean(result_dict['full_reads_percent']['r2']) * 0.3 + \n",
    "    np.mean(result_dict['depth']['r2']) * 0.3\n",
    ")\n",
    "full_score_2 = (\n",
    "    np.median(result_dict['views']['r2']) * 0.4 + \n",
    "    np.median(result_dict['full_reads_percent']['r2']) * 0.3 + \n",
    "    np.median(result_dict['depth']['r2']) * 0.3\n",
    ")\n",
    "print(f'Final score: {full_score}, median: {full_score_2}')"
   ]
  },
  {
   "cell_type": "markdown",
   "id": "authentic-marriage",
   "metadata": {
    "pycharm": {
     "name": "#%% md\n"
    }
   },
   "source": [
    "# Sub4 - best"
   ]
  },
  {
   "cell_type": "code",
   "execution_count": 491,
   "id": "seven-rabbit",
   "metadata": {
    "pycharm": {
     "name": "#%%\n"
    }
   },
   "outputs": [],
   "source": [
    "sub = pd.DataFrame(\n",
    "    {\n",
    "        'document_id': test_data['document_id'].values,\n",
    "        'views': pd.DataFrame(result_dict['views']['prediction']).T.median(axis=1),\n",
    "        'depth': pd.DataFrame(result_dict['depth']['prediction']).T.median(axis=1),\n",
    "        'full_reads_percent': pd.DataFrame(result_dict['full_reads_percent']['prediction']).T.median(axis=1),\n",
    "    },\n",
    ")\n",
    "sub.index = test_data.index"
   ]
  },
  {
   "cell_type": "code",
   "execution_count": 492,
   "id": "coastal-repeat",
   "metadata": {
    "pycharm": {
     "name": "#%%\n"
    }
   },
   "outputs": [],
   "source": [
    "sub_full = pd.concat((sub, exist_prediction)).sort_index()"
   ]
  },
  {
   "cell_type": "code",
   "execution_count": 493,
   "id": "ambient-karma",
   "metadata": {
    "pycharm": {
     "name": "#%%\n"
    }
   },
   "outputs": [],
   "source": [
    "ss = pd.read_csv('../sub/sample_solution.csv')"
   ]
  },
  {
   "cell_type": "code",
   "execution_count": 494,
   "id": "laughing-burlington",
   "metadata": {
    "pycharm": {
     "name": "#%%\n"
    }
   },
   "outputs": [],
   "source": [
    "sub_full_2 = pd.DataFrame(ss['document_id'])"
   ]
  },
  {
   "cell_type": "code",
   "execution_count": 495,
   "id": "worldwide-token",
   "metadata": {
    "pycharm": {
     "name": "#%%\n"
    }
   },
   "outputs": [],
   "source": [
    "views = []\n",
    "full_reads_percent = []\n",
    "depth = []\n",
    "for j, i in sub_full_2.iterrows():\n",
    "    dummy = sub_full[sub_full['document_id'] == i['document_id']]\n",
    "    views.append(dummy['views'].values[0])\n",
    "    full_reads_percent.append(dummy['full_reads_percent'].values[0])\n",
    "    depth.append(dummy['depth'].values[0])"
   ]
  },
  {
   "cell_type": "code",
   "execution_count": 496,
   "id": "spare-voice",
   "metadata": {
    "pycharm": {
     "name": "#%%\n"
    }
   },
   "outputs": [],
   "source": [
    "sub_full_2['views'] = views\n",
    "sub_full_2['full_reads_percent'] = full_reads_percent\n",
    "sub_full_2['depth'] = depth"
   ]
  },
  {
   "cell_type": "code",
   "execution_count": 497,
   "id": "general-debate",
   "metadata": {
    "pycharm": {
     "name": "#%%\n"
    }
   },
   "outputs": [],
   "source": [
    "sub_full_2.to_csv(SUB_DIR / 'good_night.csv', index=False)"
   ]
  },
  {
   "cell_type": "code",
   "execution_count": null,
   "id": "smooth-north",
   "metadata": {
    "pycharm": {
     "name": "#%%\n"
    }
   },
   "outputs": [],
   "source": []
  }
 ],
 "metadata": {
  "kernelspec": {
   "display_name": "rbk",
   "language": "python",
   "name": "rbk"
  },
  "language_info": {
   "codemirror_mode": {
    "name": "ipython",
    "version": 3
   },
   "file_extension": ".py",
   "mimetype": "text/x-python",
   "name": "python",
   "nbconvert_exporter": "python",
   "pygments_lexer": "ipython3",
   "version": "3.9.0"
  }
 },
 "nbformat": 4,
 "nbformat_minor": 5
}